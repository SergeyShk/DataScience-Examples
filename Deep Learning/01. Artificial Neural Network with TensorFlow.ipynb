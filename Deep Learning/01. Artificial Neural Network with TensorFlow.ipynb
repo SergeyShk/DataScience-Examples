{
 "cells": [
  {
   "cell_type": "markdown",
   "metadata": {},
   "source": [
    "# Artificial Neural Network with TensorFlow"
   ]
  },
  {
   "cell_type": "code",
   "execution_count": 1,
   "metadata": {},
   "outputs": [],
   "source": [
    "import numpy as np\n",
    "import matplotlib.pyplot as plt\n",
    "import tensorflow as tf"
   ]
  },
  {
   "cell_type": "markdown",
   "metadata": {},
   "source": [
    "## Data Loading"
   ]
  },
  {
   "cell_type": "code",
   "execution_count": 2,
   "metadata": {},
   "outputs": [],
   "source": [
    "(X_train, y_train), (X_test, y_test) = tf.keras.datasets.mnist.load_data()\n",
    "X_train = X_train.astype(np.float32).reshape(-1, 28 * 28) / 255\n",
    "X_test = X_test.astype(np.float32).reshape(-1, 28 * 28) / 255\n",
    "y_train = y_train.astype(np.int32)\n",
    "y_test = y_test.astype(np.int32)\n",
    "X_valid, X_train = X_train[: 5000], X_train[5000:]\n",
    "y_valid, y_train = y_train[: 5000], y_train[5000:]"
   ]
  },
  {
   "cell_type": "code",
   "execution_count": 3,
   "metadata": {},
   "outputs": [
    {
     "data": {
      "image/png": "[encoded data removed]",
      "text/plain": [
       "<Figure size 432x288 with 1 Axes>"
      ]
     },
     "metadata": {
      "needs_background": "light"
     },
     "output_type": "display_data"
    }
   ],
   "source": [
    "plt.imshow(X_train[777].reshape(28, 28));"
   ]
  },
  {
   "cell_type": "markdown",
   "metadata": {},
   "source": [
    "## Plain TensorFlow\n",
    "### Defining Parameters"
   ]
  },
  {
   "cell_type": "code",
   "execution_count": 5,
   "metadata": {},
   "outputs": [],
   "source": [
    "n_inputs = 28 * 28\n",
    "n_hidden1 = 300\n",
    "n_hidden2 = 100\n",
    "n_outputs = 10\n",
    "learning_rate = 0.01"
   ]
  },
  {
   "cell_type": "markdown",
   "metadata": {},
   "source": [
    "### Defining Placeholders"
   ]
  },
  {
   "cell_type": "code",
   "execution_count": 8,
   "metadata": {},
   "outputs": [],
   "source": [
    "tf.reset_default_graph()\n",
    "\n",
    "X = tf.placeholder(tf.float32, shape=(None, n_inputs), name='X')\n",
    "y = tf.placeholder(tf.int32, shape=(None), name='y')"
   ]
  },
  {
   "cell_type": "markdown",
   "metadata": {},
   "source": [
    "### Defining Layers"
   ]
  },
  {
   "cell_type": "code",
   "execution_count": 9,
   "metadata": {},
   "outputs": [],
   "source": [
    "def neuron_layer(X, n_neurons, name, activation=None):\n",
    "    with tf.name_scope(name):\n",
    "        n_inputs = int(X.get_shape()[1])\n",
    "        stddev = 2 / np.sqrt(n_inputs)\n",
    "        init = tf.truncated_normal((n_inputs, n_neurons), stddev=stddev)\n",
    "        W = tf.Variable(init, name='kernel')\n",
    "        b = tf.Variable(tf.zeros([n_neurons]), name='bias')\n",
    "        Z = tf.matmul(X, W) + b\n",
    "        if activation is not None:\n",
    "            return activation(Z)\n",
    "        else:\n",
    "            return Z"
   ]
  },
  {
   "cell_type": "code",
   "execution_count": 10,
   "metadata": {},
   "outputs": [],
   "source": [
    "with tf.name_scope('dnn'):\n",
    "    hidden1 = neuron_layer(X, n_hidden1, name='hidden1', activation=tf.nn.relu)\n",
    "    hidden2 = neuron_layer(hidden1, n_hidden2, name='hidden2', activation=tf.nn.relu)\n",
    "    logits = neuron_layer(hidden2, n_outputs, name='outputs')"
   ]
  },
  {
   "cell_type": "markdown",
   "metadata": {},
   "source": [
    "### Defining Loss Function"
   ]
  },
  {
   "cell_type": "code",
   "execution_count": 11,
   "metadata": {},
   "outputs": [],
   "source": [
    "with tf.name_scope('loss'):\n",
    "    xentropy = tf.nn.sparse_softmax_cross_entropy_with_logits(labels=y, logits=logits)\n",
    "    loss = tf.reduce_mean(xentropy, name='loss')"
   ]
  },
  {
   "cell_type": "markdown",
   "metadata": {},
   "source": [
    "### Training Model"
   ]
  },
  {
   "cell_type": "code",
   "execution_count": 12,
   "metadata": {},
   "outputs": [],
   "source": [
    "with tf.name_scope('train'):\n",
    "    optimizer = tf.train.GradientDescentOptimizer(learning_rate)\n",
    "    training_op = optimizer.minimize(loss)"
   ]
  },
  {
   "cell_type": "markdown",
   "metadata": {},
   "source": [
    "### Evaluating Model"
   ]
  },
  {
   "cell_type": "code",
   "execution_count": 13,
   "metadata": {},
   "outputs": [],
   "source": [
    "with tf.name_scope(\"eval\"):\n",
    "    correct = tf.nn.in_top_k(logits, y, 1)\n",
    "    accuracy = tf.reduce_mean(tf.cast(correct, tf.float32))"
   ]
  },
  {
   "cell_type": "markdown",
   "metadata": {},
   "source": [
    "### Running Model"
   ]
  },
  {
   "cell_type": "code",
   "execution_count": 14,
   "metadata": {},
   "outputs": [],
   "source": [
    "init = tf.global_variables_initializer()\n",
    "saver = tf.train.Saver()"
   ]
  },
  {
   "cell_type": "code",
   "execution_count": 15,
   "metadata": {},
   "outputs": [],
   "source": [
    "def shuffle_batch(X, y, batch_size):\n",
    "    rnd_idx = np.random.permutation(len(X))\n",
    "    n_batches = len(X) // batch_size\n",
    "    for batch_idx in np.array_split(rnd_idx, n_batches):\n",
    "        X_batch, y_batch = X[batch_idx], y[batch_idx]\n",
    "        yield X_batch, y_batch"
   ]
  },
  {
   "cell_type": "code",
   "execution_count": 16,
   "metadata": {},
   "outputs": [
    {
     "name": "stdout",
     "output_type": "stream",
     "text": [
      "0 Batch accuracy: 0.96 Val accuracy: 0.9152\n",
      "1 Batch accuracy: 0.98 Val accuracy: 0.934\n",
      "2 Batch accuracy: 0.92 Val accuracy: 0.9426\n",
      "3 Batch accuracy: 0.96 Val accuracy: 0.9514\n",
      "4 Batch accuracy: 0.94 Val accuracy: 0.9562\n",
      "5 Batch accuracy: 0.98 Val accuracy: 0.959\n",
      "6 Batch accuracy: 0.96 Val accuracy: 0.962\n",
      "7 Batch accuracy: 0.96 Val accuracy: 0.9646\n",
      "8 Batch accuracy: 0.94 Val accuracy: 0.9674\n",
      "9 Batch accuracy: 1.0 Val accuracy: 0.9676\n",
      "10 Batch accuracy: 0.92 Val accuracy: 0.9698\n",
      "11 Batch accuracy: 1.0 Val accuracy: 0.9702\n",
      "12 Batch accuracy: 0.98 Val accuracy: 0.9704\n",
      "13 Batch accuracy: 0.98 Val accuracy: 0.972\n",
      "14 Batch accuracy: 0.96 Val accuracy: 0.972\n",
      "15 Batch accuracy: 0.98 Val accuracy: 0.9728\n",
      "16 Batch accuracy: 0.98 Val accuracy: 0.9742\n",
      "17 Batch accuracy: 1.0 Val accuracy: 0.9748\n",
      "18 Batch accuracy: 1.0 Val accuracy: 0.9742\n",
      "19 Batch accuracy: 0.98 Val accuracy: 0.9748\n",
      "20 Batch accuracy: 0.98 Val accuracy: 0.9756\n",
      "21 Batch accuracy: 0.98 Val accuracy: 0.9756\n",
      "22 Batch accuracy: 0.98 Val accuracy: 0.9748\n",
      "23 Batch accuracy: 1.0 Val accuracy: 0.9756\n",
      "24 Batch accuracy: 1.0 Val accuracy: 0.976\n",
      "25 Batch accuracy: 1.0 Val accuracy: 0.9774\n",
      "26 Batch accuracy: 1.0 Val accuracy: 0.9768\n",
      "27 Batch accuracy: 1.0 Val accuracy: 0.9758\n",
      "28 Batch accuracy: 0.96 Val accuracy: 0.977\n",
      "29 Batch accuracy: 1.0 Val accuracy: 0.9764\n",
      "30 Batch accuracy: 1.0 Val accuracy: 0.9768\n",
      "31 Batch accuracy: 1.0 Val accuracy: 0.978\n",
      "32 Batch accuracy: 0.98 Val accuracy: 0.9772\n",
      "33 Batch accuracy: 1.0 Val accuracy: 0.977\n",
      "34 Batch accuracy: 1.0 Val accuracy: 0.9774\n",
      "35 Batch accuracy: 1.0 Val accuracy: 0.9778\n",
      "36 Batch accuracy: 1.0 Val accuracy: 0.9766\n",
      "37 Batch accuracy: 1.0 Val accuracy: 0.9772\n",
      "38 Batch accuracy: 1.0 Val accuracy: 0.9786\n",
      "39 Batch accuracy: 1.0 Val accuracy: 0.9778\n"
     ]
    }
   ],
   "source": [
    "n_epochs = 40\n",
    "batch_size = 50\n",
    "\n",
    "with tf.Session() as sess:\n",
    "    init.run()\n",
    "    for epoch in range(n_epochs):\n",
    "        for X_batch, y_batch in shuffle_batch(X_train, y_train, batch_size):\n",
    "            sess.run(training_op, feed_dict={X: X_batch, y: y_batch})\n",
    "        acc_batch = accuracy.eval(feed_dict={X: X_batch, y: y_batch})\n",
    "        acc_val = accuracy.eval(feed_dict={X: X_valid, y: y_valid})\n",
    "        print(epoch, 'Batch accuracy:', acc_batch, 'Val accuracy:', acc_val)\n",
    "\n",
    "    save_path = saver.save(sess, './Models/tf_plain_example.ckpt')"
   ]
  },
  {
   "cell_type": "markdown",
   "metadata": {},
   "source": [
    "### Predicting Data"
   ]
  },
  {
   "cell_type": "code",
   "execution_count": 17,
   "metadata": {},
   "outputs": [
    {
     "name": "stdout",
     "output_type": "stream",
     "text": [
      "INFO:tensorflow:Restoring parameters from ./tf_plain_example.ckpt\n"
     ]
    }
   ],
   "source": [
    "with tf.Session() as sess:\n",
    "    saver.restore(sess, save_path)\n",
    "    X_new_scaled = X_test[:20]\n",
    "    Z = logits.eval(feed_dict={X: X_new_scaled})\n",
    "    y_pred = np.argmax(Z, axis=1)"
   ]
  },
  {
   "cell_type": "code",
   "execution_count": 18,
   "metadata": {},
   "outputs": [
    {
     "name": "stdout",
     "output_type": "stream",
     "text": [
      "Predicted classes: [7 2 1 0 4 1 4 9 5 9 0 6 9 0 1 5 9 7 3 4]\n",
      "Actual classes:    [7 2 1 0 4 1 4 9 5 9 0 6 9 0 1 5 9 7 3 4]\n"
     ]
    }
   ],
   "source": [
    "print('Predicted classes:', y_pred)\n",
    "print('Actual classes:   ', y_test[:20])"
   ]
  },
  {
   "cell_type": "markdown",
   "metadata": {},
   "source": [
    "## Layers API\n",
    "### Defining Parameters"
   ]
  },
  {
   "cell_type": "code",
   "execution_count": 20,
   "metadata": {},
   "outputs": [],
   "source": [
    "n_inputs = 28 * 28\n",
    "n_hidden1 = 300\n",
    "n_hidden2 = 100\n",
    "n_outputs = 10\n",
    "learning_rate = 0.01"
   ]
  },
  {
   "cell_type": "markdown",
   "metadata": {},
   "source": [
    "### Defining Placeholders"
   ]
  },
  {
   "cell_type": "code",
   "execution_count": 21,
   "metadata": {},
   "outputs": [],
   "source": [
    "tf.reset_default_graph()\n",
    "\n",
    "X = tf.placeholder(tf.float32, shape=(None, n_inputs), name='X')\n",
    "y = tf.placeholder(tf.int32, shape=(None), name='y')"
   ]
  },
  {
   "cell_type": "markdown",
   "metadata": {},
   "source": [
    "### Defining Layers"
   ]
  },
  {
   "cell_type": "code",
   "execution_count": 22,
   "metadata": {},
   "outputs": [],
   "source": [
    "with tf.name_scope('dnn'):\n",
    "    hidden1 = tf.layers.dense(X, n_hidden1, name='hidden1', activation=tf.nn.relu)\n",
    "    hidden2 = tf.layers.dense(hidden1, n_hidden2, name='hidden2', activation=tf.nn.relu)\n",
    "    logits = tf.layers.dense(hidden2, n_outputs, name='outputs')\n",
    "    y_proba = tf.nn.softmax(logits)"
   ]
  },
  {
   "cell_type": "markdown",
   "metadata": {},
   "source": [
    "### Defining Loss Function"
   ]
  },
  {
   "cell_type": "code",
   "execution_count": 23,
   "metadata": {},
   "outputs": [],
   "source": [
    "with tf.name_scope('loss'):\n",
    "    xentropy = tf.nn.sparse_softmax_cross_entropy_with_logits(labels=y, logits=logits)\n",
    "    loss = tf.reduce_mean(xentropy, name='loss')"
   ]
  },
  {
   "cell_type": "markdown",
   "metadata": {},
   "source": [
    "### Training Model"
   ]
  },
  {
   "cell_type": "code",
   "execution_count": 24,
   "metadata": {},
   "outputs": [],
   "source": [
    "with tf.name_scope('train'):\n",
    "    optimizer = tf.train.GradientDescentOptimizer(learning_rate)\n",
    "    training_op = optimizer.minimize(loss)"
   ]
  },
  {
   "cell_type": "markdown",
   "metadata": {},
   "source": [
    "### Evaluating Model"
   ]
  },
  {
   "cell_type": "code",
   "execution_count": 25,
   "metadata": {},
   "outputs": [],
   "source": [
    "with tf.name_scope(\"eval\"):\n",
    "    correct = tf.nn.in_top_k(logits, y, 1)\n",
    "    accuracy = tf.reduce_mean(tf.cast(correct, tf.float32))"
   ]
  },
  {
   "cell_type": "markdown",
   "metadata": {},
   "source": [
    "### Running Model"
   ]
  },
  {
   "cell_type": "code",
   "execution_count": 26,
   "metadata": {},
   "outputs": [],
   "source": [
    "init = tf.global_variables_initializer()\n",
    "saver = tf.train.Saver()"
   ]
  },
  {
   "cell_type": "code",
   "execution_count": 27,
   "metadata": {},
   "outputs": [],
   "source": [
    "def shuffle_batch(X, y, batch_size):\n",
    "    rnd_idx = np.random.permutation(len(X))\n",
    "    n_batches = len(X) // batch_size\n",
    "    for batch_idx in np.array_split(rnd_idx, n_batches):\n",
    "        X_batch, y_batch = X[batch_idx], y[batch_idx]\n",
    "        yield X_batch, y_batch"
   ]
  },
  {
   "cell_type": "code",
   "execution_count": 28,
   "metadata": {},
   "outputs": [
    {
     "name": "stdout",
     "output_type": "stream",
     "text": [
      "0 Batch accuracy: 0.92 Val accuracy: 0.9056\n",
      "1 Batch accuracy: 0.94 Val accuracy: 0.9216\n",
      "2 Batch accuracy: 0.92 Val accuracy: 0.9334\n",
      "3 Batch accuracy: 0.98 Val accuracy: 0.939\n",
      "4 Batch accuracy: 0.98 Val accuracy: 0.9442\n",
      "5 Batch accuracy: 0.94 Val accuracy: 0.9524\n",
      "6 Batch accuracy: 0.96 Val accuracy: 0.9526\n",
      "7 Batch accuracy: 0.98 Val accuracy: 0.9574\n",
      "8 Batch accuracy: 0.92 Val accuracy: 0.96\n",
      "9 Batch accuracy: 1.0 Val accuracy: 0.9618\n",
      "10 Batch accuracy: 0.94 Val accuracy: 0.9654\n",
      "11 Batch accuracy: 0.98 Val accuracy: 0.9636\n",
      "12 Batch accuracy: 0.98 Val accuracy: 0.9664\n",
      "13 Batch accuracy: 0.96 Val accuracy: 0.9672\n",
      "14 Batch accuracy: 0.96 Val accuracy: 0.9684\n",
      "15 Batch accuracy: 1.0 Val accuracy: 0.9688\n",
      "16 Batch accuracy: 0.96 Val accuracy: 0.9714\n",
      "17 Batch accuracy: 1.0 Val accuracy: 0.971\n",
      "18 Batch accuracy: 1.0 Val accuracy: 0.9722\n",
      "19 Batch accuracy: 1.0 Val accuracy: 0.9732\n",
      "20 Batch accuracy: 1.0 Val accuracy: 0.9736\n",
      "21 Batch accuracy: 0.98 Val accuracy: 0.9748\n",
      "22 Batch accuracy: 1.0 Val accuracy: 0.9738\n",
      "23 Batch accuracy: 0.96 Val accuracy: 0.9748\n",
      "24 Batch accuracy: 1.0 Val accuracy: 0.975\n",
      "25 Batch accuracy: 1.0 Val accuracy: 0.9756\n",
      "26 Batch accuracy: 1.0 Val accuracy: 0.9754\n",
      "27 Batch accuracy: 1.0 Val accuracy: 0.977\n",
      "28 Batch accuracy: 1.0 Val accuracy: 0.9758\n",
      "29 Batch accuracy: 1.0 Val accuracy: 0.9766\n",
      "30 Batch accuracy: 1.0 Val accuracy: 0.9776\n",
      "31 Batch accuracy: 1.0 Val accuracy: 0.9768\n",
      "32 Batch accuracy: 1.0 Val accuracy: 0.9776\n",
      "33 Batch accuracy: 0.98 Val accuracy: 0.9776\n",
      "34 Batch accuracy: 1.0 Val accuracy: 0.9776\n",
      "35 Batch accuracy: 1.0 Val accuracy: 0.9798\n",
      "36 Batch accuracy: 1.0 Val accuracy: 0.979\n",
      "37 Batch accuracy: 0.98 Val accuracy: 0.979\n",
      "38 Batch accuracy: 0.98 Val accuracy: 0.9796\n",
      "39 Batch accuracy: 0.94 Val accuracy: 0.9782\n"
     ]
    }
   ],
   "source": [
    "n_epochs = 40\n",
    "batch_size = 50\n",
    "\n",
    "with tf.Session() as sess:\n",
    "    init.run()\n",
    "    for epoch in range(n_epochs):\n",
    "        for X_batch, y_batch in shuffle_batch(X_train, y_train, batch_size):\n",
    "            sess.run(training_op, feed_dict={X: X_batch, y: y_batch})\n",
    "        acc_batch = accuracy.eval(feed_dict={X: X_batch, y: y_batch})\n",
    "        acc_val = accuracy.eval(feed_dict={X: X_valid, y: y_valid})\n",
    "        print(epoch, 'Batch accuracy:', acc_batch, 'Val accuracy:', acc_val)\n",
    "\n",
    "    save_path = saver.save(sess, './Models/tf_example.ckpt')"
   ]
  },
  {
   "cell_type": "markdown",
   "metadata": {},
   "source": [
    "### Predicting Data"
   ]
  },
  {
   "cell_type": "code",
   "execution_count": 29,
   "metadata": {},
   "outputs": [
    {
     "name": "stdout",
     "output_type": "stream",
     "text": [
      "INFO:tensorflow:Restoring parameters from ./tf_example.ckpt\n"
     ]
    }
   ],
   "source": [
    "with tf.Session() as sess:\n",
    "    saver.restore(sess, save_path)\n",
    "    X_new_scaled = X_test[: 20]\n",
    "    Z = logits.eval(feed_dict={X: X_new_scaled})\n",
    "    y_pred = np.argmax(Z, axis=1)"
   ]
  },
  {
   "cell_type": "code",
   "execution_count": 30,
   "metadata": {},
   "outputs": [
    {
     "name": "stdout",
     "output_type": "stream",
     "text": [
      "Predicted classes: [7 2 1 0 4 1 4 9 6 9 0 6 9 0 1 5 9 7 3 4]\n",
      "Actual classes:    [7 2 1 0 4 1 4 9 5 9 0 6 9 0 1 5 9 7 3 4]\n"
     ]
    }
   ],
   "source": [
    "print('Predicted classes:', y_pred)\n",
    "print('Actual classes:   ', y_test[: 20])"
   ]
  },
  {
   "cell_type": "markdown",
   "metadata": {},
   "source": [
    "## Estimator API\n",
    "### Defining Features"
   ]
  },
  {
   "cell_type": "code",
   "execution_count": 31,
   "metadata": {},
   "outputs": [],
   "source": [
    "feature_cols = [tf.feature_column.numeric_column('X', shape=[28 * 28])]"
   ]
  },
  {
   "cell_type": "markdown",
   "metadata": {},
   "source": [
    "### Initializing Estimator"
   ]
  },
  {
   "cell_type": "code",
   "execution_count": 32,
   "metadata": {},
   "outputs": [
    {
     "name": "stdout",
     "output_type": "stream",
     "text": [
      "INFO:tensorflow:Using default config.\n",
      "WARNING:tensorflow:Using temporary folder as model directory: /tmp/tmpq3b__z60\n",
      "INFO:tensorflow:Using config: {'_model_dir': '/tmp/tmpq3b__z60', '_tf_random_seed': None, '_save_summary_steps': 100, '_save_checkpoints_steps': None, '_save_checkpoints_secs': 600, '_session_config': allow_soft_placement: true\n",
      "graph_options {\n",
      "  rewrite_options {\n",
      "    meta_optimizer_iterations: ONE\n",
      "  }\n",
      "}\n",
      ", '_keep_checkpoint_max': 5, '_keep_checkpoint_every_n_hours': 10000, '_log_step_count_steps': 100, '_train_distribute': None, '_device_fn': None, '_protocol': None, '_eval_distribute': None, '_experimental_distribute': None, '_service': None, '_cluster_spec': <tensorflow.python.training.server_lib.ClusterSpec object at 0x7fbb18b078d0>, '_task_type': 'worker', '_task_id': 0, '_global_id_in_cluster': 0, '_master': '', '_evaluation_master': '', '_is_chief': True, '_num_ps_replicas': 0, '_num_worker_replicas': 1}\n"
     ]
    }
   ],
   "source": [
    "dnn_clf = tf.estimator.DNNClassifier(hidden_units=[300, 100], n_classes=10,\n",
    "                                     feature_columns=feature_cols)"
   ]
  },
  {
   "cell_type": "markdown",
   "metadata": {},
   "source": [
    "### Defining Inputs"
   ]
  },
  {
   "cell_type": "code",
   "execution_count": 33,
   "metadata": {},
   "outputs": [],
   "source": [
    "input_fn = tf.estimator.inputs.numpy_input_fn(x={'X': X_train}, y=y_train, \n",
    "                                              num_epochs=40, batch_size=50, shuffle=True)\n",
    "\n",
    "test_input_fn = tf.estimator.inputs.numpy_input_fn(x={'X': X_test}, y=y_test, shuffle=False)"
   ]
  },
  {
   "cell_type": "markdown",
   "metadata": {},
   "source": [
    "### Training Model"
   ]
  },
  {
   "cell_type": "code",
   "execution_count": 34,
   "metadata": {},
   "outputs": [
    {
     "name": "stdout",
     "output_type": "stream",
     "text": [
      "WARNING:tensorflow:From /home/kouki/anaconda3/lib/python3.6/site-packages/tensorflow/python/estimator/inputs/queues/feeding_queue_runner.py:62: QueueRunner.__init__ (from tensorflow.python.training.queue_runner_impl) is deprecated and will be removed in a future version.\n",
      "Instructions for updating:\n",
      "To construct input pipelines, use the `tf.data` module.\n",
      "WARNING:tensorflow:From /home/kouki/anaconda3/lib/python3.6/site-packages/tensorflow/python/estimator/inputs/queues/feeding_functions.py:500: add_queue_runner (from tensorflow.python.training.queue_runner_impl) is deprecated and will be removed in a future version.\n",
      "Instructions for updating:\n",
      "To construct input pipelines, use the `tf.data` module.\n",
      "INFO:tensorflow:Calling model_fn.\n",
      "INFO:tensorflow:Done calling model_fn.\n",
      "INFO:tensorflow:Create CheckpointSaverHook.\n",
      "INFO:tensorflow:Graph was finalized.\n",
      "INFO:tensorflow:Running local_init_op.\n",
      "INFO:tensorflow:Done running local_init_op.\n",
      "WARNING:tensorflow:From /home/kouki/anaconda3/lib/python3.6/site-packages/tensorflow/python/training/monitored_session.py:804: start_queue_runners (from tensorflow.python.training.queue_runner_impl) is deprecated and will be removed in a future version.\n",
      "Instructions for updating:\n",
      "To construct input pipelines, use the `tf.data` module.\n",
      "INFO:tensorflow:Saving checkpoints for 0 into /tmp/tmpq3b__z60/model.ckpt.\n",
      "INFO:tensorflow:loss = 115.4211, step = 1\n",
      "INFO:tensorflow:global_step/sec: 143.156\n",
      "INFO:tensorflow:loss = 12.002026, step = 101 (0.701 sec)\n",
      "INFO:tensorflow:global_step/sec: 216.059\n",
      "INFO:tensorflow:loss = 14.102783, step = 201 (0.461 sec)\n",
      "INFO:tensorflow:global_step/sec: 242.853\n",
      "INFO:tensorflow:loss = 10.968423, step = 301 (0.412 sec)\n",
      "INFO:tensorflow:global_step/sec: 241.627\n",
      "INFO:tensorflow:loss = 15.912615, step = 401 (0.413 sec)\n",
      "INFO:tensorflow:global_step/sec: 210.596\n",
      "INFO:tensorflow:loss = 7.523914, step = 501 (0.475 sec)\n",
      "INFO:tensorflow:global_step/sec: 236.735\n",
      "INFO:tensorflow:loss = 3.1348836, step = 601 (0.434 sec)\n",
      "INFO:tensorflow:global_step/sec: 223.14\n",
      "INFO:tensorflow:loss = 13.39141, step = 701 (0.437 sec)\n",
      "INFO:tensorflow:global_step/sec: 230.696\n",
      "INFO:tensorflow:loss = 10.698836, step = 801 (0.435 sec)\n",
      "INFO:tensorflow:global_step/sec: 170.625\n",
      "INFO:tensorflow:loss = 3.909051, step = 901 (0.586 sec)\n",
      "INFO:tensorflow:global_step/sec: 236.042\n",
      "INFO:tensorflow:loss = 5.2856073, step = 1001 (0.423 sec)\n",
      "INFO:tensorflow:global_step/sec: 237.233\n",
      "INFO:tensorflow:loss = 8.3981285, step = 1101 (0.421 sec)\n",
      "INFO:tensorflow:global_step/sec: 230.78\n",
      "INFO:tensorflow:loss = 1.2028935, step = 1201 (0.433 sec)\n",
      "INFO:tensorflow:global_step/sec: 243.778\n",
      "INFO:tensorflow:loss = 2.7368007, step = 1301 (0.410 sec)\n",
      "INFO:tensorflow:global_step/sec: 224.286\n",
      "INFO:tensorflow:loss = 2.5208135, step = 1401 (0.446 sec)\n",
      "INFO:tensorflow:global_step/sec: 246.838\n",
      "INFO:tensorflow:loss = 1.1314833, step = 1501 (0.405 sec)\n",
      "INFO:tensorflow:global_step/sec: 173.307\n",
      "INFO:tensorflow:loss = 3.276348, step = 1601 (0.578 sec)\n",
      "INFO:tensorflow:global_step/sec: 185.863\n",
      "INFO:tensorflow:loss = 3.100966, step = 1701 (0.537 sec)\n",
      "INFO:tensorflow:global_step/sec: 212.922\n",
      "INFO:tensorflow:loss = 2.956392, step = 1801 (0.470 sec)\n",
      "INFO:tensorflow:global_step/sec: 230.433\n",
      "INFO:tensorflow:loss = 5.175096, step = 1901 (0.435 sec)\n",
      "INFO:tensorflow:global_step/sec: 190.345\n",
      "INFO:tensorflow:loss = 7.804537, step = 2001 (0.524 sec)\n",
      "INFO:tensorflow:global_step/sec: 195.469\n",
      "INFO:tensorflow:loss = 2.7411697, step = 2101 (0.512 sec)\n",
      "INFO:tensorflow:global_step/sec: 193.044\n",
      "INFO:tensorflow:loss = 6.725419, step = 2201 (0.518 sec)\n",
      "INFO:tensorflow:global_step/sec: 237.024\n",
      "INFO:tensorflow:loss = 1.1031057, step = 2301 (0.422 sec)\n",
      "INFO:tensorflow:global_step/sec: 220.515\n",
      "INFO:tensorflow:loss = 1.7488984, step = 2401 (0.453 sec)\n",
      "INFO:tensorflow:global_step/sec: 247.314\n",
      "INFO:tensorflow:loss = 0.46730584, step = 2501 (0.404 sec)\n",
      "INFO:tensorflow:global_step/sec: 222.386\n",
      "INFO:tensorflow:loss = 3.8269966, step = 2601 (0.451 sec)\n",
      "INFO:tensorflow:global_step/sec: 232.039\n",
      "INFO:tensorflow:loss = 6.001965, step = 2701 (0.445 sec)\n",
      "INFO:tensorflow:global_step/sec: 235.308\n",
      "INFO:tensorflow:loss = 2.5699441, step = 2801 (0.410 sec)\n",
      "INFO:tensorflow:global_step/sec: 245.043\n",
      "INFO:tensorflow:loss = 0.4005938, step = 2901 (0.408 sec)\n",
      "INFO:tensorflow:global_step/sec: 240.926\n",
      "INFO:tensorflow:loss = 0.85099226, step = 3001 (0.415 sec)\n",
      "INFO:tensorflow:global_step/sec: 243.696\n",
      "INFO:tensorflow:loss = 1.6061543, step = 3101 (0.410 sec)\n",
      "INFO:tensorflow:global_step/sec: 239.908\n",
      "INFO:tensorflow:loss = 1.0691531, step = 3201 (0.433 sec)\n",
      "INFO:tensorflow:global_step/sec: 214.246\n",
      "INFO:tensorflow:loss = 2.9403424, step = 3301 (0.450 sec)\n",
      "INFO:tensorflow:global_step/sec: 236.802\n",
      "INFO:tensorflow:loss = 3.06064, step = 3401 (0.422 sec)\n",
      "INFO:tensorflow:global_step/sec: 229.147\n",
      "INFO:tensorflow:loss = 0.24365446, step = 3501 (0.438 sec)\n",
      "INFO:tensorflow:global_step/sec: 230.523\n",
      "INFO:tensorflow:loss = 1.8070495, step = 3601 (0.433 sec)\n",
      "INFO:tensorflow:global_step/sec: 179.155\n",
      "INFO:tensorflow:loss = 3.120653, step = 3701 (0.564 sec)\n",
      "INFO:tensorflow:global_step/sec: 208.125\n",
      "INFO:tensorflow:loss = 7.4938235, step = 3801 (0.474 sec)\n",
      "INFO:tensorflow:global_step/sec: 146.996\n",
      "INFO:tensorflow:loss = 0.28468236, step = 3901 (0.681 sec)\n",
      "INFO:tensorflow:global_step/sec: 218.164\n",
      "INFO:tensorflow:loss = 1.5781498, step = 4001 (0.460 sec)\n",
      "INFO:tensorflow:global_step/sec: 232.552\n",
      "INFO:tensorflow:loss = 1.15756, step = 4101 (0.429 sec)\n",
      "INFO:tensorflow:global_step/sec: 244.98\n",
      "INFO:tensorflow:loss = 1.905541, step = 4201 (0.408 sec)\n",
      "INFO:tensorflow:global_step/sec: 232.911\n",
      "INFO:tensorflow:loss = 0.3857344, step = 4301 (0.429 sec)\n",
      "INFO:tensorflow:global_step/sec: 234.697\n",
      "INFO:tensorflow:loss = 0.98070353, step = 4401 (0.426 sec)\n",
      "INFO:tensorflow:global_step/sec: 149.934\n",
      "INFO:tensorflow:loss = 3.0809486, step = 4501 (0.676 sec)\n",
      "INFO:tensorflow:global_step/sec: 131.736\n",
      "INFO:tensorflow:loss = 1.068825, step = 4601 (0.750 sec)\n",
      "INFO:tensorflow:global_step/sec: 139.28\n",
      "INFO:tensorflow:loss = 0.38020784, step = 4701 (0.718 sec)\n",
      "INFO:tensorflow:global_step/sec: 247.822\n",
      "INFO:tensorflow:loss = 0.43757522, step = 4801 (0.403 sec)\n",
      "INFO:tensorflow:global_step/sec: 214.127\n",
      "INFO:tensorflow:loss = 1.9238766, step = 4901 (0.467 sec)\n",
      "INFO:tensorflow:global_step/sec: 246.947\n",
      "INFO:tensorflow:loss = 1.6616775, step = 5001 (0.405 sec)\n",
      "INFO:tensorflow:global_step/sec: 176.629\n",
      "INFO:tensorflow:loss = 0.34163576, step = 5101 (0.573 sec)\n",
      "INFO:tensorflow:global_step/sec: 236.118\n",
      "INFO:tensorflow:loss = 1.8089645, step = 5201 (0.418 sec)\n",
      "INFO:tensorflow:global_step/sec: 229.628\n",
      "INFO:tensorflow:loss = 1.2330637, step = 5301 (0.434 sec)\n",
      "INFO:tensorflow:global_step/sec: 242.246\n",
      "INFO:tensorflow:loss = 0.7175969, step = 5401 (0.413 sec)\n",
      "INFO:tensorflow:global_step/sec: 237.647\n",
      "INFO:tensorflow:loss = 0.75488865, step = 5501 (0.421 sec)\n",
      "INFO:tensorflow:global_step/sec: 236.716\n",
      "INFO:tensorflow:loss = 1.0025342, step = 5601 (0.423 sec)\n",
      "INFO:tensorflow:global_step/sec: 233.853\n",
      "INFO:tensorflow:loss = 0.4203524, step = 5701 (0.427 sec)\n",
      "INFO:tensorflow:global_step/sec: 192.812\n",
      "INFO:tensorflow:loss = 4.530918, step = 5801 (0.519 sec)\n",
      "INFO:tensorflow:global_step/sec: 166.595\n",
      "INFO:tensorflow:loss = 1.0836465, step = 5901 (0.600 sec)\n",
      "INFO:tensorflow:global_step/sec: 176.037\n",
      "INFO:tensorflow:loss = 1.4079841, step = 6001 (0.568 sec)\n",
      "INFO:tensorflow:global_step/sec: 145.926\n",
      "INFO:tensorflow:loss = 0.77393234, step = 6101 (0.685 sec)\n",
      "INFO:tensorflow:global_step/sec: 174.456\n",
      "INFO:tensorflow:loss = 0.7087635, step = 6201 (0.573 sec)\n",
      "INFO:tensorflow:global_step/sec: 168.591\n",
      "INFO:tensorflow:loss = 0.8109179, step = 6301 (0.593 sec)\n",
      "INFO:tensorflow:global_step/sec: 181.511\n",
      "INFO:tensorflow:loss = 1.9827865, step = 6401 (0.551 sec)\n",
      "INFO:tensorflow:global_step/sec: 178.444\n",
      "INFO:tensorflow:loss = 0.86627173, step = 6501 (0.561 sec)\n",
      "INFO:tensorflow:global_step/sec: 190.325\n",
      "INFO:tensorflow:loss = 0.24061058, step = 6601 (0.526 sec)\n",
      "INFO:tensorflow:global_step/sec: 176.779\n",
      "INFO:tensorflow:loss = 0.34690273, step = 6701 (0.566 sec)\n",
      "INFO:tensorflow:global_step/sec: 180.145\n",
      "INFO:tensorflow:loss = 0.92445266, step = 6801 (0.553 sec)\n",
      "INFO:tensorflow:global_step/sec: 181.577\n",
      "INFO:tensorflow:loss = 0.112163365, step = 6901 (0.552 sec)\n"
     ]
    },
    {
     "name": "stdout",
     "output_type": "stream",
     "text": [
      "INFO:tensorflow:global_step/sec: 186.504\n",
      "INFO:tensorflow:loss = 0.43571228, step = 7001 (0.535 sec)\n",
      "INFO:tensorflow:global_step/sec: 170.951\n",
      "INFO:tensorflow:loss = 0.4166721, step = 7101 (0.585 sec)\n",
      "INFO:tensorflow:global_step/sec: 176.209\n",
      "INFO:tensorflow:loss = 0.50303465, step = 7201 (0.568 sec)\n",
      "INFO:tensorflow:global_step/sec: 183.253\n",
      "INFO:tensorflow:loss = 0.9976653, step = 7301 (0.546 sec)\n",
      "INFO:tensorflow:global_step/sec: 171.22\n",
      "INFO:tensorflow:loss = 0.8607987, step = 7401 (0.583 sec)\n",
      "INFO:tensorflow:global_step/sec: 200.456\n",
      "INFO:tensorflow:loss = 0.3885249, step = 7501 (0.498 sec)\n",
      "INFO:tensorflow:global_step/sec: 193.087\n",
      "INFO:tensorflow:loss = 3.3511584, step = 7601 (0.519 sec)\n",
      "INFO:tensorflow:global_step/sec: 185.321\n",
      "INFO:tensorflow:loss = 0.4166223, step = 7701 (0.538 sec)\n",
      "INFO:tensorflow:global_step/sec: 182.917\n",
      "INFO:tensorflow:loss = 0.3103042, step = 7801 (0.547 sec)\n",
      "INFO:tensorflow:global_step/sec: 177.353\n",
      "INFO:tensorflow:loss = 0.3875909, step = 7901 (0.564 sec)\n",
      "INFO:tensorflow:global_step/sec: 194.615\n",
      "INFO:tensorflow:loss = 0.31866983, step = 8001 (0.515 sec)\n",
      "INFO:tensorflow:global_step/sec: 184.359\n",
      "INFO:tensorflow:loss = 0.18165462, step = 8101 (0.541 sec)\n",
      "INFO:tensorflow:global_step/sec: 175.765\n",
      "INFO:tensorflow:loss = 0.23445112, step = 8201 (0.570 sec)\n",
      "INFO:tensorflow:global_step/sec: 189.974\n",
      "INFO:tensorflow:loss = 0.07855064, step = 8301 (0.526 sec)\n",
      "INFO:tensorflow:global_step/sec: 180.113\n",
      "INFO:tensorflow:loss = 0.40500566, step = 8401 (0.556 sec)\n",
      "INFO:tensorflow:global_step/sec: 171.198\n",
      "INFO:tensorflow:loss = 0.6382245, step = 8501 (0.585 sec)\n",
      "INFO:tensorflow:global_step/sec: 183.588\n",
      "INFO:tensorflow:loss = 0.37035406, step = 8601 (0.545 sec)\n",
      "INFO:tensorflow:global_step/sec: 192.455\n",
      "INFO:tensorflow:loss = 0.23607588, step = 8701 (0.518 sec)\n",
      "INFO:tensorflow:global_step/sec: 194.48\n",
      "INFO:tensorflow:loss = 7.7011704, step = 8801 (0.514 sec)\n",
      "INFO:tensorflow:global_step/sec: 187.212\n",
      "INFO:tensorflow:loss = 0.8789106, step = 8901 (0.534 sec)\n",
      "INFO:tensorflow:global_step/sec: 176.168\n",
      "INFO:tensorflow:loss = 0.46400023, step = 9001 (0.568 sec)\n",
      "INFO:tensorflow:global_step/sec: 184.681\n",
      "INFO:tensorflow:loss = 0.16845408, step = 9101 (0.541 sec)\n",
      "INFO:tensorflow:global_step/sec: 173.147\n",
      "INFO:tensorflow:loss = 0.4990306, step = 9201 (0.578 sec)\n",
      "INFO:tensorflow:global_step/sec: 188.379\n",
      "INFO:tensorflow:loss = 0.44550684, step = 9301 (0.530 sec)\n",
      "INFO:tensorflow:global_step/sec: 175.366\n",
      "INFO:tensorflow:loss = 1.0928888, step = 9401 (0.571 sec)\n",
      "INFO:tensorflow:global_step/sec: 189.146\n",
      "INFO:tensorflow:loss = 0.3629373, step = 9501 (0.529 sec)\n",
      "INFO:tensorflow:global_step/sec: 157.437\n",
      "INFO:tensorflow:loss = 0.11624548, step = 9601 (0.635 sec)\n",
      "INFO:tensorflow:global_step/sec: 177.28\n",
      "INFO:tensorflow:loss = 0.3528277, step = 9701 (0.563 sec)\n",
      "INFO:tensorflow:global_step/sec: 181.865\n",
      "INFO:tensorflow:loss = 0.23218097, step = 9801 (0.557 sec)\n",
      "INFO:tensorflow:global_step/sec: 166.261\n",
      "INFO:tensorflow:loss = 0.1603923, step = 9901 (0.594 sec)\n",
      "INFO:tensorflow:global_step/sec: 171.541\n",
      "INFO:tensorflow:loss = 0.00984378, step = 10001 (0.584 sec)\n",
      "INFO:tensorflow:global_step/sec: 172.395\n",
      "INFO:tensorflow:loss = 0.25818342, step = 10101 (0.580 sec)\n",
      "INFO:tensorflow:global_step/sec: 189.2\n",
      "INFO:tensorflow:loss = 0.28554094, step = 10201 (0.528 sec)\n",
      "INFO:tensorflow:global_step/sec: 179.867\n",
      "INFO:tensorflow:loss = 0.20925096, step = 10301 (0.554 sec)\n",
      "INFO:tensorflow:global_step/sec: 182.151\n",
      "INFO:tensorflow:loss = 0.55472606, step = 10401 (0.550 sec)\n",
      "INFO:tensorflow:global_step/sec: 176.911\n",
      "INFO:tensorflow:loss = 0.88648194, step = 10501 (0.566 sec)\n",
      "INFO:tensorflow:global_step/sec: 180.148\n",
      "INFO:tensorflow:loss = 0.113527834, step = 10601 (0.553 sec)\n",
      "INFO:tensorflow:global_step/sec: 176.407\n",
      "INFO:tensorflow:loss = 0.055282343, step = 10701 (0.567 sec)\n",
      "INFO:tensorflow:global_step/sec: 177.845\n",
      "INFO:tensorflow:loss = 0.21317759, step = 10801 (0.563 sec)\n",
      "INFO:tensorflow:global_step/sec: 186.599\n",
      "INFO:tensorflow:loss = 0.87276816, step = 10901 (0.537 sec)\n",
      "INFO:tensorflow:global_step/sec: 187.749\n",
      "INFO:tensorflow:loss = 0.33037335, step = 11001 (0.532 sec)\n",
      "INFO:tensorflow:global_step/sec: 173.227\n",
      "INFO:tensorflow:loss = 0.25893176, step = 11101 (0.577 sec)\n",
      "INFO:tensorflow:global_step/sec: 169.059\n",
      "INFO:tensorflow:loss = 0.04669874, step = 11201 (0.591 sec)\n",
      "INFO:tensorflow:global_step/sec: 175.132\n",
      "INFO:tensorflow:loss = 0.2615611, step = 11301 (0.575 sec)\n",
      "INFO:tensorflow:global_step/sec: 179.385\n",
      "INFO:tensorflow:loss = 0.16562444, step = 11401 (0.554 sec)\n",
      "INFO:tensorflow:global_step/sec: 160.599\n",
      "INFO:tensorflow:loss = 0.1187082, step = 11501 (0.624 sec)\n",
      "INFO:tensorflow:global_step/sec: 199.832\n",
      "INFO:tensorflow:loss = 0.36980605, step = 11601 (0.501 sec)\n",
      "INFO:tensorflow:global_step/sec: 175.425\n",
      "INFO:tensorflow:loss = 0.3582353, step = 11701 (0.571 sec)\n",
      "INFO:tensorflow:global_step/sec: 195.659\n",
      "INFO:tensorflow:loss = 0.19265865, step = 11801 (0.509 sec)\n",
      "INFO:tensorflow:global_step/sec: 182.715\n",
      "INFO:tensorflow:loss = 0.2784688, step = 11901 (0.547 sec)\n",
      "INFO:tensorflow:global_step/sec: 142.415\n",
      "INFO:tensorflow:loss = 0.043018285, step = 12001 (0.702 sec)\n",
      "INFO:tensorflow:global_step/sec: 157.061\n",
      "INFO:tensorflow:loss = 0.53037596, step = 12101 (0.637 sec)\n",
      "INFO:tensorflow:global_step/sec: 161.531\n",
      "INFO:tensorflow:loss = 0.064331725, step = 12201 (0.619 sec)\n",
      "INFO:tensorflow:global_step/sec: 166.668\n",
      "INFO:tensorflow:loss = 0.11467914, step = 12301 (0.601 sec)\n",
      "INFO:tensorflow:global_step/sec: 178.094\n",
      "INFO:tensorflow:loss = 0.76795274, step = 12401 (0.560 sec)\n",
      "INFO:tensorflow:global_step/sec: 212.906\n",
      "INFO:tensorflow:loss = 0.08321813, step = 12501 (0.470 sec)\n",
      "INFO:tensorflow:global_step/sec: 202.704\n",
      "INFO:tensorflow:loss = 1.828619, step = 12601 (0.493 sec)\n",
      "INFO:tensorflow:global_step/sec: 204.439\n",
      "INFO:tensorflow:loss = 0.093621954, step = 12701 (0.491 sec)\n",
      "INFO:tensorflow:global_step/sec: 206.519\n",
      "INFO:tensorflow:loss = 0.08454502, step = 12801 (0.483 sec)\n",
      "INFO:tensorflow:global_step/sec: 153.734\n",
      "INFO:tensorflow:loss = 0.40480223, step = 12901 (0.651 sec)\n",
      "INFO:tensorflow:global_step/sec: 207.738\n",
      "INFO:tensorflow:loss = 0.034397423, step = 13001 (0.481 sec)\n",
      "INFO:tensorflow:global_step/sec: 150.93\n",
      "INFO:tensorflow:loss = 0.14575423, step = 13101 (0.664 sec)\n",
      "INFO:tensorflow:global_step/sec: 192.574\n",
      "INFO:tensorflow:loss = 0.16484992, step = 13201 (0.519 sec)\n",
      "INFO:tensorflow:global_step/sec: 201.11\n",
      "INFO:tensorflow:loss = 0.39593983, step = 13301 (0.497 sec)\n",
      "INFO:tensorflow:global_step/sec: 219.325\n",
      "INFO:tensorflow:loss = 0.1900714, step = 13401 (0.455 sec)\n",
      "INFO:tensorflow:global_step/sec: 210.321\n",
      "INFO:tensorflow:loss = 0.2019181, step = 13501 (0.475 sec)\n",
      "INFO:tensorflow:global_step/sec: 217.929\n",
      "INFO:tensorflow:loss = 0.115133554, step = 13601 (0.459 sec)\n",
      "INFO:tensorflow:global_step/sec: 232.18\n",
      "INFO:tensorflow:loss = 0.10034453, step = 13701 (0.431 sec)\n",
      "INFO:tensorflow:global_step/sec: 215.433\n",
      "INFO:tensorflow:loss = 0.123572096, step = 13801 (0.464 sec)\n",
      "INFO:tensorflow:global_step/sec: 207.415\n",
      "INFO:tensorflow:loss = 0.113858014, step = 13901 (0.483 sec)\n",
      "INFO:tensorflow:global_step/sec: 211.4\n",
      "INFO:tensorflow:loss = 0.031199735, step = 14001 (0.474 sec)\n",
      "INFO:tensorflow:global_step/sec: 212.637\n",
      "INFO:tensorflow:loss = 0.39463502, step = 14101 (0.469 sec)\n",
      "INFO:tensorflow:global_step/sec: 222.935\n",
      "INFO:tensorflow:loss = 0.1318929, step = 14201 (0.448 sec)\n",
      "INFO:tensorflow:global_step/sec: 233.913\n",
      "INFO:tensorflow:loss = 0.020185031, step = 14301 (0.428 sec)\n",
      "INFO:tensorflow:global_step/sec: 225.41\n",
      "INFO:tensorflow:loss = 0.15009427, step = 14401 (0.445 sec)\n",
      "INFO:tensorflow:global_step/sec: 213.737\n",
      "INFO:tensorflow:loss = 0.06383341, step = 14501 (0.467 sec)\n",
      "INFO:tensorflow:global_step/sec: 217.661\n",
      "INFO:tensorflow:loss = 0.020719498, step = 14601 (0.460 sec)\n",
      "INFO:tensorflow:global_step/sec: 235.707\n",
      "INFO:tensorflow:loss = 0.3804151, step = 14701 (0.424 sec)\n",
      "INFO:tensorflow:global_step/sec: 239.065\n",
      "INFO:tensorflow:loss = 0.021065133, step = 14801 (0.419 sec)\n",
      "INFO:tensorflow:global_step/sec: 233.179\n",
      "INFO:tensorflow:loss = 0.06718355, step = 14901 (0.428 sec)\n",
      "INFO:tensorflow:global_step/sec: 164.729\n",
      "INFO:tensorflow:loss = 0.14531122, step = 15001 (0.609 sec)\n",
      "INFO:tensorflow:global_step/sec: 218.523\n",
      "INFO:tensorflow:loss = 0.29579565, step = 15101 (0.456 sec)\n"
     ]
    },
    {
     "name": "stdout",
     "output_type": "stream",
     "text": [
      "INFO:tensorflow:global_step/sec: 226.713\n",
      "INFO:tensorflow:loss = 0.23051222, step = 15201 (0.441 sec)\n",
      "INFO:tensorflow:global_step/sec: 226.949\n",
      "INFO:tensorflow:loss = 0.3595723, step = 15301 (0.442 sec)\n",
      "INFO:tensorflow:global_step/sec: 214.357\n",
      "INFO:tensorflow:loss = 0.09301325, step = 15401 (0.468 sec)\n",
      "INFO:tensorflow:global_step/sec: 188.452\n",
      "INFO:tensorflow:loss = 0.060594857, step = 15501 (0.529 sec)\n",
      "INFO:tensorflow:global_step/sec: 177.692\n",
      "INFO:tensorflow:loss = 0.013245817, step = 15601 (0.561 sec)\n",
      "INFO:tensorflow:global_step/sec: 162.632\n",
      "INFO:tensorflow:loss = 0.03258927, step = 15701 (0.615 sec)\n",
      "INFO:tensorflow:global_step/sec: 176.964\n",
      "INFO:tensorflow:loss = 0.020537276, step = 15801 (0.567 sec)\n",
      "INFO:tensorflow:global_step/sec: 156.395\n",
      "INFO:tensorflow:loss = 0.20265563, step = 15901 (0.640 sec)\n",
      "INFO:tensorflow:global_step/sec: 171.635\n",
      "INFO:tensorflow:loss = 0.24905472, step = 16001 (0.582 sec)\n",
      "INFO:tensorflow:global_step/sec: 170.652\n",
      "INFO:tensorflow:loss = 0.08544068, step = 16101 (0.586 sec)\n",
      "INFO:tensorflow:global_step/sec: 183.305\n",
      "INFO:tensorflow:loss = 0.03238471, step = 16201 (0.544 sec)\n",
      "INFO:tensorflow:global_step/sec: 147.242\n",
      "INFO:tensorflow:loss = 0.033137396, step = 16301 (0.680 sec)\n",
      "INFO:tensorflow:global_step/sec: 181.482\n",
      "INFO:tensorflow:loss = 0.042152658, step = 16401 (0.550 sec)\n",
      "INFO:tensorflow:global_step/sec: 161.62\n",
      "INFO:tensorflow:loss = 0.02336806, step = 16501 (0.619 sec)\n",
      "INFO:tensorflow:global_step/sec: 167.1\n",
      "INFO:tensorflow:loss = 0.056458388, step = 16601 (0.600 sec)\n",
      "INFO:tensorflow:global_step/sec: 184.078\n",
      "INFO:tensorflow:loss = 0.0071075284, step = 16701 (0.547 sec)\n",
      "INFO:tensorflow:global_step/sec: 151.544\n",
      "INFO:tensorflow:loss = 0.08619, step = 16801 (0.656 sec)\n",
      "INFO:tensorflow:global_step/sec: 186.948\n",
      "INFO:tensorflow:loss = 0.0726959, step = 16901 (0.536 sec)\n",
      "INFO:tensorflow:global_step/sec: 181.809\n",
      "INFO:tensorflow:loss = 0.14243436, step = 17001 (0.549 sec)\n",
      "INFO:tensorflow:global_step/sec: 183.629\n",
      "INFO:tensorflow:loss = 0.037405223, step = 17101 (0.544 sec)\n",
      "INFO:tensorflow:global_step/sec: 186.06\n",
      "INFO:tensorflow:loss = 0.3220601, step = 17201 (0.539 sec)\n",
      "INFO:tensorflow:global_step/sec: 161.887\n",
      "INFO:tensorflow:loss = 0.13869773, step = 17301 (0.616 sec)\n",
      "INFO:tensorflow:global_step/sec: 166.802\n",
      "INFO:tensorflow:loss = 0.040557947, step = 17401 (0.601 sec)\n",
      "INFO:tensorflow:global_step/sec: 171.279\n",
      "INFO:tensorflow:loss = 0.18907136, step = 17501 (0.582 sec)\n",
      "INFO:tensorflow:global_step/sec: 181.723\n",
      "INFO:tensorflow:loss = 0.13019435, step = 17601 (0.550 sec)\n",
      "INFO:tensorflow:global_step/sec: 185.938\n",
      "INFO:tensorflow:loss = 0.37652194, step = 17701 (0.542 sec)\n",
      "INFO:tensorflow:global_step/sec: 167.053\n",
      "INFO:tensorflow:loss = 0.10444623, step = 17801 (0.595 sec)\n",
      "INFO:tensorflow:global_step/sec: 168.674\n",
      "INFO:tensorflow:loss = 0.04680253, step = 17901 (0.593 sec)\n",
      "INFO:tensorflow:global_step/sec: 172.165\n",
      "INFO:tensorflow:loss = 0.018762507, step = 18001 (0.581 sec)\n",
      "INFO:tensorflow:global_step/sec: 175.611\n",
      "INFO:tensorflow:loss = 0.033501305, step = 18101 (0.569 sec)\n",
      "INFO:tensorflow:global_step/sec: 179.718\n",
      "INFO:tensorflow:loss = 0.03447697, step = 18201 (0.557 sec)\n",
      "INFO:tensorflow:global_step/sec: 180.034\n",
      "INFO:tensorflow:loss = 0.15618865, step = 18301 (0.555 sec)\n",
      "INFO:tensorflow:global_step/sec: 173.755\n",
      "INFO:tensorflow:loss = 0.077746145, step = 18401 (0.575 sec)\n",
      "INFO:tensorflow:global_step/sec: 182.753\n",
      "INFO:tensorflow:loss = 0.028630901, step = 18501 (0.547 sec)\n",
      "INFO:tensorflow:global_step/sec: 177.149\n",
      "INFO:tensorflow:loss = 0.08282543, step = 18601 (0.565 sec)\n",
      "INFO:tensorflow:global_step/sec: 187.303\n",
      "INFO:tensorflow:loss = 0.0119637735, step = 18701 (0.536 sec)\n",
      "INFO:tensorflow:global_step/sec: 179.463\n",
      "INFO:tensorflow:loss = 0.15687773, step = 18801 (0.558 sec)\n",
      "INFO:tensorflow:global_step/sec: 182.24\n",
      "INFO:tensorflow:loss = 0.040987343, step = 18901 (0.546 sec)\n",
      "INFO:tensorflow:global_step/sec: 178.736\n",
      "INFO:tensorflow:loss = 0.035777234, step = 19001 (0.560 sec)\n",
      "INFO:tensorflow:global_step/sec: 184.495\n",
      "INFO:tensorflow:loss = 0.10520218, step = 19101 (0.542 sec)\n",
      "INFO:tensorflow:global_step/sec: 188.575\n",
      "INFO:tensorflow:loss = 0.21668729, step = 19201 (0.531 sec)\n",
      "INFO:tensorflow:global_step/sec: 180.654\n",
      "INFO:tensorflow:loss = 0.042019654, step = 19301 (0.552 sec)\n",
      "INFO:tensorflow:global_step/sec: 168.996\n",
      "INFO:tensorflow:loss = 0.062774986, step = 19401 (0.593 sec)\n",
      "INFO:tensorflow:global_step/sec: 161.995\n",
      "INFO:tensorflow:loss = 0.037507426, step = 19501 (0.616 sec)\n",
      "INFO:tensorflow:global_step/sec: 156.26\n",
      "INFO:tensorflow:loss = 0.020779608, step = 19601 (0.640 sec)\n",
      "INFO:tensorflow:global_step/sec: 149.979\n",
      "INFO:tensorflow:loss = 0.041890386, step = 19701 (0.668 sec)\n",
      "INFO:tensorflow:global_step/sec: 215.854\n",
      "INFO:tensorflow:loss = 0.111587375, step = 19801 (0.462 sec)\n",
      "INFO:tensorflow:global_step/sec: 223.681\n",
      "INFO:tensorflow:loss = 0.02336546, step = 19901 (0.450 sec)\n",
      "INFO:tensorflow:global_step/sec: 173.486\n",
      "INFO:tensorflow:loss = 0.03759838, step = 20001 (0.573 sec)\n",
      "INFO:tensorflow:global_step/sec: 224.071\n",
      "INFO:tensorflow:loss = 0.064044185, step = 20101 (0.446 sec)\n",
      "INFO:tensorflow:global_step/sec: 246.71\n",
      "INFO:tensorflow:loss = 0.020093303, step = 20201 (0.407 sec)\n",
      "INFO:tensorflow:global_step/sec: 234.692\n",
      "INFO:tensorflow:loss = 0.009610282, step = 20301 (0.425 sec)\n",
      "INFO:tensorflow:global_step/sec: 234.673\n",
      "INFO:tensorflow:loss = 0.020183478, step = 20401 (0.426 sec)\n",
      "INFO:tensorflow:global_step/sec: 191.201\n",
      "INFO:tensorflow:loss = 0.017550508, step = 20501 (0.523 sec)\n",
      "INFO:tensorflow:global_step/sec: 248.933\n",
      "INFO:tensorflow:loss = 0.044949863, step = 20601 (0.402 sec)\n",
      "INFO:tensorflow:global_step/sec: 209.103\n",
      "INFO:tensorflow:loss = 0.05381926, step = 20701 (0.478 sec)\n",
      "INFO:tensorflow:global_step/sec: 144.906\n",
      "INFO:tensorflow:loss = 0.013312568, step = 20801 (0.690 sec)\n",
      "INFO:tensorflow:global_step/sec: 208.144\n",
      "INFO:tensorflow:loss = 0.010973036, step = 20901 (0.482 sec)\n",
      "INFO:tensorflow:global_step/sec: 222.016\n",
      "INFO:tensorflow:loss = 0.008493262, step = 21001 (0.451 sec)\n",
      "INFO:tensorflow:global_step/sec: 249.652\n",
      "INFO:tensorflow:loss = 0.05456153, step = 21101 (0.400 sec)\n",
      "INFO:tensorflow:global_step/sec: 227.853\n",
      "INFO:tensorflow:loss = 0.10146456, step = 21201 (0.439 sec)\n",
      "INFO:tensorflow:global_step/sec: 205.599\n",
      "INFO:tensorflow:loss = 0.1475367, step = 21301 (0.487 sec)\n",
      "INFO:tensorflow:global_step/sec: 166.562\n",
      "INFO:tensorflow:loss = 0.063726045, step = 21401 (0.600 sec)\n",
      "INFO:tensorflow:global_step/sec: 157.249\n",
      "INFO:tensorflow:loss = 0.054233473, step = 21501 (0.635 sec)\n",
      "INFO:tensorflow:global_step/sec: 76.4142\n",
      "INFO:tensorflow:loss = 0.076820895, step = 21601 (1.314 sec)\n",
      "INFO:tensorflow:global_step/sec: 117.643\n",
      "INFO:tensorflow:loss = 0.057078723, step = 21701 (0.845 sec)\n",
      "INFO:tensorflow:global_step/sec: 138.431\n",
      "INFO:tensorflow:loss = 0.015018124, step = 21801 (0.723 sec)\n",
      "INFO:tensorflow:global_step/sec: 162.581\n",
      "INFO:tensorflow:loss = 0.084090374, step = 21901 (0.614 sec)\n",
      "INFO:tensorflow:global_step/sec: 155.951\n",
      "INFO:tensorflow:loss = 0.04798656, step = 22001 (0.641 sec)\n",
      "INFO:tensorflow:global_step/sec: 157.161\n",
      "INFO:tensorflow:loss = 0.039761387, step = 22101 (0.636 sec)\n",
      "INFO:tensorflow:global_step/sec: 181.881\n",
      "INFO:tensorflow:loss = 0.020901412, step = 22201 (0.549 sec)\n",
      "INFO:tensorflow:global_step/sec: 178.008\n",
      "INFO:tensorflow:loss = 0.010585514, step = 22301 (0.563 sec)\n",
      "INFO:tensorflow:global_step/sec: 180.224\n",
      "INFO:tensorflow:loss = 0.102175355, step = 22401 (0.554 sec)\n",
      "INFO:tensorflow:global_step/sec: 122.779\n",
      "INFO:tensorflow:loss = 0.013496514, step = 22501 (0.815 sec)\n",
      "INFO:tensorflow:global_step/sec: 154.378\n",
      "INFO:tensorflow:loss = 0.06242143, step = 22601 (0.648 sec)\n",
      "INFO:tensorflow:global_step/sec: 157.813\n",
      "INFO:tensorflow:loss = 0.020389218, step = 22701 (0.632 sec)\n",
      "INFO:tensorflow:global_step/sec: 141.513\n",
      "INFO:tensorflow:loss = 0.012714623, step = 22801 (0.708 sec)\n",
      "INFO:tensorflow:global_step/sec: 166.839\n",
      "INFO:tensorflow:loss = 0.07825881, step = 22901 (0.600 sec)\n",
      "INFO:tensorflow:global_step/sec: 167.128\n",
      "INFO:tensorflow:loss = 0.035956763, step = 23001 (0.598 sec)\n",
      "INFO:tensorflow:global_step/sec: 167.548\n",
      "INFO:tensorflow:loss = 0.032939665, step = 23101 (0.596 sec)\n",
      "INFO:tensorflow:global_step/sec: 159.645\n",
      "INFO:tensorflow:loss = 0.00024484092, step = 23201 (0.626 sec)\n"
     ]
    },
    {
     "name": "stdout",
     "output_type": "stream",
     "text": [
      "INFO:tensorflow:global_step/sec: 169.08\n",
      "INFO:tensorflow:loss = 0.087503046, step = 23301 (0.592 sec)\n",
      "INFO:tensorflow:global_step/sec: 170.509\n",
      "INFO:tensorflow:loss = 0.061020818, step = 23401 (0.589 sec)\n",
      "INFO:tensorflow:global_step/sec: 178.933\n",
      "INFO:tensorflow:loss = 0.006470556, step = 23501 (0.558 sec)\n",
      "INFO:tensorflow:global_step/sec: 128.885\n",
      "INFO:tensorflow:loss = 0.041038875, step = 23601 (0.779 sec)\n",
      "INFO:tensorflow:global_step/sec: 125.452\n",
      "INFO:tensorflow:loss = 0.008085244, step = 23701 (0.792 sec)\n",
      "INFO:tensorflow:global_step/sec: 166.036\n",
      "INFO:tensorflow:loss = 0.062359653, step = 23801 (0.605 sec)\n",
      "INFO:tensorflow:global_step/sec: 176.633\n",
      "INFO:tensorflow:loss = 0.006797383, step = 23901 (0.563 sec)\n",
      "INFO:tensorflow:global_step/sec: 159.318\n",
      "INFO:tensorflow:loss = 0.046562985, step = 24001 (0.628 sec)\n",
      "INFO:tensorflow:global_step/sec: 165.557\n",
      "INFO:tensorflow:loss = 0.04600975, step = 24101 (0.605 sec)\n",
      "INFO:tensorflow:global_step/sec: 183.014\n",
      "INFO:tensorflow:loss = 0.061722025, step = 24201 (0.546 sec)\n",
      "INFO:tensorflow:global_step/sec: 176.35\n",
      "INFO:tensorflow:loss = 0.024839997, step = 24301 (0.566 sec)\n",
      "INFO:tensorflow:global_step/sec: 152.451\n",
      "INFO:tensorflow:loss = 0.012993637, step = 24401 (0.656 sec)\n",
      "INFO:tensorflow:global_step/sec: 187.173\n",
      "INFO:tensorflow:loss = 0.11046138, step = 24501 (0.534 sec)\n",
      "INFO:tensorflow:global_step/sec: 251.436\n",
      "INFO:tensorflow:loss = 0.05960301, step = 24601 (0.399 sec)\n",
      "INFO:tensorflow:global_step/sec: 184.087\n",
      "INFO:tensorflow:loss = 0.041110698, step = 24701 (0.542 sec)\n",
      "INFO:tensorflow:global_step/sec: 165.525\n",
      "INFO:tensorflow:loss = 0.026353179, step = 24801 (0.604 sec)\n",
      "INFO:tensorflow:global_step/sec: 208.16\n",
      "INFO:tensorflow:loss = 0.036212537, step = 24901 (0.482 sec)\n",
      "INFO:tensorflow:global_step/sec: 168.734\n",
      "INFO:tensorflow:loss = 0.09131009, step = 25001 (0.594 sec)\n",
      "INFO:tensorflow:global_step/sec: 179.392\n",
      "INFO:tensorflow:loss = 0.026298579, step = 25101 (0.555 sec)\n",
      "INFO:tensorflow:global_step/sec: 78.6486\n",
      "INFO:tensorflow:loss = 0.027594555, step = 25201 (1.271 sec)\n",
      "INFO:tensorflow:global_step/sec: 123.072\n",
      "INFO:tensorflow:loss = 0.07537848, step = 25301 (0.813 sec)\n",
      "INFO:tensorflow:global_step/sec: 165.428\n",
      "INFO:tensorflow:loss = 0.023444394, step = 25401 (0.604 sec)\n",
      "INFO:tensorflow:global_step/sec: 168.929\n",
      "INFO:tensorflow:loss = 0.033137895, step = 25501 (0.592 sec)\n",
      "INFO:tensorflow:global_step/sec: 186.101\n",
      "INFO:tensorflow:loss = 0.046586398, step = 25601 (0.537 sec)\n",
      "INFO:tensorflow:global_step/sec: 190.96\n",
      "INFO:tensorflow:loss = 0.028592309, step = 25701 (0.524 sec)\n",
      "INFO:tensorflow:global_step/sec: 151.649\n",
      "INFO:tensorflow:loss = 0.008924235, step = 25801 (0.658 sec)\n",
      "INFO:tensorflow:global_step/sec: 153.779\n",
      "INFO:tensorflow:loss = 0.016601784, step = 25901 (0.650 sec)\n",
      "INFO:tensorflow:global_step/sec: 153.458\n",
      "INFO:tensorflow:loss = 0.015384496, step = 26001 (0.653 sec)\n",
      "INFO:tensorflow:global_step/sec: 153.803\n",
      "INFO:tensorflow:loss = 0.066789865, step = 26101 (0.650 sec)\n",
      "INFO:tensorflow:global_step/sec: 158.932\n",
      "INFO:tensorflow:loss = 0.00027285455, step = 26201 (0.628 sec)\n",
      "INFO:tensorflow:global_step/sec: 160.527\n",
      "INFO:tensorflow:loss = 0.038494267, step = 26301 (0.623 sec)\n",
      "INFO:tensorflow:global_step/sec: 160.622\n",
      "INFO:tensorflow:loss = 0.007198749, step = 26401 (0.623 sec)\n",
      "INFO:tensorflow:global_step/sec: 218.863\n",
      "INFO:tensorflow:loss = 0.08291208, step = 26501 (0.457 sec)\n",
      "INFO:tensorflow:global_step/sec: 168.687\n",
      "INFO:tensorflow:loss = 0.039321132, step = 26601 (0.593 sec)\n",
      "INFO:tensorflow:global_step/sec: 200.182\n",
      "INFO:tensorflow:loss = 0.055469245, step = 26701 (0.500 sec)\n",
      "INFO:tensorflow:global_step/sec: 143.098\n",
      "INFO:tensorflow:loss = 0.019949555, step = 26801 (0.699 sec)\n",
      "INFO:tensorflow:global_step/sec: 232.803\n",
      "INFO:tensorflow:loss = 0.033508778, step = 26901 (0.433 sec)\n",
      "INFO:tensorflow:global_step/sec: 209.441\n",
      "INFO:tensorflow:loss = 0.058275796, step = 27001 (0.474 sec)\n",
      "INFO:tensorflow:global_step/sec: 231.036\n",
      "INFO:tensorflow:loss = 0.02881173, step = 27101 (0.434 sec)\n",
      "INFO:tensorflow:global_step/sec: 226.154\n",
      "INFO:tensorflow:loss = 0.0077820853, step = 27201 (0.451 sec)\n",
      "INFO:tensorflow:global_step/sec: 219.446\n",
      "INFO:tensorflow:loss = 0.012913416, step = 27301 (0.447 sec)\n",
      "INFO:tensorflow:global_step/sec: 224.866\n",
      "INFO:tensorflow:loss = 0.053650945, step = 27401 (0.443 sec)\n",
      "INFO:tensorflow:global_step/sec: 218.991\n",
      "INFO:tensorflow:loss = 0.005872006, step = 27501 (0.458 sec)\n",
      "INFO:tensorflow:global_step/sec: 233.151\n",
      "INFO:tensorflow:loss = 0.12165472, step = 27601 (0.427 sec)\n",
      "INFO:tensorflow:global_step/sec: 230.414\n",
      "INFO:tensorflow:loss = 0.024157764, step = 27701 (0.434 sec)\n",
      "INFO:tensorflow:global_step/sec: 238.428\n",
      "INFO:tensorflow:loss = 0.066353455, step = 27801 (0.422 sec)\n",
      "INFO:tensorflow:global_step/sec: 222.276\n",
      "INFO:tensorflow:loss = 0.01549069, step = 27901 (0.448 sec)\n",
      "INFO:tensorflow:global_step/sec: 234.773\n",
      "INFO:tensorflow:loss = 0.012174499, step = 28001 (0.426 sec)\n",
      "INFO:tensorflow:global_step/sec: 226.721\n",
      "INFO:tensorflow:loss = 0.0035471884, step = 28101 (0.441 sec)\n",
      "INFO:tensorflow:global_step/sec: 243.238\n",
      "INFO:tensorflow:loss = 0.025679547, step = 28201 (0.411 sec)\n",
      "INFO:tensorflow:global_step/sec: 232.571\n",
      "INFO:tensorflow:loss = 0.01098119, step = 28301 (0.430 sec)\n",
      "INFO:tensorflow:global_step/sec: 218.15\n",
      "INFO:tensorflow:loss = 0.019567255, step = 28401 (0.458 sec)\n",
      "INFO:tensorflow:global_step/sec: 227.069\n",
      "INFO:tensorflow:loss = 0.014088279, step = 28501 (0.440 sec)\n",
      "INFO:tensorflow:global_step/sec: 241.673\n",
      "INFO:tensorflow:loss = 0.00884403, step = 28601 (0.414 sec)\n",
      "INFO:tensorflow:global_step/sec: 240.179\n",
      "INFO:tensorflow:loss = 0.11397333, step = 28701 (0.430 sec)\n",
      "INFO:tensorflow:global_step/sec: 237.065\n",
      "INFO:tensorflow:loss = 0.018168634, step = 28801 (0.408 sec)\n",
      "INFO:tensorflow:global_step/sec: 242.445\n",
      "INFO:tensorflow:loss = 0.046709266, step = 28901 (0.412 sec)\n",
      "INFO:tensorflow:global_step/sec: 237.981\n",
      "INFO:tensorflow:loss = 0.00031325727, step = 29001 (0.422 sec)\n",
      "INFO:tensorflow:global_step/sec: 220.823\n",
      "INFO:tensorflow:loss = 0.026891094, step = 29101 (0.451 sec)\n",
      "INFO:tensorflow:global_step/sec: 236.843\n",
      "INFO:tensorflow:loss = 0.018745838, step = 29201 (0.423 sec)\n",
      "INFO:tensorflow:global_step/sec: 235.164\n",
      "INFO:tensorflow:loss = 0.026390247, step = 29301 (0.424 sec)\n",
      "INFO:tensorflow:global_step/sec: 224.968\n",
      "INFO:tensorflow:loss = 0.068931945, step = 29401 (0.444 sec)\n",
      "INFO:tensorflow:global_step/sec: 216.432\n",
      "INFO:tensorflow:loss = 0.03795364, step = 29501 (0.464 sec)\n",
      "INFO:tensorflow:global_step/sec: 216.4\n",
      "INFO:tensorflow:loss = 0.014210516, step = 29601 (0.461 sec)\n",
      "INFO:tensorflow:global_step/sec: 96.3228\n",
      "INFO:tensorflow:loss = 0.022207944, step = 29701 (1.038 sec)\n",
      "INFO:tensorflow:global_step/sec: 200.787\n",
      "INFO:tensorflow:loss = 0.03477887, step = 29801 (0.499 sec)\n",
      "INFO:tensorflow:global_step/sec: 186.024\n",
      "INFO:tensorflow:loss = 0.0043892832, step = 29901 (0.538 sec)\n",
      "INFO:tensorflow:global_step/sec: 230.481\n",
      "INFO:tensorflow:loss = 0.043080833, step = 30001 (0.433 sec)\n",
      "INFO:tensorflow:global_step/sec: 236.205\n",
      "INFO:tensorflow:loss = 0.039838783, step = 30101 (0.424 sec)\n",
      "INFO:tensorflow:global_step/sec: 250.666\n",
      "INFO:tensorflow:loss = 0.0016801789, step = 30201 (0.400 sec)\n",
      "INFO:tensorflow:global_step/sec: 190.395\n",
      "INFO:tensorflow:loss = 0.022452952, step = 30301 (0.524 sec)\n",
      "INFO:tensorflow:global_step/sec: 230.041\n",
      "INFO:tensorflow:loss = 0.074219294, step = 30401 (0.435 sec)\n",
      "INFO:tensorflow:global_step/sec: 227.611\n",
      "INFO:tensorflow:loss = 0.035354055, step = 30501 (0.439 sec)\n",
      "INFO:tensorflow:global_step/sec: 194.518\n",
      "INFO:tensorflow:loss = 0.019119233, step = 30601 (0.514 sec)\n",
      "INFO:tensorflow:global_step/sec: 234.353\n",
      "INFO:tensorflow:loss = 0.01604664, step = 30701 (0.427 sec)\n",
      "INFO:tensorflow:global_step/sec: 232.032\n",
      "INFO:tensorflow:loss = 0.036443707, step = 30801 (0.431 sec)\n",
      "INFO:tensorflow:global_step/sec: 223.673\n",
      "INFO:tensorflow:loss = 0.011804424, step = 30901 (0.448 sec)\n",
      "INFO:tensorflow:global_step/sec: 218.191\n",
      "INFO:tensorflow:loss = 0.103018954, step = 31001 (0.459 sec)\n",
      "INFO:tensorflow:global_step/sec: 229.042\n",
      "INFO:tensorflow:loss = 0.0660163, step = 31101 (0.435 sec)\n",
      "INFO:tensorflow:global_step/sec: 232.736\n",
      "INFO:tensorflow:loss = 0.07232386, step = 31201 (0.430 sec)\n",
      "INFO:tensorflow:global_step/sec: 224.145\n",
      "INFO:tensorflow:loss = 0.035708345, step = 31301 (0.447 sec)\n"
     ]
    },
    {
     "name": "stdout",
     "output_type": "stream",
     "text": [
      "INFO:tensorflow:global_step/sec: 159.85\n",
      "INFO:tensorflow:loss = 0.03259742, step = 31401 (0.625 sec)\n",
      "INFO:tensorflow:global_step/sec: 189.367\n",
      "INFO:tensorflow:loss = 0.045308713, step = 31501 (0.529 sec)\n",
      "INFO:tensorflow:global_step/sec: 249.849\n",
      "INFO:tensorflow:loss = 0.0023783764, step = 31601 (0.399 sec)\n",
      "INFO:tensorflow:global_step/sec: 184.674\n",
      "INFO:tensorflow:loss = 0.010482566, step = 31701 (0.541 sec)\n",
      "INFO:tensorflow:global_step/sec: 243.935\n",
      "INFO:tensorflow:loss = 0.017387845, step = 31801 (0.410 sec)\n",
      "INFO:tensorflow:global_step/sec: 196.743\n",
      "INFO:tensorflow:loss = 0.038220253, step = 31901 (0.509 sec)\n",
      "INFO:tensorflow:global_step/sec: 197.755\n",
      "INFO:tensorflow:loss = 0.089130655, step = 32001 (0.505 sec)\n",
      "INFO:tensorflow:global_step/sec: 258.766\n",
      "INFO:tensorflow:loss = 0.011082405, step = 32101 (0.386 sec)\n",
      "INFO:tensorflow:global_step/sec: 233.212\n",
      "INFO:tensorflow:loss = 0.01786149, step = 32201 (0.429 sec)\n",
      "INFO:tensorflow:global_step/sec: 185.567\n",
      "INFO:tensorflow:loss = 0.012793759, step = 32301 (0.539 sec)\n",
      "INFO:tensorflow:global_step/sec: 174.424\n",
      "INFO:tensorflow:loss = 0.05619784, step = 32401 (0.573 sec)\n",
      "INFO:tensorflow:global_step/sec: 193.299\n",
      "INFO:tensorflow:loss = 0.0119130295, step = 32501 (0.518 sec)\n",
      "INFO:tensorflow:global_step/sec: 241.241\n",
      "INFO:tensorflow:loss = 0.0038941326, step = 32601 (0.414 sec)\n",
      "INFO:tensorflow:global_step/sec: 183.521\n",
      "INFO:tensorflow:loss = 0.0012798564, step = 32701 (0.545 sec)\n",
      "INFO:tensorflow:global_step/sec: 189.253\n",
      "INFO:tensorflow:loss = 0.027336363, step = 32801 (0.528 sec)\n",
      "INFO:tensorflow:global_step/sec: 241.139\n",
      "INFO:tensorflow:loss = 0.027767647, step = 32901 (0.415 sec)\n",
      "INFO:tensorflow:global_step/sec: 239.543\n",
      "INFO:tensorflow:loss = 0.0030006634, step = 33001 (0.418 sec)\n",
      "INFO:tensorflow:global_step/sec: 183.22\n",
      "INFO:tensorflow:loss = 0.0042434125, step = 33101 (0.547 sec)\n",
      "INFO:tensorflow:global_step/sec: 191.962\n",
      "INFO:tensorflow:loss = 0.0011968801, step = 33201 (0.520 sec)\n",
      "INFO:tensorflow:global_step/sec: 237.715\n",
      "INFO:tensorflow:loss = 0.033313412, step = 33301 (0.421 sec)\n",
      "INFO:tensorflow:global_step/sec: 234.563\n",
      "INFO:tensorflow:loss = 0.02939867, step = 33401 (0.428 sec)\n",
      "INFO:tensorflow:global_step/sec: 176.527\n",
      "INFO:tensorflow:loss = 0.01436635, step = 33501 (0.566 sec)\n",
      "INFO:tensorflow:global_step/sec: 168.379\n",
      "INFO:tensorflow:loss = 0.03018354, step = 33601 (0.593 sec)\n",
      "INFO:tensorflow:global_step/sec: 199.93\n",
      "INFO:tensorflow:loss = 0.016867911, step = 33701 (0.501 sec)\n",
      "INFO:tensorflow:global_step/sec: 191.484\n",
      "INFO:tensorflow:loss = 0.024970064, step = 33801 (0.522 sec)\n",
      "INFO:tensorflow:global_step/sec: 236.26\n",
      "INFO:tensorflow:loss = 0.014167271, step = 33901 (0.422 sec)\n",
      "INFO:tensorflow:global_step/sec: 182.644\n",
      "INFO:tensorflow:loss = 0.013995984, step = 34001 (0.547 sec)\n",
      "INFO:tensorflow:global_step/sec: 198.335\n",
      "INFO:tensorflow:loss = 0.027813861, step = 34101 (0.504 sec)\n",
      "INFO:tensorflow:global_step/sec: 187.052\n",
      "INFO:tensorflow:loss = 0.027480643, step = 34201 (0.536 sec)\n",
      "INFO:tensorflow:global_step/sec: 198.422\n",
      "INFO:tensorflow:loss = 0.025400236, step = 34301 (0.503 sec)\n",
      "INFO:tensorflow:global_step/sec: 223.34\n",
      "INFO:tensorflow:loss = 0.02555798, step = 34401 (0.448 sec)\n",
      "INFO:tensorflow:global_step/sec: 222.482\n",
      "INFO:tensorflow:loss = 0.008974658, step = 34501 (0.450 sec)\n",
      "INFO:tensorflow:global_step/sec: 172.564\n",
      "INFO:tensorflow:loss = 0.06537173, step = 34601 (0.580 sec)\n",
      "INFO:tensorflow:global_step/sec: 195.093\n",
      "INFO:tensorflow:loss = 0.002803896, step = 34701 (0.512 sec)\n",
      "INFO:tensorflow:global_step/sec: 188.488\n",
      "INFO:tensorflow:loss = 0.020009866, step = 34801 (0.531 sec)\n",
      "INFO:tensorflow:global_step/sec: 191.588\n",
      "INFO:tensorflow:loss = 0.032867637, step = 34901 (0.521 sec)\n",
      "INFO:tensorflow:global_step/sec: 242.797\n",
      "INFO:tensorflow:loss = 0.005064711, step = 35001 (0.412 sec)\n",
      "INFO:tensorflow:global_step/sec: 225.759\n",
      "INFO:tensorflow:loss = 0.047858052, step = 35101 (0.443 sec)\n",
      "INFO:tensorflow:global_step/sec: 233.935\n",
      "INFO:tensorflow:loss = 0.006598611, step = 35201 (0.427 sec)\n",
      "INFO:tensorflow:global_step/sec: 232.797\n",
      "INFO:tensorflow:loss = 0.017084824, step = 35301 (0.430 sec)\n",
      "INFO:tensorflow:global_step/sec: 250.737\n",
      "INFO:tensorflow:loss = 0.020329148, step = 35401 (0.399 sec)\n",
      "INFO:tensorflow:global_step/sec: 245.364\n",
      "INFO:tensorflow:loss = 0.011037899, step = 35501 (0.408 sec)\n",
      "INFO:tensorflow:global_step/sec: 246.067\n",
      "INFO:tensorflow:loss = 0.037976645, step = 35601 (0.408 sec)\n",
      "INFO:tensorflow:global_step/sec: 203.675\n",
      "INFO:tensorflow:loss = 0.002596608, step = 35701 (0.491 sec)\n",
      "INFO:tensorflow:global_step/sec: 233.936\n",
      "INFO:tensorflow:loss = 0.0065029794, step = 35801 (0.428 sec)\n",
      "INFO:tensorflow:global_step/sec: 212.264\n",
      "INFO:tensorflow:loss = 0.0067358515, step = 35901 (0.470 sec)\n",
      "INFO:tensorflow:global_step/sec: 249.661\n",
      "INFO:tensorflow:loss = 0.014834916, step = 36001 (0.402 sec)\n",
      "INFO:tensorflow:global_step/sec: 241.362\n",
      "INFO:tensorflow:loss = 0.03718976, step = 36101 (0.413 sec)\n",
      "INFO:tensorflow:global_step/sec: 240.147\n",
      "INFO:tensorflow:loss = 0.015201106, step = 36201 (0.416 sec)\n",
      "INFO:tensorflow:global_step/sec: 243.871\n",
      "INFO:tensorflow:loss = 0.0015753545, step = 36301 (0.410 sec)\n",
      "INFO:tensorflow:global_step/sec: 242.373\n",
      "INFO:tensorflow:loss = 0.017172018, step = 36401 (0.413 sec)\n",
      "INFO:tensorflow:global_step/sec: 251.642\n",
      "INFO:tensorflow:loss = 0.0048026727, step = 36501 (0.398 sec)\n",
      "INFO:tensorflow:global_step/sec: 225.971\n",
      "INFO:tensorflow:loss = 0.03433785, step = 36601 (0.443 sec)\n",
      "INFO:tensorflow:global_step/sec: 239.735\n",
      "INFO:tensorflow:loss = 0.0015003642, step = 36701 (0.417 sec)\n",
      "INFO:tensorflow:global_step/sec: 245.713\n",
      "INFO:tensorflow:loss = 0.0065126494, step = 36801 (0.407 sec)\n",
      "INFO:tensorflow:global_step/sec: 237.781\n",
      "INFO:tensorflow:loss = 0.029182142, step = 36901 (0.420 sec)\n",
      "INFO:tensorflow:global_step/sec: 250.433\n",
      "INFO:tensorflow:loss = 0.00864445, step = 37001 (0.401 sec)\n",
      "INFO:tensorflow:global_step/sec: 236.611\n",
      "INFO:tensorflow:loss = 0.013015954, step = 37101 (0.423 sec)\n",
      "INFO:tensorflow:global_step/sec: 235.75\n",
      "INFO:tensorflow:loss = 0.029275289, step = 37201 (0.423 sec)\n",
      "INFO:tensorflow:global_step/sec: 240.435\n",
      "INFO:tensorflow:loss = 0.038180802, step = 37301 (0.416 sec)\n",
      "INFO:tensorflow:global_step/sec: 224.811\n",
      "INFO:tensorflow:loss = 0.01264485, step = 37401 (0.446 sec)\n",
      "INFO:tensorflow:global_step/sec: 237.365\n",
      "INFO:tensorflow:loss = 0.012604624, step = 37501 (0.421 sec)\n",
      "INFO:tensorflow:global_step/sec: 228.787\n",
      "INFO:tensorflow:loss = 0.037420426, step = 37601 (0.435 sec)\n",
      "INFO:tensorflow:global_step/sec: 244.823\n",
      "INFO:tensorflow:loss = 0.01567, step = 37701 (0.408 sec)\n",
      "INFO:tensorflow:global_step/sec: 248.199\n",
      "INFO:tensorflow:loss = 0.031336665, step = 37801 (0.403 sec)\n",
      "INFO:tensorflow:global_step/sec: 240.869\n",
      "INFO:tensorflow:loss = 0.022516366, step = 37901 (0.417 sec)\n",
      "INFO:tensorflow:global_step/sec: 236.862\n",
      "INFO:tensorflow:loss = 0.015662894, step = 38001 (0.421 sec)\n",
      "INFO:tensorflow:global_step/sec: 231.376\n",
      "INFO:tensorflow:loss = 0.028527375, step = 38101 (0.432 sec)\n",
      "INFO:tensorflow:global_step/sec: 240.157\n",
      "INFO:tensorflow:loss = 0.0045143683, step = 38201 (0.417 sec)\n",
      "INFO:tensorflow:global_step/sec: 243.092\n",
      "INFO:tensorflow:loss = 0.0048428024, step = 38301 (0.411 sec)\n",
      "INFO:tensorflow:global_step/sec: 242.373\n",
      "INFO:tensorflow:loss = 0.0043226904, step = 38401 (0.413 sec)\n",
      "INFO:tensorflow:global_step/sec: 244.422\n",
      "INFO:tensorflow:loss = 0.0016656441, step = 38501 (0.409 sec)\n",
      "INFO:tensorflow:global_step/sec: 245.291\n",
      "INFO:tensorflow:loss = 0.029844614, step = 38601 (0.408 sec)\n",
      "INFO:tensorflow:global_step/sec: 223.953\n",
      "INFO:tensorflow:loss = 0.016823547, step = 38701 (0.446 sec)\n",
      "INFO:tensorflow:global_step/sec: 227.945\n",
      "INFO:tensorflow:loss = 0.04663923, step = 38801 (0.439 sec)\n",
      "INFO:tensorflow:global_step/sec: 246.573\n",
      "INFO:tensorflow:loss = 0.026425954, step = 38901 (0.407 sec)\n",
      "INFO:tensorflow:global_step/sec: 239.354\n",
      "INFO:tensorflow:loss = 0.0149465, step = 39001 (0.417 sec)\n",
      "INFO:tensorflow:global_step/sec: 245.845\n",
      "INFO:tensorflow:loss = 0.0037252598, step = 39101 (0.407 sec)\n",
      "INFO:tensorflow:global_step/sec: 243.968\n",
      "INFO:tensorflow:loss = 0.01278677, step = 39201 (0.410 sec)\n",
      "INFO:tensorflow:global_step/sec: 240.439\n",
      "INFO:tensorflow:loss = 0.023290427, step = 39301 (0.417 sec)\n",
      "INFO:tensorflow:global_step/sec: 215.969\n"
     ]
    },
    {
     "name": "stdout",
     "output_type": "stream",
     "text": [
      "INFO:tensorflow:loss = 0.011795448, step = 39401 (0.462 sec)\n",
      "INFO:tensorflow:global_step/sec: 229.826\n",
      "INFO:tensorflow:loss = 0.01894587, step = 39501 (0.437 sec)\n",
      "INFO:tensorflow:global_step/sec: 247.904\n",
      "INFO:tensorflow:loss = 0.03097219, step = 39601 (0.402 sec)\n",
      "INFO:tensorflow:global_step/sec: 248.822\n",
      "INFO:tensorflow:loss = 0.0036655797, step = 39701 (0.410 sec)\n",
      "INFO:tensorflow:global_step/sec: 238.84\n",
      "INFO:tensorflow:loss = 0.0021938672, step = 39801 (0.412 sec)\n",
      "INFO:tensorflow:global_step/sec: 248.426\n",
      "INFO:tensorflow:loss = 0.042205278, step = 39901 (0.402 sec)\n",
      "INFO:tensorflow:global_step/sec: 235.705\n",
      "INFO:tensorflow:loss = 0.013201911, step = 40001 (0.424 sec)\n",
      "INFO:tensorflow:global_step/sec: 194.93\n",
      "INFO:tensorflow:loss = 0.033668038, step = 40101 (0.514 sec)\n",
      "INFO:tensorflow:global_step/sec: 201.529\n",
      "INFO:tensorflow:loss = 0.0065653916, step = 40201 (0.494 sec)\n",
      "INFO:tensorflow:global_step/sec: 208.173\n",
      "INFO:tensorflow:loss = 0.016862744, step = 40301 (0.481 sec)\n",
      "INFO:tensorflow:global_step/sec: 239.654\n",
      "INFO:tensorflow:loss = 0.008670794, step = 40401 (0.419 sec)\n",
      "INFO:tensorflow:global_step/sec: 193.286\n",
      "INFO:tensorflow:loss = 0.00072437536, step = 40501 (0.517 sec)\n",
      "INFO:tensorflow:global_step/sec: 155.033\n",
      "INFO:tensorflow:loss = 0.007845276, step = 40601 (0.644 sec)\n",
      "INFO:tensorflow:global_step/sec: 183.261\n",
      "INFO:tensorflow:loss = 0.0042316183, step = 40701 (0.548 sec)\n",
      "INFO:tensorflow:global_step/sec: 179.258\n",
      "INFO:tensorflow:loss = 0.0031673177, step = 40801 (0.555 sec)\n",
      "INFO:tensorflow:global_step/sec: 187.197\n",
      "INFO:tensorflow:loss = 0.0050260695, step = 40901 (0.534 sec)\n",
      "INFO:tensorflow:global_step/sec: 187.468\n",
      "INFO:tensorflow:loss = 0.01910133, step = 41001 (0.534 sec)\n",
      "INFO:tensorflow:global_step/sec: 186.556\n",
      "INFO:tensorflow:loss = 0.014473525, step = 41101 (0.536 sec)\n",
      "INFO:tensorflow:global_step/sec: 182.647\n",
      "INFO:tensorflow:loss = 0.021818765, step = 41201 (0.549 sec)\n",
      "INFO:tensorflow:global_step/sec: 171.464\n",
      "INFO:tensorflow:loss = 0.0074782306, step = 41301 (0.583 sec)\n",
      "INFO:tensorflow:global_step/sec: 181.865\n",
      "INFO:tensorflow:loss = 0.009245757, step = 41401 (0.549 sec)\n",
      "INFO:tensorflow:global_step/sec: 190.584\n",
      "INFO:tensorflow:loss = 0.023196049, step = 41501 (0.526 sec)\n",
      "INFO:tensorflow:global_step/sec: 196.469\n",
      "INFO:tensorflow:loss = 0.0332653, step = 41601 (0.507 sec)\n",
      "INFO:tensorflow:global_step/sec: 193.235\n",
      "INFO:tensorflow:loss = 0.0089837145, step = 41701 (0.517 sec)\n",
      "INFO:tensorflow:global_step/sec: 180.608\n",
      "INFO:tensorflow:loss = 0.020039257, step = 41801 (0.554 sec)\n",
      "INFO:tensorflow:global_step/sec: 178.616\n",
      "INFO:tensorflow:loss = 0.018342204, step = 41901 (0.560 sec)\n",
      "INFO:tensorflow:global_step/sec: 190.815\n",
      "INFO:tensorflow:loss = 0.0006578637, step = 42001 (0.524 sec)\n",
      "INFO:tensorflow:global_step/sec: 157.999\n",
      "INFO:tensorflow:loss = 0.01740099, step = 42101 (0.634 sec)\n",
      "INFO:tensorflow:global_step/sec: 139.866\n",
      "INFO:tensorflow:loss = 0.032924272, step = 42201 (0.713 sec)\n",
      "INFO:tensorflow:global_step/sec: 198.495\n",
      "INFO:tensorflow:loss = 0.041871138, step = 42301 (0.504 sec)\n",
      "INFO:tensorflow:global_step/sec: 181.622\n",
      "INFO:tensorflow:loss = 0.039474137, step = 42401 (0.551 sec)\n",
      "INFO:tensorflow:global_step/sec: 184.598\n",
      "INFO:tensorflow:loss = 0.008166014, step = 42501 (0.541 sec)\n",
      "INFO:tensorflow:global_step/sec: 185.047\n",
      "INFO:tensorflow:loss = 0.018485019, step = 42601 (0.541 sec)\n",
      "INFO:tensorflow:global_step/sec: 193.615\n",
      "INFO:tensorflow:loss = 0.0021267007, step = 42701 (0.516 sec)\n",
      "INFO:tensorflow:global_step/sec: 189.353\n",
      "INFO:tensorflow:loss = 0.024353653, step = 42801 (0.530 sec)\n",
      "INFO:tensorflow:global_step/sec: 193.938\n",
      "INFO:tensorflow:loss = 0.0033488711, step = 42901 (0.514 sec)\n",
      "INFO:tensorflow:global_step/sec: 176.267\n",
      "INFO:tensorflow:loss = 0.012649933, step = 43001 (0.567 sec)\n",
      "INFO:tensorflow:global_step/sec: 193.478\n",
      "INFO:tensorflow:loss = 0.009622413, step = 43101 (0.517 sec)\n",
      "INFO:tensorflow:global_step/sec: 187.898\n",
      "INFO:tensorflow:loss = 0.008389437, step = 43201 (0.532 sec)\n",
      "INFO:tensorflow:global_step/sec: 191.718\n",
      "INFO:tensorflow:loss = 0.021010581, step = 43301 (0.522 sec)\n",
      "INFO:tensorflow:global_step/sec: 187.549\n",
      "INFO:tensorflow:loss = 0.019821016, step = 43401 (0.533 sec)\n",
      "INFO:tensorflow:global_step/sec: 187.839\n",
      "INFO:tensorflow:loss = 0.0006618025, step = 43501 (0.534 sec)\n",
      "INFO:tensorflow:global_step/sec: 184.334\n",
      "INFO:tensorflow:loss = 0.028052479, step = 43601 (0.541 sec)\n",
      "INFO:tensorflow:global_step/sec: 168.92\n",
      "INFO:tensorflow:loss = 0.019744284, step = 43701 (0.592 sec)\n",
      "INFO:tensorflow:global_step/sec: 198.263\n",
      "INFO:tensorflow:loss = 0.03308282, step = 43801 (0.507 sec)\n",
      "INFO:tensorflow:global_step/sec: 195.454\n",
      "INFO:tensorflow:loss = 0.008089245, step = 43901 (0.509 sec)\n",
      "INFO:tensorflow:Saving checkpoints for 44000 into /tmp/tmpq3b__z60/model.ckpt.\n",
      "INFO:tensorflow:Loss for final step: 0.010058054.\n"
     ]
    },
    {
     "data": {
      "text/plain": [
       "<tensorflow.python.estimator.canned.dnn.DNNClassifier at 0x7fbb042b2710>"
      ]
     },
     "execution_count": 34,
     "metadata": {},
     "output_type": "execute_result"
    }
   ],
   "source": [
    "dnn_clf.train(input_fn=input_fn)"
   ]
  },
  {
   "cell_type": "markdown",
   "metadata": {},
   "source": [
    "### Evaluating Model"
   ]
  },
  {
   "cell_type": "code",
   "execution_count": 35,
   "metadata": {},
   "outputs": [
    {
     "name": "stdout",
     "output_type": "stream",
     "text": [
      "INFO:tensorflow:Calling model_fn.\n",
      "INFO:tensorflow:Done calling model_fn.\n",
      "INFO:tensorflow:Starting evaluation at 2019-01-27-14:56:45\n",
      "INFO:tensorflow:Graph was finalized.\n",
      "INFO:tensorflow:Restoring parameters from /tmp/tmpq3b__z60/model.ckpt-44000\n",
      "INFO:tensorflow:Running local_init_op.\n",
      "INFO:tensorflow:Done running local_init_op.\n",
      "INFO:tensorflow:Finished evaluation at 2019-01-27-14:56:46\n",
      "INFO:tensorflow:Saving dict for global step 44000: accuracy = 0.9787, average_loss = 0.09775799, global_step = 44000, loss = 12.374429\n",
      "INFO:tensorflow:Saving 'checkpoint_path' summary for global step 44000: /tmp/tmpq3b__z60/model.ckpt-44000\n"
     ]
    }
   ],
   "source": [
    "eval_results = dnn_clf.evaluate(input_fn=test_input_fn)"
   ]
  },
  {
   "cell_type": "code",
   "execution_count": 36,
   "metadata": {},
   "outputs": [
    {
     "data": {
      "text/plain": [
       "{'accuracy': 0.9787,\n",
       " 'average_loss': 0.09775799,\n",
       " 'loss': 12.374429,\n",
       " 'global_step': 44000}"
      ]
     },
     "execution_count": 36,
     "metadata": {},
     "output_type": "execute_result"
    }
   ],
   "source": [
    "eval_results"
   ]
  },
  {
   "cell_type": "markdown",
   "metadata": {},
   "source": [
    "### Predicting Data"
   ]
  },
  {
   "cell_type": "code",
   "execution_count": 37,
   "metadata": {},
   "outputs": [
    {
     "name": "stdout",
     "output_type": "stream",
     "text": [
      "INFO:tensorflow:Calling model_fn.\n",
      "INFO:tensorflow:Done calling model_fn.\n",
      "INFO:tensorflow:Graph was finalized.\n",
      "INFO:tensorflow:Restoring parameters from /tmp/tmpq3b__z60/model.ckpt-44000\n",
      "INFO:tensorflow:Running local_init_op.\n",
      "INFO:tensorflow:Done running local_init_op.\n"
     ]
    },
    {
     "data": {
      "text/plain": [
       "{'logits': array([ -3.167969  ,  -3.8131082 ,  -8.650086  ,   4.233424  ,\n",
       "        -13.740841  ,  -0.23243701, -12.481055  ,  15.392525  ,\n",
       "         -7.4812083 ,  -0.77521473], dtype=float32),\n",
       " 'probabilities': array([8.6950847e-09, 4.5613477e-09, 3.6176017e-11, 1.4244851e-05,\n",
       "        2.2260441e-13, 1.6374157e-07, 7.8460545e-13, 9.9998546e-01,\n",
       "        1.1642801e-10, 9.5155407e-08], dtype=float32),\n",
       " 'class_ids': array([7]),\n",
       " 'classes': array([b'7'], dtype=object)}"
      ]
     },
     "execution_count": 37,
     "metadata": {},
     "output_type": "execute_result"
    }
   ],
   "source": [
    "y_pred_iter = dnn_clf.predict(input_fn=test_input_fn)\n",
    "y_pred = list(y_pred_iter)\n",
    "y_pred[0]"
   ]
  },
  {
   "cell_type": "markdown",
   "metadata": {},
   "source": [
    "## Keras"
   ]
  },
  {
   "cell_type": "code",
   "execution_count": 52,
   "metadata": {},
   "outputs": [],
   "source": [
    "from keras.models import Sequential, load_model\n",
    "\n",
    "dnn_keras_model = Sequential()"
   ]
  },
  {
   "cell_type": "markdown",
   "metadata": {},
   "source": [
    "### Defining Layers"
   ]
  },
  {
   "cell_type": "code",
   "execution_count": 59,
   "metadata": {},
   "outputs": [],
   "source": [
    "from keras.layers import Dense\n",
    "\n",
    "dnn_keras_model.add(Dense(units=300, input_dim=784, activation='relu'))\n",
    "dnn_keras_model.add(Dense(units=100, activation='relu'))\n",
    "dnn_keras_model.add(Dense(units=10, activation='softmax'))"
   ]
  },
  {
   "cell_type": "markdown",
   "metadata": {},
   "source": [
    "### Compiling Model"
   ]
  },
  {
   "cell_type": "code",
   "execution_count": 60,
   "metadata": {},
   "outputs": [],
   "source": [
    "dnn_keras_model.compile(optimizer='adam',\n",
    "              loss='sparse_categorical_crossentropy',\n",
    "              metrics=['accuracy'])"
   ]
  },
  {
   "cell_type": "markdown",
   "metadata": {},
   "source": [
    "### Defining Early Stopping"
   ]
  },
  {
   "cell_type": "code",
   "execution_count": 61,
   "metadata": {},
   "outputs": [],
   "source": [
    "from keras.callbacks import EarlyStopping\n",
    "\n",
    "early_stopping_monitor = EarlyStopping(patience=2)"
   ]
  },
  {
   "cell_type": "markdown",
   "metadata": {},
   "source": [
    "### Training Model"
   ]
  },
  {
   "cell_type": "code",
   "execution_count": 64,
   "metadata": {},
   "outputs": [
    {
     "name": "stdout",
     "output_type": "stream",
     "text": [
      "Train on 38500 samples, validate on 16500 samples\n",
      "Epoch 1/40\n",
      "38500/38500 [==============================] - 13s 350us/step - loss: 0.4506 - acc: 0.8546 - val_loss: 0.1756 - val_acc: 0.9515\n",
      "Epoch 2/40\n",
      "38500/38500 [==============================] - 12s 304us/step - loss: 0.1401 - acc: 0.9602 - val_loss: 0.1513 - val_acc: 0.9587\n",
      "Epoch 3/40\n",
      "38500/38500 [==============================] - 12s 320us/step - loss: 0.0929 - acc: 0.9727 - val_loss: 0.1288 - val_acc: 0.9659\n",
      "Epoch 4/40\n",
      "38500/38500 [==============================] - 15s 391us/step - loss: 0.0731 - acc: 0.9789 - val_loss: 0.1249 - val_acc: 0.9671\n",
      "Epoch 5/40\n",
      "38500/38500 [==============================] - 12s 307us/step - loss: 0.0583 - acc: 0.9830 - val_loss: 0.1246 - val_acc: 0.9681\n",
      "Epoch 6/40\n",
      "38500/38500 [==============================] - 8s 219us/step - loss: 0.0505 - acc: 0.9858 - val_loss: 0.1251 - val_acc: 0.9675\n",
      "Epoch 7/40\n",
      "38500/38500 [==============================] - 8s 220us/step - loss: 0.0433 - acc: 0.9877 - val_loss: 0.1168 - val_acc: 0.9729\n",
      "Epoch 8/40\n",
      "38500/38500 [==============================] - 8s 215us/step - loss: 0.0371 - acc: 0.9891 - val_loss: 0.1296 - val_acc: 0.9705\n",
      "Epoch 9/40\n",
      "38500/38500 [==============================] - 9s 232us/step - loss: 0.0321 - acc: 0.9907 - val_loss: 0.1297 - val_acc: 0.9699\n"
     ]
    },
    {
     "data": {
      "text/plain": [
       "<keras.callbacks.History at 0x7fbae4710160>"
      ]
     },
     "execution_count": 64,
     "metadata": {},
     "output_type": "execute_result"
    }
   ],
   "source": [
    "dnn_keras_model.fit(X_train, y_train, epochs=40, validation_split=0.3, callbacks=[early_stopping_monitor])"
   ]
  },
  {
   "cell_type": "code",
   "execution_count": 65,
   "metadata": {},
   "outputs": [],
   "source": [
    "dnn_keras_model.save('./Models/keras_example.h5')"
   ]
  },
  {
   "cell_type": "markdown",
   "metadata": {},
   "source": [
    "### Predicting Data"
   ]
  },
  {
   "cell_type": "code",
   "execution_count": 68,
   "metadata": {},
   "outputs": [],
   "source": [
    "dnn_keras_model = load_model('./Models/keras_example.h5')"
   ]
  },
  {
   "cell_type": "code",
   "execution_count": 78,
   "metadata": {},
   "outputs": [],
   "source": [
    "predictions = dnn_keras_model.predict_classes(X_test)"
   ]
  },
  {
   "cell_type": "markdown",
   "metadata": {},
   "source": [
    "### Evaluating Model"
   ]
  },
  {
   "cell_type": "code",
   "execution_count": 79,
   "metadata": {},
   "outputs": [
    {
     "name": "stdout",
     "output_type": "stream",
     "text": [
      "              precision    recall  f1-score   support\n",
      "\n",
      "           0       0.99      0.97      0.98       998\n",
      "           1       1.00      0.98      0.99      1159\n",
      "           2       0.98      0.98      0.98      1027\n",
      "           3       0.98      0.95      0.97      1038\n",
      "           4       0.96      0.98      0.97       962\n",
      "           5       0.95      0.98      0.97       867\n",
      "           6       0.97      0.98      0.98       949\n",
      "           7       0.98      0.98      0.98      1034\n",
      "           8       0.97      0.97      0.97       969\n",
      "           9       0.97      0.98      0.97       997\n",
      "\n",
      "   micro avg       0.98      0.98      0.98     10000\n",
      "   macro avg       0.97      0.98      0.98     10000\n",
      "weighted avg       0.98      0.98      0.98     10000\n",
      "\n",
      "[[ 971    0    3    0    4    2   10    2    1    5]\n",
      " [   1 1131    4    2    3    1    3    6    4    4]\n",
      " [   1    1 1008    5    4    0    0    4    4    0]\n",
      " [   1    0    4  991    0   27    1    3    6    5]\n",
      " [   0    0    2    0  947    0    5    0    1    7]\n",
      " [   1    1    0    1    0  849    6    0    6    3]\n",
      " [   2    2    0    0    6    5  931    0    3    0]\n",
      " [   1    0    6    3    2    1    0 1009    4    8]\n",
      " [   2    0    5    6    2    5    2    0  944    3]\n",
      " [   0    0    0    2   14    2    0    4    1  974]]\n"
     ]
    }
   ],
   "source": [
    "from sklearn.metrics import classification_report, confusion_matrix\n",
    "\n",
    "print(classification_report(predictions, y_test))\n",
    "print(confusion_matrix(predictions, y_test))"
   ]
  }
 ],
 "metadata": {
  "kernelspec": {
   "display_name": "Python 3",
   "language": "python",
   "name": "python3"
  },
  "language_info": {
   "codemirror_mode": {
    "name": "ipython",
    "version": 3
   },
   "file_extension": ".py",
   "mimetype": "text/x-python",
   "name": "python",
   "nbconvert_exporter": "python",
   "pygments_lexer": "ipython3",
   "version": "3.6.8"
  }
 },
 "nbformat": 4,
 "nbformat_minor": 2
}
