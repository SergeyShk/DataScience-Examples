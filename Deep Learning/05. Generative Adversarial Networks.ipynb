{
 "cells": [
  {
   "cell_type": "markdown",
   "metadata": {},
   "source": [
    "# Generative Adversarial Networks"
   ]
  },
  {
   "cell_type": "code",
   "execution_count": 1,
   "metadata": {},
   "outputs": [],
   "source": [
    "import numpy as np\n",
    "import tensorflow as tf\n",
    "import matplotlib.pyplot as plt\n",
    "import seaborn as sns\n",
    "%matplotlib inline\n",
    "sns.set_palette('GnBu_d')\n",
    "sns.set_style('whitegrid')"
   ]
  },
  {
   "cell_type": "markdown",
   "metadata": {},
   "source": [
    "## Data Loading"
   ]
  },
  {
   "cell_type": "code",
   "execution_count": 3,
   "metadata": {},
   "outputs": [
    {
     "name": "stdout",
     "output_type": "stream",
     "text": [
      "Extracting Data/train-images-idx3-ubyte.gz\n",
      "Extracting Data/train-labels-idx1-ubyte.gz\n",
      "Extracting Data/t10k-images-idx3-ubyte.gz\n",
      "Extracting Data/t10k-labels-idx1-ubyte.gz\n"
     ]
    }
   ],
   "source": [
    "from tensorflow.examples.tutorials.mnist import input_data\n",
    "mnist = input_data.read_data_sets('Data/', one_hot=True)"
   ]
  },
  {
   "cell_type": "code",
   "execution_count": 4,
   "metadata": {},
   "outputs": [
    {
     "data": {
      "image/png": "[encoded data removed]",
      "text/plain": [
       "<Figure size 432x288 with 1 Axes>"
      ]
     },
     "metadata": {
      "needs_background": "light"
     },
     "output_type": "display_data"
    }
   ],
   "source": [
    "plt.imshow(mnist.train.images[777].reshape(28,28));"
   ]
  },
  {
   "cell_type": "markdown",
   "metadata": {},
   "source": [
    "## Defining Placeholders"
   ]
  },
  {
   "cell_type": "code",
   "execution_count": 5,
   "metadata": {},
   "outputs": [],
   "source": [
    "tf.reset_default_graph()\n",
    "\n",
    "with tf.name_scope('inputs'):\n",
    "    real_images = tf.placeholder(tf.float32, shape=[None,784])\n",
    "    z = tf.placeholder(tf.float32, shape=[None,100])"
   ]
  },
  {
   "cell_type": "markdown",
   "metadata": {},
   "source": [
    "## Creating Generator"
   ]
  },
  {
   "cell_type": "code",
   "execution_count": 6,
   "metadata": {},
   "outputs": [],
   "source": [
    "def generator(z, reuse=None):\n",
    "    with tf.variable_scope('gen', reuse=reuse):\n",
    "        alpha = 0.01\n",
    "        hidden1 = tf.layers.dense(inputs=z, units=128)\n",
    "        hidden1 = tf.maximum(alpha * hidden1, hidden1)\n",
    "        hidden2 = tf.layers.dense(inputs=hidden1, units=128)\n",
    "        hidden2 = tf.maximum(alpha * hidden2, hidden2)\n",
    "        output = tf.layers.dense(hidden2, units=784, activation=tf.nn.tanh)\n",
    "        return output"
   ]
  },
  {
   "cell_type": "code",
   "execution_count": 7,
   "metadata": {},
   "outputs": [],
   "source": [
    "G = generator(z)"
   ]
  },
  {
   "cell_type": "markdown",
   "metadata": {},
   "source": [
    "## Creating Discriminator"
   ]
  },
  {
   "cell_type": "code",
   "execution_count": 8,
   "metadata": {},
   "outputs": [],
   "source": [
    "def discriminator(X, reuse=None):\n",
    "    with tf.variable_scope('dis', reuse=reuse):\n",
    "        alpha = 0.01\n",
    "        hidden1 = tf.layers.dense(inputs=X, units=128)\n",
    "        hidden1 = tf.maximum(alpha * hidden1, hidden1)\n",
    "        hidden2 = tf.layers.dense(inputs=hidden1, units=128)\n",
    "        hidden2 = tf.maximum(alpha * hidden2, hidden2)\n",
    "        logits = tf.layers.dense(hidden2, units=1)\n",
    "        output = tf.sigmoid(logits)\n",
    "        return output, logits"
   ]
  },
  {
   "cell_type": "code",
   "execution_count": 9,
   "metadata": {},
   "outputs": [],
   "source": [
    "D_output_real, D_logits_real = discriminator(real_images)\n",
    "D_output_fake, D_logits_fake = discriminator(G, reuse=True)"
   ]
  },
  {
   "cell_type": "markdown",
   "metadata": {},
   "source": [
    "## Defining Loss Function"
   ]
  },
  {
   "cell_type": "code",
   "execution_count": 10,
   "metadata": {},
   "outputs": [],
   "source": [
    "def loss_func(logits_in, labels_in):\n",
    "    return tf.reduce_mean(tf.nn.sigmoid_cross_entropy_with_logits(logits=logits_in, labels=labels_in))"
   ]
  },
  {
   "cell_type": "code",
   "execution_count": 11,
   "metadata": {},
   "outputs": [],
   "source": [
    "with tf.name_scope('loss'):\n",
    "    D_real_loss = loss_func(D_logits_real,tf.ones_like(D_logits_real) * (0.9))\n",
    "    D_fake_loss = loss_func(D_logits_fake,tf.zeros_like(D_logits_real))\n",
    "    D_loss = D_real_loss + D_fake_loss\n",
    "    G_loss = loss_func(D_logits_fake,tf.ones_like(D_logits_fake))"
   ]
  },
  {
   "cell_type": "markdown",
   "metadata": {},
   "source": [
    "## Training Model"
   ]
  },
  {
   "cell_type": "code",
   "execution_count": 12,
   "metadata": {},
   "outputs": [
    {
     "name": "stdout",
     "output_type": "stream",
     "text": [
      "['dis/dense/kernel:0', 'dis/dense/bias:0', 'dis/dense_1/kernel:0', 'dis/dense_1/bias:0', 'dis/dense_2/kernel:0', 'dis/dense_2/bias:0']\n",
      "['gen/dense/kernel:0', 'gen/dense/bias:0', 'gen/dense_1/kernel:0', 'gen/dense_1/bias:0', 'gen/dense_2/kernel:0', 'gen/dense_2/bias:0']\n"
     ]
    }
   ],
   "source": [
    "tvars = tf.trainable_variables()\n",
    "\n",
    "d_vars = [var for var in tvars if 'dis' in var.name]\n",
    "g_vars = [var for var in tvars if 'gen' in var.name]\n",
    "\n",
    "print([v.name for v in d_vars])\n",
    "print([v.name for v in g_vars])"
   ]
  },
  {
   "cell_type": "code",
   "execution_count": 13,
   "metadata": {},
   "outputs": [],
   "source": [
    "learning_rate = 0.001\n",
    "\n",
    "with tf.name_scope('train'):\n",
    "    optimizer = tf.train.AdamOptimizer(learning_rate)\n",
    "    D_trainer = optimizer.minimize(D_loss, var_list=d_vars)\n",
    "    G_trainer = optimizer.minimize(G_loss, var_list=g_vars)"
   ]
  },
  {
   "cell_type": "markdown",
   "metadata": {},
   "source": [
    "## Running Model"
   ]
  },
  {
   "cell_type": "code",
   "execution_count": 14,
   "metadata": {},
   "outputs": [],
   "source": [
    "init = tf.global_variables_initializer()\n",
    "saver = tf.train.Saver()"
   ]
  },
  {
   "cell_type": "code",
   "execution_count": 20,
   "metadata": {},
   "outputs": [
    {
     "name": "stdout",
     "output_type": "stream",
     "text": [
      "Currently on Epoch 1 of 100 total...\n",
      "Currently on Epoch 2 of 100 total...\n",
      "Currently on Epoch 3 of 100 total...\n",
      "Currently on Epoch 4 of 100 total...\n",
      "Currently on Epoch 5 of 100 total...\n",
      "Currently on Epoch 6 of 100 total...\n",
      "Currently on Epoch 7 of 100 total...\n",
      "Currently on Epoch 8 of 100 total...\n",
      "Currently on Epoch 9 of 100 total...\n",
      "Currently on Epoch 10 of 100 total...\n",
      "Currently on Epoch 11 of 100 total...\n",
      "Currently on Epoch 12 of 100 total...\n",
      "Currently on Epoch 13 of 100 total...\n",
      "Currently on Epoch 14 of 100 total...\n",
      "Currently on Epoch 15 of 100 total...\n",
      "Currently on Epoch 16 of 100 total...\n",
      "Currently on Epoch 17 of 100 total...\n",
      "Currently on Epoch 18 of 100 total...\n",
      "Currently on Epoch 19 of 100 total...\n",
      "Currently on Epoch 20 of 100 total...\n",
      "Currently on Epoch 21 of 100 total...\n",
      "Currently on Epoch 22 of 100 total...\n",
      "Currently on Epoch 23 of 100 total...\n",
      "Currently on Epoch 24 of 100 total...\n",
      "Currently on Epoch 25 of 100 total...\n",
      "Currently on Epoch 26 of 100 total...\n",
      "Currently on Epoch 27 of 100 total...\n",
      "Currently on Epoch 28 of 100 total...\n",
      "Currently on Epoch 29 of 100 total...\n",
      "Currently on Epoch 30 of 100 total...\n",
      "Currently on Epoch 31 of 100 total...\n",
      "Currently on Epoch 32 of 100 total...\n",
      "Currently on Epoch 33 of 100 total...\n",
      "Currently on Epoch 34 of 100 total...\n",
      "Currently on Epoch 35 of 100 total...\n",
      "Currently on Epoch 36 of 100 total...\n",
      "Currently on Epoch 37 of 100 total...\n",
      "Currently on Epoch 38 of 100 total...\n",
      "Currently on Epoch 39 of 100 total...\n",
      "Currently on Epoch 40 of 100 total...\n",
      "Currently on Epoch 41 of 100 total...\n",
      "Currently on Epoch 42 of 100 total...\n",
      "Currently on Epoch 43 of 100 total...\n",
      "Currently on Epoch 44 of 100 total...\n",
      "Currently on Epoch 45 of 100 total...\n",
      "Currently on Epoch 46 of 100 total...\n",
      "Currently on Epoch 47 of 100 total...\n",
      "Currently on Epoch 48 of 100 total...\n",
      "Currently on Epoch 49 of 100 total...\n",
      "Currently on Epoch 50 of 100 total...\n",
      "Currently on Epoch 51 of 100 total...\n",
      "Currently on Epoch 52 of 100 total...\n",
      "Currently on Epoch 53 of 100 total...\n",
      "Currently on Epoch 54 of 100 total...\n",
      "Currently on Epoch 55 of 100 total...\n",
      "Currently on Epoch 56 of 100 total...\n",
      "Currently on Epoch 57 of 100 total...\n",
      "Currently on Epoch 58 of 100 total...\n",
      "Currently on Epoch 59 of 100 total...\n",
      "Currently on Epoch 60 of 100 total...\n",
      "Currently on Epoch 61 of 100 total...\n",
      "Currently on Epoch 62 of 100 total...\n",
      "Currently on Epoch 63 of 100 total...\n",
      "Currently on Epoch 64 of 100 total...\n",
      "Currently on Epoch 65 of 100 total...\n",
      "Currently on Epoch 66 of 100 total...\n",
      "Currently on Epoch 67 of 100 total...\n",
      "Currently on Epoch 68 of 100 total...\n",
      "Currently on Epoch 69 of 100 total...\n",
      "Currently on Epoch 70 of 100 total...\n",
      "Currently on Epoch 71 of 100 total...\n",
      "Currently on Epoch 72 of 100 total...\n",
      "Currently on Epoch 73 of 100 total...\n",
      "Currently on Epoch 74 of 100 total...\n",
      "Currently on Epoch 75 of 100 total...\n",
      "Currently on Epoch 76 of 100 total...\n",
      "Currently on Epoch 77 of 100 total...\n",
      "Currently on Epoch 78 of 100 total...\n",
      "Currently on Epoch 79 of 100 total...\n",
      "Currently on Epoch 80 of 100 total...\n",
      "Currently on Epoch 81 of 100 total...\n",
      "Currently on Epoch 82 of 100 total...\n",
      "Currently on Epoch 83 of 100 total...\n",
      "Currently on Epoch 84 of 100 total...\n",
      "Currently on Epoch 85 of 100 total...\n",
      "Currently on Epoch 86 of 100 total...\n",
      "Currently on Epoch 87 of 100 total...\n",
      "Currently on Epoch 88 of 100 total...\n",
      "Currently on Epoch 89 of 100 total...\n",
      "Currently on Epoch 90 of 100 total...\n",
      "Currently on Epoch 91 of 100 total...\n",
      "Currently on Epoch 92 of 100 total...\n",
      "Currently on Epoch 93 of 100 total...\n",
      "Currently on Epoch 94 of 100 total...\n",
      "Currently on Epoch 95 of 100 total...\n",
      "Currently on Epoch 96 of 100 total...\n",
      "Currently on Epoch 97 of 100 total...\n",
      "Currently on Epoch 98 of 100 total...\n",
      "Currently on Epoch 99 of 100 total...\n",
      "Currently on Epoch 100 of 100 total...\n"
     ]
    }
   ],
   "source": [
    "n_epochs = 100\n",
    "batch_size = 150\n",
    "samples = []\n",
    "\n",
    "with tf.Session() as sess:\n",
    "    init.run()\n",
    "    for epoch in range(n_epochs):\n",
    "        n_batches = mnist.train.num_examples // batch_size\n",
    "        for iteration in range(n_batches):\n",
    "            batch = mnist.train.next_batch(batch_size)\n",
    "            batch_images = batch[0].reshape((batch_size, 784))\n",
    "            batch_images = batch_images * 2 - 1\n",
    "            batch_z = np.random.uniform(-1, 1, size=(batch_size, 100))\n",
    "            sess.run(D_trainer, feed_dict={real_images: batch_images, z: batch_z})\n",
    "            sess.run(G_trainer, feed_dict={z: batch_z})\n",
    "        print(\"Currently on Epoch {} of {} total...\".format(epoch + 1, n_epochs))\n",
    "        sample_z = np.random.uniform(-1, 1, size=(1, 100))\n",
    "        gen_sample = sess.run(generator(z, reuse=True), feed_dict={z: sample_z})\n",
    "        samples.append(gen_sample)\n",
    "        \n",
    "    save_path = saver.save(sess, './Models/tf_gan_example.ckpt')"
   ]
  },
  {
   "cell_type": "markdown",
   "metadata": {},
   "source": [
    "## Predicting Data"
   ]
  },
  {
   "cell_type": "code",
   "execution_count": 21,
   "metadata": {},
   "outputs": [
    {
     "name": "stdout",
     "output_type": "stream",
     "text": [
      "INFO:tensorflow:Restoring parameters from ./Models/tf_gan_example.ckpt\n"
     ]
    }
   ],
   "source": [
    "saver = tf.train.Saver(var_list=g_vars)\n",
    "new_samples = []\n",
    "\n",
    "with tf.Session() as sess:\n",
    "    saver.restore(sess, save_path)\n",
    "    for x in range(5):\n",
    "        sample_z = np.random.uniform(-1, 1, size=(1,100))\n",
    "        gen_sample = sess.run(generator(z, reuse=True), feed_dict={z:sample_z})\n",
    "        new_samples.append(gen_sample)"
   ]
  },
  {
   "cell_type": "code",
   "execution_count": 22,
   "metadata": {},
   "outputs": [
    {
     "data": {
      "image/png": "[encoded data removed]",
      "text/plain": [
       "<Figure size 432x288 with 1 Axes>"
      ]
     },
     "metadata": {
      "needs_background": "light"
     },
     "output_type": "display_data"
    }
   ],
   "source": [
    "plt.imshow(samples[0].reshape(28, 28));"
   ]
  }
 ],
 "metadata": {
  "kernelspec": {
   "display_name": "Python 3",
   "language": "python",
   "name": "python3"
  },
  "language_info": {
   "codemirror_mode": {
    "name": "ipython",
    "version": 3
   },
   "file_extension": ".py",
   "mimetype": "text/x-python",
   "name": "python",
   "nbconvert_exporter": "python",
   "pygments_lexer": "ipython3",
   "version": "3.6.8"
  }
 },
 "nbformat": 4,
 "nbformat_minor": 2
}
