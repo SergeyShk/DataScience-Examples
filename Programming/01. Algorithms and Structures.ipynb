{
 "cells": [
  {
   "cell_type": "markdown",
   "metadata": {},
   "source": [
    "# Algorithms and Structures"
   ]
  },
  {
   "cell_type": "markdown",
   "metadata": {},
   "source": [
    "## Table of contents:\n",
    "### Basic Structures\n",
    "* [1. Anagram Check](#1)\n",
    "* [2. Array Pair Sum](#2)\n",
    "* [3. Find the Missing Element](#3)\n",
    "* [4. Largest Continuous Sum](#4)\n",
    "* [5. Sentence Reversal](#5)\n",
    "* [6. String Compression](#6)\n",
    "* [7. Unique Characters in String](#7)\n",
    "\n",
    "### Stacks, Queues, Deques\n",
    "* [8. Implement a Stack](#8)\n",
    "* [9. Implement a Queue](#9)\n",
    "* [10. Implement a Deque](#10)\n",
    "* [11. Balanced Parentheses Check](#11)\n",
    "* [12. Implement a Queue - Using Two Stacks](#12)\n",
    "\n",
    "### Linked Lists\n",
    "* [13. Implement a Singly Linked List](#13)\n",
    "* [14. Implement a Doubly Linked List](#14)\n",
    "* [15. Singly Linked List Cycle Check](#15)\n",
    "* [16. Linked List Reversal](#16)\n",
    "* [17. Linked List Nth to Last Node](#17)\n",
    "\n",
    "### Recursion\n",
    "* [18. Reverse a String](#18)\n",
    "* [19. String Permutation](#19)\n",
    "* [20. Fibonnaci Sequence](#20)\n",
    "* [21. Coin Change](#21)\n",
    "\n",
    "### Trees\n",
    "* [22. Implement a Binary Tree](#22)\n",
    "* [23. Implement a Binary Heap](#23)\n",
    "* [24. Binary Search Tree Check](#24)\n",
    "* [25. Tree Level Order Print](#25)\n",
    "* [26. Trim a Binary Search Tree](#26)\n",
    "\n",
    "### Sorting and Searching\n",
    "* [27. Implement a Sequential Search](#27)\n",
    "* [28. Implement a Binary Search](#28)\n",
    "* [29. Implement a Hash Table](#29)\n",
    "* [30. Implement a Bubble Sort](#30)\n",
    "* [31. Implement a Selection Sort](#31)\n",
    "* [32. Implement a Insertion Sort](#32)\n",
    "* [33. Implement a Shell Sort](#33)\n",
    "* [34. Implement a Merge Sort](#34)\n",
    "* [35. Implement a Quick Sort](#35)\n",
    "\n",
    "### Graphs\n",
    "* [36. Implement a Graph - Using Adjacency List](#36)\n",
    "* [37. Implement a Breadth First Search](#37)\n",
    "* [38. Implement a Depth First Search](#38)\n",
    "\n",
    "### Mock Interviews\n",
    "* [39. Stock Prices](#39)\n",
    "* [40. List of Products](#40)\n",
    "* [41. Overlap Rectangles](#41)\n",
    "* [42. Dice Simulation №1](#42)\n",
    "* [43. Dice Simulation №2](#43)\n",
    "* [44. Nearest Integer Squareroot](#44)\n",
    "* [45. Three Integers Product](#45)\n",
    "* [46. Coin Denominations](#46)\n",
    "* [47. Two Integers Sum](#47)\n",
    "* [48. One Unique Integer](#48)\n",
    "* [49. Unsorted Prices](#49)"
   ]
  },
  {
   "cell_type": "markdown",
   "metadata": {},
   "source": [
    "## Import Modules"
   ]
  },
  {
   "cell_type": "code",
   "execution_count": 1,
   "metadata": {},
   "outputs": [],
   "source": [
    "from nose.tools import assert_equal\n",
    "from collections import defaultdict, deque\n",
    "from random import randint"
   ]
  },
  {
   "cell_type": "markdown",
   "metadata": {},
   "source": [
    "<a id='1'></a>\n",
    "## 1. Anagram Check\n",
    "### Problem\n",
    "\n",
    "Given two strings, check to see if they are anagrams. An anagram is when the two strings can be written using the exact same letters (so you can just rearrange the letters to get a different phrase or word). \n",
    "\n",
    "For example:\n",
    "\n",
    "    \"public relations\" is an anagram of \"crap built on lies.\"\n",
    "    \n",
    "    \"clint eastwood\" is an anagram of \"old west action\""
   ]
  },
  {
   "cell_type": "markdown",
   "metadata": {},
   "source": [
    "### Solution"
   ]
  },
  {
   "cell_type": "code",
   "execution_count": 2,
   "metadata": {},
   "outputs": [],
   "source": [
    "def anagram_check(s1, s2):\n",
    "    return sorted(list(s1.replace(' ', ''))) == sorted(list(s2.replace(' ', '')))"
   ]
  },
  {
   "cell_type": "markdown",
   "metadata": {},
   "source": [
    "### Test"
   ]
  },
  {
   "cell_type": "code",
   "execution_count": 4,
   "metadata": {},
   "outputs": [
    {
     "name": "stdout",
     "output_type": "stream",
     "text": [
      "ALL TEST CASES PASSED\n"
     ]
    }
   ],
   "source": [
    "assert_equal(anagram_check('go go go','gggooo'), True)\n",
    "assert_equal(anagram_check('abc','cba'), True)\n",
    "assert_equal(anagram_check('hi man','hi     man'), True)\n",
    "assert_equal(anagram_check('aabbcc','aabbc'), False)\n",
    "assert_equal(anagram_check('123','1 2'), False)\n",
    "print('ALL TEST CASES PASSED')"
   ]
  },
  {
   "cell_type": "markdown",
   "metadata": {},
   "source": [
    "<a id='2'></a>\n",
    "## 2. Array Pair Sum\n",
    "### Problem\n",
    "\n",
    "Given an integer array, output all the ***unique*** pairs that sum up to a specific value **k**.\n",
    "\n",
    "So the input:\n",
    "    \n",
    "    array_pair_sum([1,3,2,2], 4)\n",
    "\n",
    "would return **2** pairs:\n",
    "\n",
    "     (1,3)\n",
    "     (2,2)"
   ]
  },
  {
   "cell_type": "markdown",
   "metadata": {},
   "source": [
    "### Solution"
   ]
  },
  {
   "cell_type": "code",
   "execution_count": 6,
   "metadata": {},
   "outputs": [],
   "source": [
    "def array_pair_sum(arr, k):\n",
    "    seen = set()\n",
    "    output = set()\n",
    "    for n in arr:\n",
    "        target = k - n\n",
    "        if target not in seen:\n",
    "            seen.add(n)\n",
    "        else:\n",
    "            output.add( (min(n, target), max(n, target)) )\n",
    "    return len(output)"
   ]
  },
  {
   "cell_type": "markdown",
   "metadata": {},
   "source": [
    "### Test"
   ]
  },
  {
   "cell_type": "code",
   "execution_count": 7,
   "metadata": {},
   "outputs": [
    {
     "name": "stdout",
     "output_type": "stream",
     "text": [
      "ALL TEST CASES PASSED\n"
     ]
    }
   ],
   "source": [
    "assert_equal(array_pair_sum([1,9,2,8,3,7,4,6,5,5,13,14,11,13,-1], 10), 6)\n",
    "assert_equal(array_pair_sum([1,2,3,1], 3), 1)\n",
    "assert_equal(array_pair_sum([1,3,2,2], 4), 2)\n",
    "print('ALL TEST CASES PASSED')"
   ]
  },
  {
   "cell_type": "markdown",
   "metadata": {},
   "source": [
    "<a id='3'></a>\n",
    "## 3. Find the Missing Element\n",
    "### Problem\n",
    "\n",
    "Consider an array of non-negative integers. A second array is formed by shuffling the elements of the first array and deleting a random element. Given these two arrays, find which element is missing in the second array. \n",
    "\n",
    "Here is an example input, the first array is shuffled and the number 5 is removed to construct the second array.\n",
    "\n",
    "Input:\n",
    "    \n",
    "    finder([1,2,3,4,5,6,7],[3,7,2,1,4,6])\n",
    "\n",
    "Output:\n",
    "\n",
    "    5 is the missing number"
   ]
  },
  {
   "cell_type": "markdown",
   "metadata": {},
   "source": [
    "### Solution"
   ]
  },
  {
   "cell_type": "code",
   "execution_count": 10,
   "metadata": {},
   "outputs": [],
   "source": [
    "def find_missing_element(arr1, arr2): \n",
    "    d = defaultdict(int)\n",
    "    for num in arr2:\n",
    "        d[num] += 1\n",
    "    for num in arr1:\n",
    "        if d[num] == 0:\n",
    "            return num\n",
    "        else: d[num] -= 1"
   ]
  },
  {
   "cell_type": "markdown",
   "metadata": {},
   "source": [
    "### Test"
   ]
  },
  {
   "cell_type": "code",
   "execution_count": 11,
   "metadata": {},
   "outputs": [
    {
     "name": "stdout",
     "output_type": "stream",
     "text": [
      "ALL TEST CASES PASSED\n"
     ]
    }
   ],
   "source": [
    "assert_equal(find_missing_element([5,5,7,7], [5,7,7]), 5)\n",
    "assert_equal(find_missing_element([1,2,3,4,5,6,7], [3,7,2,1,4,6]), 5)\n",
    "assert_equal(find_missing_element([9,8,7,6,5,4,3,2,1], [9,8,7,5,4,3,2,1]), 6)\n",
    "print('ALL TEST CASES PASSED')"
   ]
  },
  {
   "cell_type": "markdown",
   "metadata": {},
   "source": [
    "<a id='4'></a>\n",
    "## 4. Largest Continuous Sum\n",
    "### Problem\n",
    "\n",
    "Given an array of integers (positive and negative) find the largest continuous sum. "
   ]
  },
  {
   "cell_type": "markdown",
   "metadata": {},
   "source": [
    "### Solution"
   ]
  },
  {
   "cell_type": "code",
   "execution_count": 12,
   "metadata": {},
   "outputs": [],
   "source": [
    "def large_continuous_sum(arr): \n",
    "    max_total = total = arr[0]\n",
    "    for n in arr[1:]:\n",
    "        total = max(total + n, n)\n",
    "        max_total = max(max_total, total)\n",
    "    return max_total"
   ]
  },
  {
   "cell_type": "markdown",
   "metadata": {},
   "source": [
    "### Test"
   ]
  },
  {
   "cell_type": "code",
   "execution_count": 14,
   "metadata": {},
   "outputs": [
    {
     "name": "stdout",
     "output_type": "stream",
     "text": [
      "ALL TEST CASES PASSED\n"
     ]
    }
   ],
   "source": [
    "assert_equal(large_continuous_sum([1,2,-1,3,4,-1]), 9)\n",
    "assert_equal(large_continuous_sum([1,2,-1,3,4,10,10,-10,-1]), 29)\n",
    "assert_equal(large_continuous_sum([-1,1]), 1)\n",
    "print('ALL TEST CASES PASSED')"
   ]
  },
  {
   "cell_type": "markdown",
   "metadata": {},
   "source": [
    "<a id='5'></a>\n",
    "## 5. Sentence Reversal\n",
    "### Problem\n",
    "\n",
    "Given a string of words, reverse all the words. For example:\n",
    "\n",
    "Given:\n",
    "    \n",
    "    'This is the best'\n",
    "\n",
    "Return:\n",
    "\n",
    "    'best the is This'\n",
    "\n",
    "As part of this exercise you should remove all leading and trailing whitespace. So that inputs such as:\n",
    "\n",
    "    '  space here'  and 'space here      '\n",
    "\n",
    "both become:\n",
    "\n",
    "    'here space'"
   ]
  },
  {
   "cell_type": "markdown",
   "metadata": {},
   "source": [
    "### Solution"
   ]
  },
  {
   "cell_type": "code",
   "execution_count": 18,
   "metadata": {},
   "outputs": [],
   "source": [
    "def sentence_reversal(s):\n",
    "    '''\n",
    "    Manually solution.\n",
    "    '''\n",
    "    words = []\n",
    "    length = len(s)\n",
    "    spaces = [' ']\n",
    "    i = 0\n",
    "    while i < length:\n",
    "        if s[i] not in spaces:\n",
    "            word_start = i\n",
    "            while i < length and s[i] not in spaces:\n",
    "                i += 1\n",
    "            words.append(s[word_start: i])\n",
    "        i += 1\n",
    "    return ' '.join(reversed(words))\n",
    "\n",
    "    '''\n",
    "    Advanced solution.\n",
    "    '''\n",
    "    return ' '.join(reversed(s.split()))"
   ]
  },
  {
   "cell_type": "markdown",
   "metadata": {},
   "source": [
    "### Test"
   ]
  },
  {
   "cell_type": "code",
   "execution_count": 20,
   "metadata": {},
   "outputs": [
    {
     "name": "stdout",
     "output_type": "stream",
     "text": [
      "ALL TEST CASES PASSED\n"
     ]
    }
   ],
   "source": [
    "assert_equal(sentence_reversal('    space before'), 'before space')\n",
    "assert_equal(sentence_reversal('space after     '), 'after space')\n",
    "assert_equal(sentence_reversal('   Hello John    how are you   '), 'you are how John Hello')\n",
    "assert_equal(sentence_reversal('1'), '1')\n",
    "print('ALL TEST CASES PASSED')"
   ]
  },
  {
   "cell_type": "markdown",
   "metadata": {},
   "source": [
    "<a id='6'></a>\n",
    "## 6. String Compression\n",
    "### Problem\n",
    "\n",
    "Given a string in the form 'AAAABBBBCCCCCDDEEEE' compress it to become 'A4B4C5D2E4'. For this problem, you can falsely \"compress\" strings of single or double letters. For instance, it is okay for 'AAB' to return 'A2B1' even though this technically takes more space. \n",
    "\n",
    "The function should also be case sensitive, so that a string 'AAAaaa' returns 'A3a3'."
   ]
  },
  {
   "cell_type": "markdown",
   "metadata": {},
   "source": [
    "### Solution"
   ]
  },
  {
   "cell_type": "code",
   "execution_count": 24,
   "metadata": {},
   "outputs": [],
   "source": [
    "def string_compression(s):\n",
    "    '''\n",
    "    Manually solution.\n",
    "    '''    \n",
    "    r = ''\n",
    "    l = len(s)\n",
    "    if l == 0:\n",
    "        return ''\n",
    "    if l == 1:\n",
    "        return s + '1'\n",
    "    last = s[0]\n",
    "    cnt = 1\n",
    "    i = 1\n",
    "    while i < l:\n",
    "        if s[i] == s[i - 1]: \n",
    "            cnt += 1\n",
    "        else:\n",
    "            r = r + s[i - 1] + str(cnt)\n",
    "            cnt = 1\n",
    "        i += 1\n",
    "    r = r + s[i - 1] + str(cnt)\n",
    "    return r\n",
    "\n",
    "    '''\n",
    "    Advanced solution.\n",
    "    '''\n",
    "    d = defaultdict(int)\n",
    "    for n in s:\n",
    "        d[n] += 1\n",
    "    return ''.join([k + str(v) for k, v in d.items()])    "
   ]
  },
  {
   "cell_type": "code",
   "execution_count": 25,
   "metadata": {},
   "outputs": [
    {
     "name": "stdout",
     "output_type": "stream",
     "text": [
      "ALL TEST CASES PASSED\n"
     ]
    }
   ],
   "source": [
    "assert_equal(string_compression(''), '')\n",
    "assert_equal(string_compression('AABBCC'), 'A2B2C2')\n",
    "assert_equal(string_compression('AAABCCDDDDD'), 'A3B1C2D5')\n",
    "print('ALL TEST CASES PASSED')"
   ]
  },
  {
   "cell_type": "markdown",
   "metadata": {},
   "source": [
    "<a id='7'></a>\n",
    "## 7. Unique Characters in String\n",
    "### Problem\n",
    "\n",
    "Given a string,determine if it is compreised of all unique characters. For example, the string 'abcde' has all unique characters and should return True. The string 'aabcde' contains duplicate characters and should return false."
   ]
  },
  {
   "cell_type": "markdown",
   "metadata": {},
   "source": [
    "### Solution"
   ]
  },
  {
   "cell_type": "code",
   "execution_count": 30,
   "metadata": {},
   "outputs": [],
   "source": [
    "def unique_characters(s):\n",
    "    '''\n",
    "    Manually solution.\n",
    "    '''     \n",
    "    chars = set()\n",
    "    for let in s:\n",
    "        if let in chars:\n",
    "            return False\n",
    "        else:\n",
    "            chars.add(let)\n",
    "    return True\n",
    "\n",
    "    '''\n",
    "    Advanced solution.\n",
    "    '''\n",
    "    return len(set(s)) == len(s)"
   ]
  },
  {
   "cell_type": "markdown",
   "metadata": {},
   "source": [
    "### Test"
   ]
  },
  {
   "cell_type": "code",
   "execution_count": 29,
   "metadata": {},
   "outputs": [
    {
     "name": "stdout",
     "output_type": "stream",
     "text": [
      "ALL TEST CASES PASSED\n"
     ]
    }
   ],
   "source": [
    "assert_equal(unique_characters(''), True)\n",
    "assert_equal(unique_characters('goo'), False)\n",
    "assert_equal(unique_characters('abcdefg'), True)\n",
    "print('ALL TEST CASES PASSED')"
   ]
  },
  {
   "cell_type": "markdown",
   "metadata": {},
   "source": [
    "<a id='8'></a>\n",
    "## 8. Implement a Stack\n",
    "### Problem\n",
    "\n",
    "A very common interview question is to begin by just implementing a Stack! Try your best to implement your own stack!\n",
    "\n",
    "It should have the methods:\n",
    "\n",
    "* Check if its empty\n",
    "* Push a new item\n",
    "* Pop an item\n",
    "* Peek at the top item\n",
    "* Return the size"
   ]
  },
  {
   "cell_type": "markdown",
   "metadata": {},
   "source": [
    "### Solution"
   ]
  },
  {
   "cell_type": "code",
   "execution_count": 33,
   "metadata": {},
   "outputs": [],
   "source": [
    "class Stack(object):\n",
    "    def __init__(self):\n",
    "        self.items = []\n",
    "        \n",
    "    def is_empty(self):\n",
    "        return self.items == []\n",
    "    \n",
    "    def push(self, item):\n",
    "        self.items.append(item)\n",
    "        \n",
    "    def pop(self):\n",
    "        return self.items.pop()\n",
    "    \n",
    "    def peek(self):\n",
    "        return self.items[-1]\n",
    "    \n",
    "    def size(self):\n",
    "        return len(self.items)"
   ]
  },
  {
   "cell_type": "markdown",
   "metadata": {},
   "source": [
    "### Test"
   ]
  },
  {
   "cell_type": "code",
   "execution_count": 34,
   "metadata": {},
   "outputs": [
    {
     "name": "stdout",
     "output_type": "stream",
     "text": [
      "True\n",
      "2\n",
      "123\n",
      "123\n",
      "777\n",
      "True\n"
     ]
    }
   ],
   "source": [
    "s = Stack()\n",
    "print(s.is_empty())\n",
    "s.push(777)\n",
    "s.push(123)\n",
    "print(s.size())\n",
    "print(s.peek())\n",
    "print(s.pop())\n",
    "print(s.pop())\n",
    "print(s.is_empty())"
   ]
  },
  {
   "cell_type": "markdown",
   "metadata": {},
   "source": [
    "<a id='9'></a>\n",
    "## 9. Implement a Queue\n",
    "### Problem\n",
    "\n",
    "It's very common to be asked to implement a Queue class! The class should be able to do the following:\n",
    "\n",
    "* Check if Queue is Empty\n",
    "* Enqueue\n",
    "* Dequeue\n",
    "* Return the size of the Queue"
   ]
  },
  {
   "cell_type": "markdown",
   "metadata": {},
   "source": [
    "### Solution"
   ]
  },
  {
   "cell_type": "code",
   "execution_count": 35,
   "metadata": {},
   "outputs": [],
   "source": [
    "class Queue(object):\n",
    "    def __init__(self):\n",
    "        self.items = []\n",
    "        \n",
    "    def is_empty(self):\n",
    "        return self.items == []\n",
    "    \n",
    "    def enqueue(self, item):\n",
    "        self.items.insert(0, item)\n",
    "        \n",
    "    def dequeue(self):\n",
    "        return self.items.pop()\n",
    "    \n",
    "    def size(self):\n",
    "        return len(self.items)"
   ]
  },
  {
   "cell_type": "markdown",
   "metadata": {},
   "source": [
    "### Test"
   ]
  },
  {
   "cell_type": "code",
   "execution_count": 37,
   "metadata": {},
   "outputs": [
    {
     "name": "stdout",
     "output_type": "stream",
     "text": [
      "True\n",
      "2\n",
      "777\n",
      "123\n",
      "True\n"
     ]
    }
   ],
   "source": [
    "q = Queue()\n",
    "print(q.is_empty())\n",
    "q.enqueue(777)\n",
    "q.enqueue(123)\n",
    "print(q.size())\n",
    "print(q.dequeue())\n",
    "print(q.dequeue())\n",
    "print(q.is_empty())"
   ]
  },
  {
   "cell_type": "markdown",
   "metadata": {},
   "source": [
    "<a id='10'></a>\n",
    "## 10. Implement a Deque\n",
    "### Problem\n",
    "\n",
    "Finally, implement a Deque class! It should be able to do the following:\n",
    "\n",
    "* Check if its empty\n",
    "* Add to both front and rear\n",
    "* Remove from Front and Rear\n",
    "* Check the Size"
   ]
  },
  {
   "cell_type": "markdown",
   "metadata": {},
   "source": [
    "### Solution"
   ]
  },
  {
   "cell_type": "code",
   "execution_count": 40,
   "metadata": {},
   "outputs": [],
   "source": [
    "class Deque(object):\n",
    "    def __init__(self):\n",
    "        self.items = []\n",
    "        \n",
    "    def is_empty(self):\n",
    "        return self.items == []\n",
    "    \n",
    "    def add_front(self, item):\n",
    "        self.items.append(item)\n",
    "        \n",
    "    def add_rear(self, item):\n",
    "        self.items.insert(0, item)\n",
    "        \n",
    "    def remove_front(self):\n",
    "        return self.items.pop()\n",
    "    \n",
    "    def remove_rear(self):\n",
    "        return self.items.pop(0)\n",
    "        \n",
    "    def size(self):\n",
    "        return len(self.items)"
   ]
  },
  {
   "cell_type": "markdown",
   "metadata": {},
   "source": [
    "### Test"
   ]
  },
  {
   "cell_type": "code",
   "execution_count": 43,
   "metadata": {},
   "outputs": [
    {
     "name": "stdout",
     "output_type": "stream",
     "text": [
      "True\n",
      "3\n",
      "Hello, world!\n",
      "True\n"
     ]
    }
   ],
   "source": [
    "d = Deque()\n",
    "print(d.is_empty())\n",
    "d.add_front(', ')\n",
    "d.add_front('Hello')\n",
    "d.add_rear('world!')\n",
    "print(d.size())\n",
    "print(d.remove_front() + d.remove_front() + d.remove_rear())\n",
    "print(d.is_empty())"
   ]
  },
  {
   "cell_type": "markdown",
   "metadata": {},
   "source": [
    "<a id='11'></a>\n",
    "## 11. Balanced Parentheses Check\n",
    "### Problem\n",
    "\n",
    "Given a string of opening and closing parentheses, check whether it’s balanced. We have 3 types of parentheses: round brackets: (), square brackets: [], and curly brackets: {}. Assume that the string doesn’t contain any other character than these, no spaces words or numbers. As a reminder, balanced parentheses require every opening parenthesis to be closed in the reverse order opened. For example ‘([])’ is balanced but ‘([)]’ is not.\n",
    "\n",
    "You can assume the input string has no spaces."
   ]
  },
  {
   "cell_type": "markdown",
   "metadata": {},
   "source": [
    "### Solution"
   ]
  },
  {
   "cell_type": "code",
   "execution_count": 44,
   "metadata": {},
   "outputs": [],
   "source": [
    "def balanced_parentheses_check(s):\n",
    "    if len(s) % 2 != 0:\n",
    "        return False\n",
    "    \n",
    "    openings = set('([{')\n",
    "    matches = set([('(', ')'), ('[', ']'), ('{', '}')])\n",
    "    stack = []\n",
    "    for par in s:\n",
    "        if par in openings:\n",
    "            stack.append(par)\n",
    "        else:\n",
    "            if len(stack) == 0:\n",
    "                return False\n",
    "            last = stack.pop()\n",
    "            if (last, par) not in matches:\n",
    "                return False\n",
    "    return len(stack) == 0"
   ]
  },
  {
   "cell_type": "markdown",
   "metadata": {},
   "source": [
    "### Test"
   ]
  },
  {
   "cell_type": "code",
   "execution_count": 45,
   "metadata": {},
   "outputs": [
    {
     "name": "stdout",
     "output_type": "stream",
     "text": [
      "ALL TEST CASES PASSED\n"
     ]
    }
   ],
   "source": [
    "assert_equal(balanced_parentheses_check('[](){([[[]]])}('), False)\n",
    "assert_equal(balanced_parentheses_check('[{{{(())}}}]((()))'), True)\n",
    "assert_equal(balanced_parentheses_check('[[[]])]'), False)\n",
    "print('ALL TEST CASES PASSED')"
   ]
  },
  {
   "cell_type": "markdown",
   "metadata": {},
   "source": [
    "<a id='12'></a>\n",
    "## 12. Implement a Queue - Using Two Stacks\n",
    "### Problem\n",
    "\n",
    "Implement a Queue class using two stacks! Note, this is a \"classic\" interview problem. Use a Python list data structure as your Stack."
   ]
  },
  {
   "cell_type": "markdown",
   "metadata": {},
   "source": [
    "### Solution"
   ]
  },
  {
   "cell_type": "code",
   "execution_count": 46,
   "metadata": {},
   "outputs": [],
   "source": [
    "class Queue2Stacks(object):\n",
    "    def __init__(self):\n",
    "        self.in_stack = []\n",
    "        self.out_stack = []\n",
    "     \n",
    "    def enqueue(self, item):\n",
    "        self.in_stack.append(item)\n",
    "    \n",
    "    def dequeue(self):\n",
    "        if not self.out_stack:\n",
    "            while self.in_stack:\n",
    "                self.out_stack.append(self.in_stack.pop())\n",
    "        return self.out_stack.pop()"
   ]
  },
  {
   "cell_type": "markdown",
   "metadata": {},
   "source": [
    "### Test"
   ]
  },
  {
   "cell_type": "code",
   "execution_count": 47,
   "metadata": {},
   "outputs": [
    {
     "name": "stdout",
     "output_type": "stream",
     "text": [
      "0\n",
      "1\n",
      "2\n",
      "3\n",
      "4\n"
     ]
    }
   ],
   "source": [
    "q = Queue2Stacks()\n",
    "for i in range(5):\n",
    "    q.enqueue(i)\n",
    "for i in range(5):\n",
    "    print(q.dequeue())"
   ]
  },
  {
   "cell_type": "markdown",
   "metadata": {},
   "source": [
    "<a id='13'></a>\n",
    "## 13. Implement a Singly Linked List\n",
    "### Problem\n",
    "\n",
    "For this interview problem, create a node class and show how it can be used to create a Singly Linked List"
   ]
  },
  {
   "cell_type": "markdown",
   "metadata": {},
   "source": [
    "### Solution"
   ]
  },
  {
   "cell_type": "code",
   "execution_count": 4,
   "metadata": {},
   "outputs": [],
   "source": [
    "class SinglyLinkedListNode(object):\n",
    "    def __init__(self, value):\n",
    "        self.value = value\n",
    "        self.nextnode = None"
   ]
  },
  {
   "cell_type": "markdown",
   "metadata": {},
   "source": [
    "### Test"
   ]
  },
  {
   "cell_type": "code",
   "execution_count": 5,
   "metadata": {},
   "outputs": [
    {
     "name": "stdout",
     "output_type": "stream",
     "text": [
      "1\n",
      "3\n"
     ]
    }
   ],
   "source": [
    "a = SinglyLinkedListNode(1)\n",
    "b = SinglyLinkedListNode(2)\n",
    "c = SinglyLinkedListNode(3)\n",
    "a.nextnode = b\n",
    "b.nextnode = c\n",
    "print(a.value)\n",
    "print(b.nextnode.value)"
   ]
  },
  {
   "cell_type": "markdown",
   "metadata": {},
   "source": [
    "<a id='14'></a>\n",
    "## 14. Implement a Doubly Linked List\n",
    "### Problem\n",
    "\n",
    "For this interview problem, implement a node class and show how it can be used to create a doubly linked list."
   ]
  },
  {
   "cell_type": "markdown",
   "metadata": {},
   "source": [
    "### Solution"
   ]
  },
  {
   "cell_type": "code",
   "execution_count": 6,
   "metadata": {},
   "outputs": [],
   "source": [
    "class DoublyLinkedListNode(object):\n",
    "    def __init__(self, value):\n",
    "        self.value = value\n",
    "        self.nextnode = None\n",
    "        self.prevnode = None"
   ]
  },
  {
   "cell_type": "markdown",
   "metadata": {},
   "source": [
    "### Test"
   ]
  },
  {
   "cell_type": "code",
   "execution_count": 9,
   "metadata": {},
   "outputs": [
    {
     "name": "stdout",
     "output_type": "stream",
     "text": [
      "1\n",
      "3\n"
     ]
    }
   ],
   "source": [
    "a = DoublyLinkedListNode(1)\n",
    "b = DoublyLinkedListNode(2)\n",
    "c = DoublyLinkedListNode(3)\n",
    "a.nextnode = b\n",
    "b.prevnode = a\n",
    "b.nextnode = c\n",
    "c.prevnode = b\n",
    "print(b.prevnode.value)\n",
    "print(b.nextnode.value)"
   ]
  },
  {
   "cell_type": "markdown",
   "metadata": {},
   "source": [
    "<a id='15'></a>\n",
    "## 15. Singly Linked List Cycle Check\n",
    "### Problem\n",
    "\n",
    "Given a singly linked list, write a function which takes in the first node in a singly linked list and returns a boolean indicating if the linked list contains a \"cycle\".\n",
    "\n",
    "A cycle is when a node's next point actually points back to a previous node in the list. This is also sometimes known as a circularly linked list."
   ]
  },
  {
   "cell_type": "markdown",
   "metadata": {},
   "source": [
    "### Solution"
   ]
  },
  {
   "cell_type": "code",
   "execution_count": 16,
   "metadata": {},
   "outputs": [],
   "source": [
    "def singly_linked_list_cycle_check(node):\n",
    "    marker1 = node\n",
    "    marker2 = node\n",
    "    while marker2 and marker2.nextnode:\n",
    "        marker1 = marker1.nextnode\n",
    "        marker2 = marker2.nextnode.nextnode\n",
    "        if marker2 == marker1:\n",
    "            return True\n",
    "    return False"
   ]
  },
  {
   "cell_type": "markdown",
   "metadata": {},
   "source": [
    "### Test"
   ]
  },
  {
   "cell_type": "code",
   "execution_count": 17,
   "metadata": {},
   "outputs": [
    {
     "name": "stdout",
     "output_type": "stream",
     "text": [
      "ALL TEST CASES PASSED\n"
     ]
    }
   ],
   "source": [
    "a = SinglyLinkedListNode(1)\n",
    "b = SinglyLinkedListNode(2)\n",
    "c = SinglyLinkedListNode(3)\n",
    "a.nextnode = b\n",
    "b.nextnode = c\n",
    "c.nextnode = a\n",
    "\n",
    "x = SinglyLinkedListNode(1)\n",
    "y = SinglyLinkedListNode(2)\n",
    "z = SinglyLinkedListNode(3)\n",
    "x.nextnode = y\n",
    "y.nextnode = z\n",
    "\n",
    "assert_equal(singly_linked_list_cycle_check(a), True)\n",
    "assert_equal(singly_linked_list_cycle_check(x), False)\n",
    "print('ALL TEST CASES PASSED')"
   ]
  },
  {
   "cell_type": "markdown",
   "metadata": {},
   "source": [
    "<a id='16'></a>\n",
    "## 16. Linked List Reversal\n",
    "### Problem\n",
    "\n",
    "Write a function to reverse a Linked List in place. The function will take in the head of the list as input and return the new head of the list."
   ]
  },
  {
   "cell_type": "markdown",
   "metadata": {},
   "source": [
    "### Solution"
   ]
  },
  {
   "cell_type": "code",
   "execution_count": 13,
   "metadata": {},
   "outputs": [],
   "source": [
    "def linked_list_reversal(head):\n",
    "    currnode = head\n",
    "    prevnode = None\n",
    "    nextnode = None\n",
    "    while currnode:\n",
    "        nextnode = currnode.nextnode\n",
    "        currnode.nextnode = prevnode\n",
    "        prevnode = currnode\n",
    "        currnode = nextnode\n",
    "    return prevnode"
   ]
  },
  {
   "cell_type": "markdown",
   "metadata": {},
   "source": [
    "### Test"
   ]
  },
  {
   "cell_type": "code",
   "execution_count": 15,
   "metadata": {},
   "outputs": [
    {
     "name": "stdout",
     "output_type": "stream",
     "text": [
      "2\n",
      "3\n",
      "4\n",
      "Reversed!\n",
      "3\n",
      "2\n",
      "1\n"
     ]
    }
   ],
   "source": [
    "a = SinglyLinkedListNode(1)\n",
    "b = SinglyLinkedListNode(2)\n",
    "c = SinglyLinkedListNode(3)\n",
    "d = SinglyLinkedListNode(4)\n",
    "a.nextnode = b\n",
    "b.nextnode = c\n",
    "c.nextnode = d\n",
    "\n",
    "print(a.nextnode.value)\n",
    "print(b.nextnode.value)\n",
    "print(c.nextnode.value)\n",
    "\n",
    "linked_list_reversal(a)\n",
    "print('Reversed!')\n",
    "\n",
    "print(d.nextnode.value)\n",
    "print(c.nextnode.value)\n",
    "print(b.nextnode.value)"
   ]
  },
  {
   "cell_type": "markdown",
   "metadata": {},
   "source": [
    "<a id='17'></a>\n",
    "## 17. Linked List Nth to Last Node\n",
    "### Problem\n",
    "\n",
    "Write a function that takes a head node and an integer value **n** and then returns the nth to last node in the linked list."
   ]
  },
  {
   "cell_type": "markdown",
   "metadata": {},
   "source": [
    "### Solution"
   ]
  },
  {
   "cell_type": "code",
   "execution_count": 18,
   "metadata": {},
   "outputs": [],
   "source": [
    "def linked_list_nth_to_last_node(n, head):\n",
    "    left_point = head\n",
    "    right_point = head\n",
    "    for i in range(n - 1):\n",
    "        if not right_point.nextnode:\n",
    "            raise LookupError('Error: n is larger than the linked list')\n",
    "        right_point = right_point.nextnode\n",
    "    while right_point.nextnode:\n",
    "        left_point = left_point.nextnode\n",
    "        right_point = right_point.nextnode\n",
    "    return left_point"
   ]
  },
  {
   "cell_type": "markdown",
   "metadata": {},
   "source": [
    "### Test"
   ]
  },
  {
   "cell_type": "code",
   "execution_count": 19,
   "metadata": {},
   "outputs": [
    {
     "name": "stdout",
     "output_type": "stream",
     "text": [
      "ALL TEST CASES PASSED\n"
     ]
    }
   ],
   "source": [
    "a = SinglyLinkedListNode(1)\n",
    "b = SinglyLinkedListNode(2)\n",
    "c = SinglyLinkedListNode(3)\n",
    "d = SinglyLinkedListNode(4)\n",
    "e = SinglyLinkedListNode(5)\n",
    "a.nextnode = b\n",
    "b.nextnode = c\n",
    "c.nextnode = d\n",
    "d.nextnode = e\n",
    "\n",
    "assert_equal(linked_list_nth_to_last_node(2, a), d)\n",
    "assert_equal(linked_list_nth_to_last_node(4, a), b)\n",
    "print('ALL TEST CASES PASSED')"
   ]
  },
  {
   "cell_type": "markdown",
   "metadata": {},
   "source": [
    "<a id='18'></a>\n",
    "## 18. Reverse a String\n",
    "### Problem\n",
    "\n",
    "This interview question requires you to reverse a string using recursion. Make sure to think of the base case here.\n",
    "\n",
    "Again, make sure you use *recursion* to accomplish this. **Do not slice (e.g. string[::-1]) or use iteration, there must be a recursive call for the function.**"
   ]
  },
  {
   "cell_type": "markdown",
   "metadata": {},
   "source": [
    "### Solution"
   ]
  },
  {
   "cell_type": "code",
   "execution_count": 4,
   "metadata": {},
   "outputs": [],
   "source": [
    "def recursive_reversal(s):\n",
    "    if len(s) <= 1:\n",
    "        return s\n",
    "    else:\n",
    "        return s[-1] + recursive_reversal(s[: -1])"
   ]
  },
  {
   "cell_type": "markdown",
   "metadata": {},
   "source": [
    "### Test"
   ]
  },
  {
   "cell_type": "code",
   "execution_count": 5,
   "metadata": {},
   "outputs": [
    {
     "name": "stdout",
     "output_type": "stream",
     "text": [
      "ALL TEST CASES PASSED\n"
     ]
    }
   ],
   "source": [
    "assert_equal(recursive_reversal('hello'), 'olleh')\n",
    "assert_equal(recursive_reversal('hello world'), 'dlrow olleh')\n",
    "assert_equal(recursive_reversal('123456789'), '987654321')\n",
    "print('ALL TEST CASES PASSED')"
   ]
  },
  {
   "cell_type": "markdown",
   "metadata": {},
   "source": [
    "<a id='19'></a>\n",
    "## 19. Reverse a String\n",
    "### Problem\n",
    "\n",
    "Given a string, write a function that uses recursion to output a list of all the possible permutations of that string.\n",
    "\n",
    "For example, given s='abc' the function should return ['abc', 'acb', 'bac', 'bca', 'cab', 'cba']\n",
    "\n",
    "*Note: If a character is repeated, treat each occurence as distinct, for example an input of 'xxx' would return a list with 6 \"versions\" of 'xxx'*"
   ]
  },
  {
   "cell_type": "markdown",
   "metadata": {},
   "source": [
    "### Solution"
   ]
  },
  {
   "cell_type": "code",
   "execution_count": 6,
   "metadata": {},
   "outputs": [],
   "source": [
    "def string_permutation(s):\n",
    "    output = []\n",
    "    if len(s) == 1:\n",
    "        output = [s]\n",
    "    else:\n",
    "        for i, ch in enumerate(s):\n",
    "            for permute in string_permutation(s[: i] + s[i + 1:]):\n",
    "                output += [ch + permute]\n",
    "    return output"
   ]
  },
  {
   "cell_type": "markdown",
   "metadata": {},
   "source": [
    "### Test"
   ]
  },
  {
   "cell_type": "code",
   "execution_count": 7,
   "metadata": {},
   "outputs": [
    {
     "name": "stdout",
     "output_type": "stream",
     "text": [
      "ALL TEST CASES PASSED\n"
     ]
    }
   ],
   "source": [
    "assert_equal(sorted(string_permutation('abc')), sorted(['abc', 'acb', 'bac', 'bca', 'cab', 'cba']))\n",
    "assert_equal(sorted(string_permutation('dog')), sorted(['dog', 'dgo', 'odg', 'ogd', 'gdo', 'god']))\n",
    "print('ALL TEST CASES PASSED')"
   ]
  },
  {
   "cell_type": "markdown",
   "metadata": {},
   "source": [
    "<a id='20'></a>\n",
    "## 20. Fibonnaci Sequence\n",
    "### Problem\n",
    "\n",
    "Implement a [Fibonnaci Sequence](https://en.wikipedia.org/wiki/Fibonacci_number) in three different ways:\n",
    "\n",
    "* Recursively\n",
    "* Dynamically (Using Memoization to store results)\n",
    "* Iteratively\n",
    "\n",
    "Your function will accept a number **n** and return the **nth** number of the fibonacci sequence\n",
    "\n",
    "Remember that a fibonacci sequence: 0,1,1,2,3,5,8,13,21,... starts off with a base case checking to see if n = 0 or 1, then it returns 1. \n",
    "\n",
    "Else it returns fib(n-1) + fib(n-2)."
   ]
  },
  {
   "cell_type": "markdown",
   "metadata": {},
   "source": [
    "### Solution"
   ]
  },
  {
   "cell_type": "code",
   "execution_count": 17,
   "metadata": {},
   "outputs": [],
   "source": [
    "def fibonacci_recursively(n):\n",
    "    if n == 0 or n == 1:\n",
    "        return n\n",
    "    else:\n",
    "        return fibonacci_recursively(n - 1) + fibonacci_recursively(n - 2)\n",
    "\n",
    "def fibonacci_dynamically(n):\n",
    "    if n == 0 or n == 1:\n",
    "        return n\n",
    "    if cache[n] != None:\n",
    "        return cache[n]\n",
    "    cache[n] = fibonacci_dynamically(n - 1) + fibonacci_dynamically(n - 2)\n",
    "    return cache[n]\n",
    "    \n",
    "def fibonacci_iteratively(n):\n",
    "    a, b = 0, 1\n",
    "    for i in range(n):\n",
    "        a, b = b, a + b\n",
    "    return a   "
   ]
  },
  {
   "cell_type": "markdown",
   "metadata": {},
   "source": [
    "### Test"
   ]
  },
  {
   "cell_type": "code",
   "execution_count": 18,
   "metadata": {},
   "outputs": [
    {
     "name": "stdout",
     "output_type": "stream",
     "text": [
      "ALL TEST CASES PASSED\n",
      "ALL TEST CASES PASSED\n",
      "ALL TEST CASES PASSED\n"
     ]
    }
   ],
   "source": [
    "assert_equal(fibonacci_recursively(10), 55)\n",
    "assert_equal(fibonacci_recursively(1), 1)\n",
    "assert_equal(fibonacci_recursively(23), 28657)\n",
    "print('ALL TEST CASES PASSED')\n",
    "\n",
    "n = 23\n",
    "cache = [None] * (n + 1)\n",
    "assert_equal(fibonacci_dynamically(10), 55)\n",
    "assert_equal(fibonacci_dynamically(1), 1)\n",
    "assert_equal(fibonacci_dynamically(23), 28657)\n",
    "print('ALL TEST CASES PASSED')\n",
    "\n",
    "assert_equal(fibonacci_iteratively(10), 55)\n",
    "assert_equal(fibonacci_iteratively(1), 1)\n",
    "assert_equal(fibonacci_iteratively(23), 28657)\n",
    "print('ALL TEST CASES PASSED')"
   ]
  },
  {
   "cell_type": "markdown",
   "metadata": {},
   "source": [
    "<a id='21'></a>\n",
    "## 21. Coin Change\n",
    "### Problem\n",
    "\n",
    "Given a target amount **n** and a list (array) of distinct coin values, what's the fewest coins needed to make the change amount. \n",
    "\n",
    "For example:\n",
    "\n",
    "If n = 10 and coins = [1,5,10]. Then there are 4 possible ways to make change:\n",
    "\n",
    "* 1+1+1+1+1+1+1+1+1+1\n",
    "* 5 + 1+1+1+1+1\n",
    "* 5+5\n",
    "* 10\n",
    "\n",
    "With 1 coin being the minimum amount."
   ]
  },
  {
   "cell_type": "markdown",
   "metadata": {},
   "source": [
    "### Solution"
   ]
  },
  {
   "cell_type": "code",
   "execution_count": 21,
   "metadata": {},
   "outputs": [],
   "source": [
    "def coin_change(target, coins, cache):\n",
    "    min_coins = target\n",
    "    if target in coins:\n",
    "        cache[target] = 1\n",
    "        return 1\n",
    "    elif cache[target] > 0:\n",
    "        return cache[target]\n",
    "    else:\n",
    "        for i in [c for c in coins if c <= target]:\n",
    "            num_coins = 1 + coin_change(target - i, coins, cache)\n",
    "            if num_coins < min_coins:\n",
    "                min_coins = num_coins\n",
    "                cache[target] = min_coins\n",
    "    return min_coins"
   ]
  },
  {
   "cell_type": "markdown",
   "metadata": {},
   "source": [
    "### Test"
   ]
  },
  {
   "cell_type": "code",
   "execution_count": 22,
   "metadata": {},
   "outputs": [
    {
     "name": "stdout",
     "output_type": "stream",
     "text": [
      "ALL TEST CASES PASSED\n"
     ]
    }
   ],
   "source": [
    "coins = [1,5,10,25]\n",
    "cache = [0] * 75\n",
    "assert_equal(coin_change(45, coins, cache), 3)\n",
    "assert_equal(coin_change(23, coins, cache), 5)\n",
    "assert_equal(coin_change(74, coins, cache), 8)\n",
    "print('ALL TEST CASES PASSED')"
   ]
  },
  {
   "cell_type": "markdown",
   "metadata": {},
   "source": [
    "<a id='22'></a>\n",
    "## 22. Implement a Binary Tree\n",
    "### Problem\n",
    "\n",
    "In this notebook is the code corresponding to the lecture for implementing the representation of a Tree as a class with nodes and references!"
   ]
  },
  {
   "cell_type": "markdown",
   "metadata": {},
   "source": [
    "### Solution"
   ]
  },
  {
   "cell_type": "code",
   "execution_count": 18,
   "metadata": {},
   "outputs": [],
   "source": [
    "class BinaryTree(object):\n",
    "    def __init__(self, root):\n",
    "        self.key = root\n",
    "        self.left_child = None\n",
    "        self.right_child = None\n",
    "\n",
    "    def insert_left(self, new_node):\n",
    "        if self.left_child == None:\n",
    "            self.left_child = BinaryTree(new_node)\n",
    "        else:\n",
    "            t = BinaryTree(new_node)\n",
    "            t.left_child = self.left_child\n",
    "            self.left_child = t\n",
    "\n",
    "    def insert_right(self, new_node):\n",
    "        if self.right_child == None:\n",
    "            self.right_child = BinaryTree(new_node)\n",
    "        else:\n",
    "            t = BinaryTree(new_node)\n",
    "            t.right_child = self.right_child\n",
    "            self.right_child = t\n",
    "\n",
    "    def get_right_child(self):\n",
    "        return self.right_child\n",
    "\n",
    "    def get_left_child(self):\n",
    "        return self.left_child\n",
    "\n",
    "    def set_root_val(self, obj):\n",
    "        self.key = obj\n",
    "\n",
    "    def get_root_val(self):\n",
    "        return self.key\n",
    "\n",
    "# Traverse by tree\n",
    "def preorder(tree):\n",
    "    if tree:\n",
    "        print(tree.get_root_val())\n",
    "        inorder(tree.get_left_child())\n",
    "        inorder(tree.get_right_child())\n",
    "        \n",
    "def inorder(tree):\n",
    "    if tree:\n",
    "        inorder(tree.get_left_child())\n",
    "        print(tree.get_root_val())\n",
    "        inorder(tree.get_right_child())\n",
    "        \n",
    "def postorder(tree):\n",
    "    if tree:\n",
    "        inorder(tree.get_left_child())\n",
    "        inorder(tree.get_right_child())\n",
    "        print(tree.get_root_val())"
   ]
  },
  {
   "cell_type": "markdown",
   "metadata": {},
   "source": [
    "### Test"
   ]
  },
  {
   "cell_type": "code",
   "execution_count": 8,
   "metadata": {},
   "outputs": [
    {
     "name": "stdout",
     "output_type": "stream",
     "text": [
      "a\n",
      "None\n",
      "<__main__.BinaryTree object at 0x7f96b880d908>\n",
      "b\n",
      "<__main__.BinaryTree object at 0x7f96b880dd30>\n",
      "c\n",
      "hello\n"
     ]
    }
   ],
   "source": [
    "r = BinaryTree('a')\n",
    "print(r.get_root_val())\n",
    "print(r.get_left_child())\n",
    "r.insert_left('b')\n",
    "print(r.get_left_child())\n",
    "print(r.get_left_child().get_root_val())\n",
    "r.insert_right('c')\n",
    "print(r.get_right_child())\n",
    "print(r.get_right_child().get_root_val())\n",
    "r.get_right_child().set_root_val('hello')\n",
    "print(r.get_right_child().get_root_val())"
   ]
  },
  {
   "cell_type": "code",
   "execution_count": 14,
   "metadata": {},
   "outputs": [
    {
     "name": "stdout",
     "output_type": "stream",
     "text": [
      "b\n",
      "a\n",
      "hello\n"
     ]
    }
   ],
   "source": [
    "inorder(r)"
   ]
  },
  {
   "cell_type": "code",
   "execution_count": 15,
   "metadata": {},
   "outputs": [
    {
     "name": "stdout",
     "output_type": "stream",
     "text": [
      "a\n",
      "b\n",
      "hello\n"
     ]
    }
   ],
   "source": [
    "preorder(r)"
   ]
  },
  {
   "cell_type": "code",
   "execution_count": 16,
   "metadata": {},
   "outputs": [
    {
     "name": "stdout",
     "output_type": "stream",
     "text": [
      "b\n",
      "hello\n",
      "a\n"
     ]
    }
   ],
   "source": [
    "postorder(r)"
   ]
  },
  {
   "cell_type": "markdown",
   "metadata": {},
   "source": [
    "<a id='23'></a>\n",
    "## 23. Implement a Binary Heap\n",
    "### Problem\n",
    "\n",
    "The basic operations we will implement for our binary heap are as follows:\n",
    "\n",
    "* BinaryHeap() creates a new, empty, binary heap.\n",
    "* insert(k) adds a new item to the heap.\n",
    "* findMin() returns the item with the minimum key value, leaving item in the heap.\n",
    "* delMin() returns the item with the minimum key value, removing the item from the heap.\n",
    "* isEmpty() returns true if the heap is empty, false otherwise.\n",
    "* size() returns the number of items in the heap.\n",
    "* buildHeap(list) builds a new heap from a list of keys."
   ]
  },
  {
   "cell_type": "markdown",
   "metadata": {},
   "source": [
    "### Solution"
   ]
  },
  {
   "cell_type": "code",
   "execution_count": 21,
   "metadata": {},
   "outputs": [],
   "source": [
    "class BinaryHeap:\n",
    "    def __init__(self):\n",
    "        self.heap_list = [0]\n",
    "        self.current_size = 0\n",
    "\n",
    "    def perc_up(self, i):\n",
    "        while i // 2 > 0:\n",
    "            if self.heap_list[i] < self.heap_list[i // 2]:\n",
    "                tmp = self.heap_list[i // 2]\n",
    "                self.heap_list[i // 2] = self.heap_list[i]\n",
    "                self.heap_list[i] = tmp\n",
    "            i = i // 2\n",
    "\n",
    "    def insert(self, k):\n",
    "        self.heap_list.append(k)\n",
    "        self.current_size = self.current_size + 1\n",
    "        self.perc_up(self.current_size)\n",
    "\n",
    "    def perc_down(self, i):\n",
    "        while (i * 2) <= self.current_size:\n",
    "            mc = self.min_child(i)\n",
    "            if self.heap_list[i] > self.heap_list[mc]:\n",
    "                tmp = self.heap_list[i]\n",
    "                self.heap_list[i] = self.heap_list[mc]\n",
    "                self.heap_list[mc] = tmp\n",
    "            i = mc\n",
    "\n",
    "    def min_child(self,i):\n",
    "        if i * 2 + 1 > self.current_size:\n",
    "            return i * 2\n",
    "        else:\n",
    "            if self.heap_list[i * 2] < self.heap_list[i * 2 + 1]:\n",
    "                return i * 2\n",
    "            else:\n",
    "                return i * 2 + 1\n",
    "\n",
    "    def del_min(self):\n",
    "        retval = self.heap_list[1]\n",
    "        self.heap_list[1] = self.heap_list[self.current_size]\n",
    "        self.current_size = self.current_size - 1\n",
    "        self.heap_list.pop()\n",
    "        self.perc_down(1)\n",
    "        return retval\n",
    "\n",
    "    def build_heap(self, alist):\n",
    "        i = len(alist) // 2\n",
    "        self.current_size = len(alist)\n",
    "        self.heap_list = [0] + alist[:]\n",
    "        while (i > 0):\n",
    "            self.perc_down(i)\n",
    "            i = i - 1"
   ]
  },
  {
   "cell_type": "markdown",
   "metadata": {},
   "source": [
    "### Test"
   ]
  },
  {
   "cell_type": "code",
   "execution_count": 26,
   "metadata": {},
   "outputs": [
    {
     "name": "stdout",
     "output_type": "stream",
     "text": [
      "[0, 1, 3, 5, 4, 6, 8, 10]\n"
     ]
    }
   ],
   "source": [
    "h = BinaryHeap()\n",
    "h.build_heap([10, 4, 1, 3, 6, 8, 5])\n",
    "print(h.heap_list)"
   ]
  },
  {
   "cell_type": "markdown",
   "metadata": {},
   "source": [
    "<a id='24'></a>\n",
    "## 24. Binary Search Tree Check\n",
    "### Problem\n",
    "\n",
    "Given a binary tree, check whether it’s a binary search tree or not."
   ]
  },
  {
   "cell_type": "markdown",
   "metadata": {},
   "source": [
    "### Solution"
   ]
  },
  {
   "cell_type": "code",
   "execution_count": 34,
   "metadata": {},
   "outputs": [],
   "source": [
    "def bst_check(tree):\n",
    "    tree_vals = []\n",
    "    if tree != None:\n",
    "        inorder(tree.get_left_child())\n",
    "        tree_vals.append(tree.get_root_val())\n",
    "        inorder(tree.get_right_child())\n",
    "    return tree_vals == sorted(tree_vals)"
   ]
  },
  {
   "cell_type": "markdown",
   "metadata": {},
   "source": [
    "### Test"
   ]
  },
  {
   "cell_type": "code",
   "execution_count": 35,
   "metadata": {},
   "outputs": [
    {
     "data": {
      "text/plain": [
       "True"
      ]
     },
     "execution_count": 35,
     "metadata": {},
     "output_type": "execute_result"
    }
   ],
   "source": [
    "r = BinaryTree(10)\n",
    "r.insert_left(5)\n",
    "r.insert_right(20)\n",
    "\n",
    "bst_check(r)"
   ]
  },
  {
   "cell_type": "markdown",
   "metadata": {},
   "source": [
    "<a id='25'></a>\n",
    "## 25. Tree Level Order Print\n",
    "### Problem\n",
    "\n",
    "Given a binary tree of integers, print it in level order. The output will contain space between the numbers in the same level, and new line between different levels."
   ]
  },
  {
   "cell_type": "markdown",
   "metadata": {},
   "source": [
    "### Solution"
   ]
  },
  {
   "cell_type": "code",
   "execution_count": 63,
   "metadata": {},
   "outputs": [],
   "source": [
    "def tree_level_order_print(tree):\n",
    "    if not tree:\n",
    "        return\n",
    "    nodes = deque([tree])\n",
    "    current_count, next_count = 1, 0\n",
    "    while len(nodes) != 0:\n",
    "        current_node = nodes.popleft()\n",
    "        current_count -= 1\n",
    "        print(current_node.key, end=' ')\n",
    "        if current_node.left_child:\n",
    "            nodes.append(current_node.left_child)\n",
    "            next_count += 1\n",
    "        if current_node.right_child:\n",
    "            nodes.append(current_node.right_child)\n",
    "            next_count += 1\n",
    "        if current_count == 0:\n",
    "            print('', end='\\n')\n",
    "            current_count, next_count = next_count, current_count"
   ]
  },
  {
   "cell_type": "markdown",
   "metadata": {},
   "source": [
    "### Test"
   ]
  },
  {
   "cell_type": "code",
   "execution_count": 64,
   "metadata": {},
   "outputs": [
    {
     "name": "stdout",
     "output_type": "stream",
     "text": [
      "10 \n",
      "5 20 \n"
     ]
    }
   ],
   "source": [
    "r = BinaryTree(10)\n",
    "r.insert_left(5)\n",
    "r.insert_right(20)\n",
    "\n",
    "tree_level_order_print(r)"
   ]
  },
  {
   "cell_type": "markdown",
   "metadata": {},
   "source": [
    "<a id='26'></a>\n",
    "## 26. Trim a Binary Search Tree\n",
    "### Problem\n",
    "\n",
    "Given the root of a binary search tree and 2 numbers min and max, trim the tree such that all the numbers in the new tree are between min and max (inclusive). The resulting tree should still be a valid binary search tree."
   ]
  },
  {
   "cell_type": "markdown",
   "metadata": {},
   "source": [
    "### Solution"
   ]
  },
  {
   "cell_type": "code",
   "execution_count": 47,
   "metadata": {},
   "outputs": [],
   "source": [
    "def bst_trim(tree, min_val, max_val): \n",
    "    if not tree: \n",
    "        return \n",
    "    tree.left_child = bst_trim(tree.left_child, min_val, max_val) \n",
    "    tree.right_child = bst_trim(tree.right_child, min_val, max_val) \n",
    "    if min_val <= tree.key <= max_val: \n",
    "        return tree\n",
    "    if tree.key < min_val: \n",
    "        return tree.right_child \n",
    "    if tree.key > max_val: \n",
    "        return tree.left_child "
   ]
  },
  {
   "cell_type": "markdown",
   "metadata": {},
   "source": [
    "### Test"
   ]
  },
  {
   "cell_type": "code",
   "execution_count": 65,
   "metadata": {},
   "outputs": [
    {
     "name": "stdout",
     "output_type": "stream",
     "text": [
      "10 \n",
      "5 20 \n",
      "9 11 2 6 \n",
      "\n",
      "\n",
      "10 \n",
      "11 20 \n",
      "6 \n"
     ]
    }
   ],
   "source": [
    "r = BinaryTree(10)\n",
    "r.insert_left(5)\n",
    "r.get_left_child().insert_left(9)\n",
    "r.get_left_child().insert_right(11)\n",
    "r.insert_right(20)\n",
    "r.get_right_child().insert_left(2)\n",
    "r.get_right_child().insert_right(6)\n",
    "\n",
    "tree_level_order_print(r)\n",
    "print('\\n')\n",
    "\n",
    "r_trim = bst_trim(r, 6, 20)\n",
    "\n",
    "tree_level_order_print(r_trim)"
   ]
  },
  {
   "cell_type": "markdown",
   "metadata": {},
   "source": [
    "<a id='27'></a>\n",
    "## 27. Implement a Sequential Search\n",
    "### Problem\n",
    "\n",
    "In this problem all we do is implement Sequential Search for an Unordered List and Ordered List."
   ]
  },
  {
   "cell_type": "markdown",
   "metadata": {},
   "source": [
    "### Solution"
   ]
  },
  {
   "cell_type": "code",
   "execution_count": 15,
   "metadata": {},
   "outputs": [],
   "source": [
    "def sequential_search(arr, item):\n",
    "    pos = 0\n",
    "    while pos < len(arr):\n",
    "        if arr[pos] == item:\n",
    "            return True\n",
    "        else:\n",
    "            pos += 1\n",
    "    return False\n",
    "\n",
    "def ordered_sequential_search(arr, item):\n",
    "    pos = 0\n",
    "    while pos < len(arr):\n",
    "        if arr[pos] == item:\n",
    "            return True\n",
    "        elif arr[pos] > item:\n",
    "            return False\n",
    "        else:\n",
    "            pos += 1\n",
    "    return False"
   ]
  },
  {
   "cell_type": "markdown",
   "metadata": {},
   "source": [
    "### Test"
   ]
  },
  {
   "cell_type": "code",
   "execution_count": 23,
   "metadata": {},
   "outputs": [
    {
     "name": "stdout",
     "output_type": "stream",
     "text": [
      "True\n",
      "False\n",
      "True\n",
      "False\n"
     ]
    }
   ],
   "source": [
    "arr = [1, 9, 2, 8, 3, 4, 7, 5, 6]\n",
    "print(sequential_search(arr, 7))\n",
    "print(sequential_search(arr, 10))\n",
    "\n",
    "print(ordered_sequential_search(sorted(arr), 7))\n",
    "print(ordered_sequential_search(sorted(arr), 10))"
   ]
  },
  {
   "cell_type": "markdown",
   "metadata": {},
   "source": [
    "<a id='28'></a>\n",
    "## 28. Implement a Binary Search\n",
    "### Problem\n",
    "\n",
    "In this problem we will just implement two versions of a simple binary search."
   ]
  },
  {
   "cell_type": "markdown",
   "metadata": {},
   "source": [
    "### Solution"
   ]
  },
  {
   "cell_type": "code",
   "execution_count": 33,
   "metadata": {},
   "outputs": [],
   "source": [
    "def binary_search(arr, item):\n",
    "    first = 0\n",
    "    last = len(arr) - 1\n",
    "    while first <= last:\n",
    "        mid = (first + last) // 2\n",
    "        if arr[mid] == item:\n",
    "            return True\n",
    "        elif item < arr[mid]:\n",
    "            last = mid - 1\n",
    "        else:\n",
    "            first = mid + 1\n",
    "    return False\n",
    "\n",
    "def recursive_binary_search(arr, item):\n",
    "    if len(arr) == 0:\n",
    "        return False\n",
    "    mid = len(arr) // 2\n",
    "    if arr[mid] == item:\n",
    "        return True\n",
    "    elif item < arr[mid]:\n",
    "        return recursive_binary_search(arr[: mid], item)\n",
    "    else:\n",
    "        return recursive_binary_search(arr[mid + 1:], item)"
   ]
  },
  {
   "cell_type": "markdown",
   "metadata": {},
   "source": [
    "### Test"
   ]
  },
  {
   "cell_type": "code",
   "execution_count": 34,
   "metadata": {},
   "outputs": [
    {
     "name": "stdout",
     "output_type": "stream",
     "text": [
      "True\n",
      "False\n",
      "True\n",
      "False\n"
     ]
    }
   ],
   "source": [
    "arr = sorted([1, 9, 2, 8, 3, 4, 7, 5, 6])\n",
    "print(binary_search(arr, 7))\n",
    "print(binary_search(arr, 10))\n",
    "\n",
    "print(recursive_binary_search(arr, 7))\n",
    "print(recursive_binary_search(arr, 10))"
   ]
  },
  {
   "cell_type": "markdown",
   "metadata": {},
   "source": [
    "<a id='29'></a>\n",
    "## 29. Implement a Hash Table\n",
    "### Problem\n",
    "\n",
    "The idea of a dictionary used as a hash table to get and retrieve items using **keys** is often referred to as a mapping. In our implementation we will have the following methods:\n",
    "\n",
    "* **HashTable()** Create a new, empty map. It returns an empty map collection.\n",
    "* **put(key,val)** Add a new key-value pair to the map. If the key is already in the map then replace the old value with the new value.\n",
    "* **get(key)** Given a key, return the value stored in the map or None otherwise."
   ]
  },
  {
   "cell_type": "markdown",
   "metadata": {},
   "source": [
    "### Solution"
   ]
  },
  {
   "cell_type": "code",
   "execution_count": 47,
   "metadata": {},
   "outputs": [],
   "source": [
    "class HashTable(object):\n",
    "    def __init__(self, size):\n",
    "        self.size = size\n",
    "        self.slots = [None] * self.size\n",
    "        self.data = [None] * self.size\n",
    "        \n",
    "    def put(self,key,data):\n",
    "        hashvalue = self.hashfunction(key, len(self.slots))\n",
    "        if self.slots[hashvalue] == None:\n",
    "            self.slots[hashvalue] = key\n",
    "            self.data[hashvalue] = data\n",
    "        else:\n",
    "            if self.slots[hashvalue] == key:\n",
    "                self.data[hashvalue] = data  \n",
    "            else:\n",
    "                nextslot = self.rehash(hashvalue,len(self.slots))\n",
    "                while self.slots[nextslot] != None and self.slots[nextslot] != key:\n",
    "                    nextslot = self.rehash(nextslot, len(self.slots))\n",
    "                if self.slots[nextslot] == None:\n",
    "                    self.slots[nextslot] = key\n",
    "                    self.data[nextslot] = data\n",
    "                else:\n",
    "                    self.data[nextslot] = data\n",
    "\n",
    "    def hashfunction(self, key, size):\n",
    "        return key % size\n",
    "\n",
    "    def rehash(self, old_hash, size):\n",
    "        return (old_hash + 1) % size\n",
    "    \n",
    "    def get(self, key):\n",
    "        startslot = self.hashfunction(key, len(self.slots))\n",
    "        data = None\n",
    "        position = startslot\n",
    "        while self.slots[position] != None:\n",
    "            if self.slots[position] == key:\n",
    "                return self.data[position]\n",
    "            else:\n",
    "                position = self.rehash(position, len(self.slots))\n",
    "                if position == startslot:\n",
    "                    break\n",
    "        return data\n",
    "\n",
    "    def __getitem__(self, key):\n",
    "        return self.get(key)\n",
    "\n",
    "    def __setitem__(self, key, data):\n",
    "        self.put(key, data)"
   ]
  },
  {
   "cell_type": "markdown",
   "metadata": {},
   "source": [
    "### Test"
   ]
  },
  {
   "cell_type": "code",
   "execution_count": 48,
   "metadata": {},
   "outputs": [
    {
     "name": "stdout",
     "output_type": "stream",
     "text": [
      "one\n",
      "new_one\n"
     ]
    }
   ],
   "source": [
    "h = HashTable(5)\n",
    "h[1] = 'one'\n",
    "h[2] = 'two'\n",
    "h[3] = 'three'\n",
    "print(h[1])\n",
    "h[1] = 'new_one'\n",
    "print(h[1])"
   ]
  },
  {
   "cell_type": "markdown",
   "metadata": {},
   "source": [
    "<a id='30'></a>\n",
    "## 30. Implement a Bubble Sort\n",
    "### Problem\n",
    "\n",
    "The bubble sort makes multiple passes through a list. It compares adjacent items and exchanges those that are out of order. Each pass through the list places the next largest value in its proper place. In essence, each item “bubbles” up to the location where it belongs.\n",
    "\n",
    "* [Wikipedia](https://en.wikipedia.org/wiki/Bubble_sort)\n",
    "* [Visual Algo](http://visualgo.net/sorting.html)\n",
    "* [Animation](http://www.cs.armstrong.edu/liang/animation/web/BubbleSort.html)\n",
    "* [Sorting Algorithms Animcation with Pseudocode](http://www.sorting-algorithms.com/bubble-sort)"
   ]
  },
  {
   "cell_type": "markdown",
   "metadata": {},
   "source": [
    "### Solution"
   ]
  },
  {
   "cell_type": "code",
   "execution_count": 56,
   "metadata": {},
   "outputs": [],
   "source": [
    "def bubble_sort(arr):\n",
    "    for i in range(len(arr) - 1, 0, -1):\n",
    "        for j in range(i):\n",
    "            if arr[j] > arr[j + 1]:\n",
    "                arr[j], arr[j + 1] = arr[j + 1], arr[j]"
   ]
  },
  {
   "cell_type": "markdown",
   "metadata": {},
   "source": [
    "### Test"
   ]
  },
  {
   "cell_type": "code",
   "execution_count": 57,
   "metadata": {},
   "outputs": [
    {
     "name": "stdout",
     "output_type": "stream",
     "text": [
      "[1, 2, 3, 4, 5, 6, 7, 8, 13, 20]\n"
     ]
    }
   ],
   "source": [
    "arr = [3, 2, 13, 4, 6, 5, 7, 8, 1, 20]\n",
    "bubble_sort(arr)\n",
    "print(arr)"
   ]
  },
  {
   "cell_type": "markdown",
   "metadata": {},
   "source": [
    "<a id='31'></a>\n",
    "## 31. Implement a Selection Sort\n",
    "### Problem\n",
    "\n",
    "The selection sort improves on the bubble sort by making only one exchange for every pass through the list. In order to do this, a selection sort looks for the largest value as it makes a pass and, after completing the pass, places it in the proper location. As with a bubble sort, after the first pass, the largest item is in the correct place. After the second pass, the next largest is in place. This process continues and requires n−1 passes to sort n items, since the final item must be in place after the (n−1) st pass.\n",
    "\n",
    "* [Wikipedia](https://en.wikipedia.org/wiki/Selection_sort)\n",
    "* [Visual Algo](http://visualgo.net/sorting.html)\n",
    "* [Animation](http://cs.armstrong.edu/liang/animation/web/SelectionSort.html)\n",
    "* [Sorting Algorithms Animcation with Pseudocode](http://www.sorting-algorithms.com/selection-sort)"
   ]
  },
  {
   "cell_type": "markdown",
   "metadata": {},
   "source": [
    "### Solution"
   ]
  },
  {
   "cell_type": "code",
   "execution_count": 58,
   "metadata": {},
   "outputs": [],
   "source": [
    "def selection_sort(arr):\n",
    "    for i in range(len(arr) - 1, 0, -1):\n",
    "        curr_max = 0\n",
    "        for j in range(1, i + 1):\n",
    "            if arr[j] > arr[curr_max]:\n",
    "                curr_max = j\n",
    "        arr[i], arr[curr_max] = arr[curr_max], arr[i]"
   ]
  },
  {
   "cell_type": "markdown",
   "metadata": {},
   "source": [
    "### Test"
   ]
  },
  {
   "cell_type": "code",
   "execution_count": 59,
   "metadata": {},
   "outputs": [
    {
     "name": "stdout",
     "output_type": "stream",
     "text": [
      "[1, 2, 3, 4, 5, 6, 7, 8, 13, 20]\n"
     ]
    }
   ],
   "source": [
    "arr = [3, 2, 13, 4, 6, 5, 7, 8, 1, 20]\n",
    "selection_sort(arr)\n",
    "print(arr)"
   ]
  },
  {
   "cell_type": "markdown",
   "metadata": {},
   "source": [
    "<a id='32'></a>\n",
    "## 32. Implement a Insertion Sort\n",
    "### Problem\n",
    "\n",
    "Insertion Sort builds the final sorted array (or list) one item at a time. It is much less efficient on large lists than more advanced algorithms such as quicksort, heapsort, or merge sort.\n",
    "\n",
    "* [Wikipedia](https://en.wikipedia.org/wiki/Insertion_sort)\n",
    "* [Visual Algo](http://visualgo.net/sorting.html)\n",
    "* [Animation](http://cs.armstrong.edu/liang/animation/web/InsertionSort.html)\n",
    "* [Sorting Algorithms Animcation with Pseudocode](http://www.sorting-algorithms.com/insertion-sort)"
   ]
  },
  {
   "cell_type": "markdown",
   "metadata": {},
   "source": [
    "### Solution"
   ]
  },
  {
   "cell_type": "code",
   "execution_count": 60,
   "metadata": {},
   "outputs": [],
   "source": [
    "def insertion_sort(arr):\n",
    "    for i in range(1, len(arr)):\n",
    "        curr_value = arr[i]\n",
    "        j = i\n",
    "        while j > 0 and arr[j - 1] > curr_value:\n",
    "            arr[j] = arr[j - 1]\n",
    "            j -= 1\n",
    "        arr[j] = curr_value"
   ]
  },
  {
   "cell_type": "markdown",
   "metadata": {},
   "source": [
    "### Test"
   ]
  },
  {
   "cell_type": "code",
   "execution_count": 63,
   "metadata": {},
   "outputs": [
    {
     "name": "stdout",
     "output_type": "stream",
     "text": [
      "[1, 2, 3, 4, 5, 6, 7, 8, 13, 20]\n"
     ]
    }
   ],
   "source": [
    "arr = [3, 2, 13, 4, 6, 5, 7, 8, 1, 20]\n",
    "insertion_sort(arr)\n",
    "print(arr)"
   ]
  },
  {
   "cell_type": "markdown",
   "metadata": {},
   "source": [
    "<a id='33'></a>\n",
    "## 33. Implement a Shell Sort\n",
    "### Problem\n",
    "\n",
    "The shell sort improves on the insertion sort by breaking the original list into a number of smaller sublists, each of which is sorted using an insertion sort. The unique way that these sublists are chosen is the key to the shell sort. Instead of breaking the list into sublists of contiguous items, the shell sort uses an increment i, sometimes called the gap, to create a sublist by choosing all items that are i items apart.\n",
    "\n",
    "* [Wikipedia](https://en.wikipedia.org/wiki/Shellsort)\n",
    "* [Visual Algo](http://visualgo.net/sorting.html)\n",
    "* [Sorting Algorithms Animcation with Pseudocode](http://www.sorting-algorithms.com/shell-sort)"
   ]
  },
  {
   "cell_type": "markdown",
   "metadata": {},
   "source": [
    "### Solution"
   ]
  },
  {
   "cell_type": "code",
   "execution_count": 79,
   "metadata": {},
   "outputs": [],
   "source": [
    "def shell_sort(arr):\n",
    "    sublists = len(arr) // 2\n",
    "    while sublists > 0:\n",
    "        for start in range(sublists):\n",
    "            gap_insertion_sort(arr, start, sublists)\n",
    "        sublists //= 2\n",
    "\n",
    "def gap_insertion_sort(arr, start, gap):\n",
    "    for i in range(start + gap, len(arr), gap):\n",
    "        curr_value = arr[i]\n",
    "        j = i\n",
    "        while j >= gap and arr[j - gap] > curr_value:\n",
    "            arr[j] = arr[j - gap]\n",
    "            j -= gap\n",
    "        arr[j] = curr_value"
   ]
  },
  {
   "cell_type": "markdown",
   "metadata": {},
   "source": [
    "### Test"
   ]
  },
  {
   "cell_type": "code",
   "execution_count": 80,
   "metadata": {},
   "outputs": [
    {
     "name": "stdout",
     "output_type": "stream",
     "text": [
      "[1, 2, 3, 4, 5, 6, 7, 8, 13, 20]\n"
     ]
    }
   ],
   "source": [
    "arr = [3, 2, 13, 4, 6, 5, 7, 8, 1, 20]\n",
    "shell_sort(arr)\n",
    "print(arr)"
   ]
  },
  {
   "cell_type": "markdown",
   "metadata": {},
   "source": [
    "<a id='34'></a>\n",
    "## 34. Implement a Merge Sort\n",
    "### Problem\n",
    "\n",
    "Merge sort is a recursive algorithm that continually splits a list in half. If the list is empty or has one item, it is sorted by definition (the base case). If the list has more than one item, we split the list and recursively invoke a merge sort on both halves. Once the two halves are sorted, the fundamental operation, called a merge, is performed. Merging is the process of taking two smaller sorted lists and combining them together into a single, sorted, new list.\n",
    "\n",
    "* [Wikipedia](https://en.wikipedia.org/wiki/Merge_sort)\n",
    "* [Visual Algo](http://visualgo.net/sorting.html)\n",
    "* [Sorting Algorithms Animcation with Pseudocode](http://www.sorting-algorithms.com/merge-sort)"
   ]
  },
  {
   "cell_type": "markdown",
   "metadata": {},
   "source": [
    "### Solution"
   ]
  },
  {
   "cell_type": "code",
   "execution_count": 75,
   "metadata": {},
   "outputs": [],
   "source": [
    "def merge_sort(arr):\n",
    "    if len(arr) > 1:\n",
    "        mid = len(arr) // 2\n",
    "        left = arr[: mid]\n",
    "        right = arr[mid:]\n",
    "        merge_sort(left)\n",
    "        merge_sort(right)\n",
    "        i = j = k = 0\n",
    "        while i < len(left) and j < len(right):\n",
    "            if left[i] < right[j]:\n",
    "                arr[k] = left[i]\n",
    "                i += 1\n",
    "            else:\n",
    "                arr[k]=right[j]\n",
    "                j += 1\n",
    "            k += 1\n",
    "        while i < len(left):\n",
    "            arr[k] = left[i]\n",
    "            i += 1\n",
    "            k += 1\n",
    "        while j < len(right):\n",
    "            arr[k]=right[j]\n",
    "            j += 1\n",
    "            k += 1\n",
    "    print('Merging ', arr)"
   ]
  },
  {
   "cell_type": "markdown",
   "metadata": {},
   "source": [
    "### Test"
   ]
  },
  {
   "cell_type": "code",
   "execution_count": 76,
   "metadata": {},
   "outputs": [
    {
     "name": "stdout",
     "output_type": "stream",
     "text": [
      "Merging  [3]\n",
      "Merging  [2]\n",
      "Merging  [2, 3]\n",
      "Merging  [13]\n",
      "Merging  [4]\n",
      "Merging  [6]\n",
      "Merging  [4, 6]\n",
      "Merging  [4, 6, 13]\n",
      "Merging  [2, 3, 4, 6, 13]\n",
      "Merging  [5]\n",
      "Merging  [7]\n",
      "Merging  [5, 7]\n",
      "Merging  [8]\n",
      "Merging  [1]\n",
      "Merging  [20]\n",
      "Merging  [1, 20]\n",
      "Merging  [1, 8, 20]\n",
      "Merging  [1, 5, 7, 8, 20]\n",
      "Merging  [1, 2, 3, 4, 5, 6, 7, 8, 13, 20]\n",
      "[1, 2, 3, 4, 5, 6, 7, 8, 13, 20]\n"
     ]
    }
   ],
   "source": [
    "arr = [3, 2, 13, 4, 6, 5, 7, 8, 1, 20]\n",
    "merge_sort(arr)\n",
    "print(arr)"
   ]
  },
  {
   "cell_type": "markdown",
   "metadata": {},
   "source": [
    "<a id='35'></a>\n",
    "## 35. Implement a Quick Sort\n",
    "### Problem\n",
    "\n",
    "A quick sort first selects a value, which is called the pivot value. Although there are many different ways to choose the pivot value, we will simply use the first item in the list. The role of the pivot value is to assist with splitting the list. The actual position where the pivot value belongs in the final sorted list, commonly called the split point, will be used to divide the list for subsequent calls to the quick sort.\n",
    "\n",
    "* [Wikipedia](https://en.wikipedia.org/wiki/Quicksort)\n",
    "* [Visual Algo](http://visualgo.net/sorting.html)\n",
    "* [Sorting Algorithms Animcation with Pseudocode](http://www.sorting-algorithms.com/quick-sort)"
   ]
  },
  {
   "cell_type": "markdown",
   "metadata": {},
   "source": [
    "### Solution"
   ]
  },
  {
   "cell_type": "code",
   "execution_count": 114,
   "metadata": {},
   "outputs": [],
   "source": [
    "def quick_sort(arr):\n",
    "    quick_sort_help(arr, 0, len(arr) - 1)\n",
    "\n",
    "def quick_sort_help(arr, first, last):\n",
    "    if first < last:\n",
    "        split = partition(arr, first, last)\n",
    "        quick_sort_help(arr, first, split - 1)\n",
    "        quick_sort_help(arr, split + 1, last)\n",
    "\n",
    "def partition(arr, first, last):\n",
    "    pivot = arr[first]\n",
    "    left = first + 1\n",
    "    right = last\n",
    "    while True:\n",
    "        while left <= right and arr[left] <= pivot:\n",
    "            left += 1\n",
    "        while arr[right] >= pivot and right >= left:\n",
    "            right -= 1\n",
    "        if right < left:\n",
    "            break\n",
    "        else:\n",
    "            arr[left], arr[right] = arr[right], arr[left]\n",
    "    arr[first], arr[right] = arr[right], arr[first]\n",
    "    return right"
   ]
  },
  {
   "cell_type": "markdown",
   "metadata": {},
   "source": [
    "### Test"
   ]
  },
  {
   "cell_type": "code",
   "execution_count": 116,
   "metadata": {},
   "outputs": [
    {
     "name": "stdout",
     "output_type": "stream",
     "text": [
      "[1, 2, 3, 4, 5, 6, 7, 8, 13, 20]\n"
     ]
    }
   ],
   "source": [
    "arr = [3, 2, 13, 4, 6, 5, 7, 8, 1, 20]\n",
    "quick_sort(arr)\n",
    "print(arr)"
   ]
  },
  {
   "cell_type": "markdown",
   "metadata": {},
   "source": [
    "<a id='36'></a>\n",
    "## 36. Implement a Graph - Using Adjacency List\n",
    "### Problem\n",
    "\n",
    "Using dictionaries, it is easy to implement the adjacency list in Python. In our implementation of the Graph abstract data type we will create two classes: **Graph**, which holds the master list of vertices, and **Vertex**, which will represent each vertex in the graph.\n",
    "\n",
    "Each Vertex uses a dictionary to keep track of the vertices to which it is connected, and the weight of each edge. This dictionary is called **connectedTo**. The constructor simply initializes the id, which will typically be a string, and the **connectedTo** dictionary. The **addNeighbor** method is used add a connection from this vertex to another. The **getConnections** method returns all of the vertices in the adjacency list, as represented by the **connectedTo** instance variable. The **getWeight** method returns the weight of the edge from this vertex to the vertex passed as a parameter.\n",
    "\n",
    "In order to implement a Graph as an Adjacency List what we need to do is define the methods our Adjacency List object will have:\n",
    "\n",
    "* **Graph()** creates a new, empty graph.\n",
    "* **addVertex(vert)** adds an instance of Vertex to the graph.\n",
    "* **addEdge(fromVert, toVert)** Adds a new, directed edge to the graph that connects two vertices.\n",
    "* **addEdge(fromVert, toVert, weight)** Adds a new, weighted, directed edge to the graph that connects two vertices.\n",
    "* **getVertex(vertKey)** finds the vertex in the graph named vertKey.\n",
    "* **getVertices()** returns the list of all vertices in the graph. \n",
    "* **in** returns True for a statement of the form vertex in graph, if the given vertex is in the graph, False otherwise."
   ]
  },
  {
   "cell_type": "markdown",
   "metadata": {},
   "source": [
    "### Solution"
   ]
  },
  {
   "cell_type": "code",
   "execution_count": 13,
   "metadata": {},
   "outputs": [],
   "source": [
    "class Vertex:\n",
    "    def __init__(self, key):\n",
    "        self.id = key\n",
    "        self.connected_to = {}\n",
    "\n",
    "    def add_neighbor(self, nbr, weight=0):\n",
    "        self.connected_to[nbr] = weight\n",
    "\n",
    "    def get_connections(self):\n",
    "        return self.connected_to.keys()\n",
    "\n",
    "    def get_id(self):\n",
    "        return self.id\n",
    "\n",
    "    def get_weight(self, nbr):\n",
    "        return self.connected_to[nbr]\n",
    "    \n",
    "    def __str__(self):\n",
    "        return str(self.id) + ' connected to: ' + str([x.id for x in self.connected_to])\n",
    "    \n",
    "class Graph:\n",
    "    def __init__(self):\n",
    "        self.vert_list = {}\n",
    "        self.num_vertices = 0\n",
    "\n",
    "    def add_vertex(self, key):\n",
    "        self.num_vertices += 1\n",
    "        new_vertex = Vertex(key)\n",
    "        self.vert_list[key] = new_vertex\n",
    "        return new_vertex\n",
    "\n",
    "    def get_vertex(self, n):\n",
    "        if n in self.vert_list:\n",
    "            return self.vert_list[n]\n",
    "        else:\n",
    "            return None\n",
    "        \n",
    "    def get_vertices(self):\n",
    "        return self.vert_list.keys()        \n",
    "\n",
    "    def add_edge(self, f, t, cost=0):\n",
    "        if f not in self.vert_list:\n",
    "            nv = self.add_vertex(f)\n",
    "        if t not in self.vert_list:\n",
    "            nv = self.add_vertex(t)\n",
    "        self.vert_list[f].add_neighbor(self.vert_list[t], cost)\n",
    "\n",
    "    def __iter__(self):\n",
    "        return iter(self.vert_list.values())\n",
    "    \n",
    "    def __contains__(self, n):\n",
    "        return n in self.vert_list    "
   ]
  },
  {
   "cell_type": "markdown",
   "metadata": {},
   "source": [
    "### Test"
   ]
  },
  {
   "cell_type": "code",
   "execution_count": 9,
   "metadata": {},
   "outputs": [
    {
     "name": "stdout",
     "output_type": "stream",
     "text": [
      "dict_keys([0, 1, 2, 3, 4, 5])\n",
      "0 connected to: [1]\n",
      "dict_keys([<__main__.Vertex object at 0x7fd2c82e7550>])\n",
      "1 connected to: []\n",
      "dict_keys([])\n",
      "2 connected to: [4]\n",
      "dict_keys([<__main__.Vertex object at 0x7fd2c82e7710>])\n",
      "3 connected to: []\n",
      "dict_keys([])\n",
      "4 connected to: []\n",
      "dict_keys([])\n",
      "5 connected to: [3]\n",
      "dict_keys([<__main__.Vertex object at 0x7fd2c82e7588>])\n"
     ]
    }
   ],
   "source": [
    "g = Graph()\n",
    "for i in range(6):\n",
    "    g.add_vertex(i)\n",
    "g.add_edge(0, 1, 2)\n",
    "g.add_edge(2, 4, 8)\n",
    "g.add_edge(5, 3, 11)\n",
    "print(g.get_vertices())\n",
    "for vertex in g:\n",
    "    print(vertex)\n",
    "    print(vertex.get_connections())"
   ]
  },
  {
   "cell_type": "markdown",
   "metadata": {},
   "source": [
    "<a id='37'></a>\n",
    "## 37. Implement a Breadth First Search\n",
    "### Problem\n",
    "\n",
    "Breath First search provides us with the ability to return the same results as DFS but with the added guarantee to return the shortest-path first. This algorithm is a little more tricky to implement in a recursive manner instead using the queue data-structure, as such I will only being documenting the iterative approach. The actions performed per each explored vertex are the same as the depth-first implementation, however, replacing the stack with a queue will instead explore the breadth of a vertex depth before moving on. This behavior guarantees that the first path located is one of the shortest-paths present, based on number of edges being the cost factor.\n",
    "\n",
    "Resources:\n",
    "* [Depth-and Breadth-First Search](http://jeremykun.com/2013/01/22/depth-and-breadth-first-search/)\n",
    "* [Connected component](https://en.wikipedia.org/wiki/Connected_component_(graph_theory))\n",
    "* [Adjacency matrix](https://en.wikipedia.org/wiki/Adjacency_matrix)\n",
    "* [Adjacency list](https://en.wikipedia.org/wiki/Adjacency_list)\n",
    "* [Python Gotcha: Default arguments and mutable data structures](https://developmentality.wordpress.com/2010/08/23/python-gotcha-default-arguments/)\n",
    "* [Generators](https://wiki.python.org/moin/Generators)"
   ]
  },
  {
   "cell_type": "markdown",
   "metadata": {},
   "source": [
    "### Solution"
   ]
  },
  {
   "cell_type": "code",
   "execution_count": 28,
   "metadata": {},
   "outputs": [],
   "source": [
    "def breadth_first_search(graph, start):\n",
    "    visited, queue = set(), [start]\n",
    "    while queue:\n",
    "        vertex = queue.pop(0)\n",
    "        if vertex not in visited:\n",
    "            visited.add(vertex)\n",
    "            queue.extend(graph[vertex] - visited)\n",
    "    return visited\n",
    "\n",
    "def breadth_first_search_paths(graph, start, goal):\n",
    "    queue = [(start, [start])]\n",
    "    while queue:\n",
    "        (vertex, path) = queue.pop(0)\n",
    "        for next in graph[vertex] - set(path):\n",
    "            if next == goal:\n",
    "                yield path + [next]\n",
    "            else:\n",
    "                queue.append((next, path + [next]))\n",
    "                \n",
    "def breadth_first_search_shortest_path(graph, start, goal):\n",
    "    try:\n",
    "        return next(breadth_first_search_paths(graph, start, goal))\n",
    "    except StopIteration:\n",
    "        return None                "
   ]
  },
  {
   "cell_type": "markdown",
   "metadata": {},
   "source": [
    "### Test"
   ]
  },
  {
   "cell_type": "code",
   "execution_count": 29,
   "metadata": {},
   "outputs": [
    {
     "name": "stdout",
     "output_type": "stream",
     "text": [
      "{'E', 'D', 'C', 'A', 'F', 'B'}\n",
      "[['A', 'C', 'F'], ['A', 'B', 'E', 'F']]\n",
      "['A', 'C', 'F']\n"
     ]
    }
   ],
   "source": [
    "graph = {'A': set(['B', 'C']),\n",
    "         'B': set(['A', 'D', 'E']),\n",
    "         'C': set(['A', 'F']),\n",
    "         'D': set(['B']),\n",
    "         'E': set(['B', 'F']),\n",
    "         'F': set(['C', 'E'])}\n",
    "print(breadth_first_search(graph, 'A'))\n",
    "print(list(breadth_first_search_paths(graph, 'A', 'F')))\n",
    "print(breadth_first_search_shortest_path(graph, 'A', 'F'))"
   ]
  },
  {
   "cell_type": "markdown",
   "metadata": {},
   "source": [
    "<a id='38'></a>\n",
    "## 38. Implement a Depth First Search\n",
    "### Problem\n",
    "\n",
    "This algorithm we will be discussing is Depth-First search which as the name hints at, explores possible vertices (from a supplied root) down each branch before backtracking. This property allows the algorithm to be implemented succinctly in both iterative and recursive forms. Below is a listing of the actions performed upon each visit to a node.\n",
    "\n",
    "* Mark the current vertex as being visited.\n",
    "* Explore each adjacent vertex that is not included in the visited set.\n",
    "\n",
    "Resources:\n",
    "\n",
    "* [Depth-and Breadth-First Search](http://jeremykun.com/2013/01/22/depth-and-breadth-first-search/)\n",
    "* [Connected component](https://en.wikipedia.org/wiki/Connected_component_(graph_theory))\n",
    "* [Adjacency matrix](https://en.wikipedia.org/wiki/Adjacency_matrix)\n",
    "* [Adjacency list](https://en.wikipedia.org/wiki/Adjacency_list)\n",
    "* [Python Gotcha: Default arguments and mutable data structures](https://developmentality.wordpress.com/2010/08/23/python-gotcha-default-arguments/)\n",
    "* [Generators](https://wiki.python.org/moin/Generators)"
   ]
  },
  {
   "cell_type": "markdown",
   "metadata": {},
   "source": [
    "### Solution"
   ]
  },
  {
   "cell_type": "code",
   "execution_count": 26,
   "metadata": {},
   "outputs": [],
   "source": [
    "def depth_first_search(graph, start, visited=None):\n",
    "    if visited is None:\n",
    "        visited = set()\n",
    "    visited.add(start)\n",
    "    for nxt in graph[start] - visited:\n",
    "        depth_first_search(graph, nxt, visited)\n",
    "    return visited\n",
    "\n",
    "def depth_first_search_paths(graph, start, goal):\n",
    "    stack = [(start, [start])]\n",
    "    while stack:\n",
    "        (vertex, path) = stack.pop()\n",
    "        for nxt in graph[vertex] - set(path):\n",
    "            if nxt == goal:\n",
    "                yield path + [nxt]\n",
    "            else:\n",
    "                stack.append((nxt, path + [nxt]))\n",
    "                \n",
    "def depth_first_search_shortest_path(graph, start, goal):\n",
    "    try:\n",
    "        return next(depth_first_search_paths(graph, start, goal))\n",
    "    except StopIteration:\n",
    "        return None                    "
   ]
  },
  {
   "cell_type": "markdown",
   "metadata": {},
   "source": [
    "### Test"
   ]
  },
  {
   "cell_type": "code",
   "execution_count": 27,
   "metadata": {},
   "outputs": [
    {
     "name": "stdout",
     "output_type": "stream",
     "text": [
      "{'E', 'D', 'C', 'A', 'F', 'B'}\n",
      "[['A', 'C', 'F'], ['A', 'B', 'E', 'F']]\n",
      "['A', 'C', 'F']\n"
     ]
    }
   ],
   "source": [
    "graph = {'A': set(['B', 'C']),\n",
    "         'B': set(['A', 'D', 'E']),\n",
    "         'C': set(['A', 'F']),\n",
    "         'D': set(['B']),\n",
    "         'E': set(['B', 'F']),\n",
    "         'F': set(['C', 'E'])}\n",
    "print(depth_first_search(graph, 'A'))\n",
    "print(list(depth_first_search_paths(graph, 'A', 'F')))\n",
    "print(depth_first_search_shortest_path(graph, 'A', 'F'))"
   ]
  },
  {
   "cell_type": "markdown",
   "metadata": {},
   "source": [
    "<a id='39'></a>\n",
    "## 39. Stock Prices\n",
    "### Problem\n",
    "\n",
    "** You've been given a list of historical stock prices for a single day for Amazon stock. The index of the list represents the timestamp, so the element at index of 0 is the initial price of the stock, the element at index 1 is the next recorded price of the stock for that day, etc. Your task is to write a function that will return the maximum profit possible from the purchase and sale of a single share of Amazon stock on that day. Keep in mind to try to make this as efficient as possible.**\n",
    "\n",
    "\n",
    "For example, if you were given the list of stock prices:\n",
    "\n",
    "prices = [12,11,15,3,10]\n",
    "\n",
    "Then your function would return the maximum possible profit, which would be 7 (buying at 3 and selling at 10).\n",
    "\n",
    "### Requirements\n",
    "\n",
    "** Try to solve this problem with paper/pencil first without using an IDE. Also keep in mind you should be able to come up with a better solution than just brute forcing every possible sale combination **\n",
    "\n",
    "** Also you can't \"short\" a stock, you must buy *before* you sell the stock. **"
   ]
  },
  {
   "cell_type": "markdown",
   "metadata": {},
   "source": [
    "### Solution\n",
    "\n",
    "Let's think about a few things before we start coding. One thing to think about right off the bat is that we can't just find the maximum price and the lowest price and then subtract the two, because the max could come before the min.\n",
    "\n",
    "The brute force method would be to try every possible pair of price combinations, but this would be O(N^2), pretty bad. Also since this is an interview setting you should probably already know that there is a smarter solution.\n",
    "\n",
    "In this case we will use a [greedy algorithm](https://en.wikipedia.org/wiki/Greedy_algorithm) approach. We will iterate through the list of stock prices while keeping track of our maximum profit.\n",
    "\n",
    "That means for every price we will keep track of the lowest price so far and then check if we can get a better profit than our current max."
   ]
  },
  {
   "cell_type": "code",
   "execution_count": 2,
   "metadata": {},
   "outputs": [],
   "source": [
    "def stock_prices(prices):\n",
    "    if len(prices) < 2:\n",
    "        raise Exception('Need at least two stock prices!')\n",
    "\n",
    "    min_price = prices[0]\n",
    "    max_profit = prices[1] - prices[0]\n",
    "    for price in prices[1:]:\n",
    "        comparison_profit = price - min_price\n",
    "        max_profit = max(max_profit, comparison_profit)\n",
    "        min_price = min(min_price, price)\n",
    "    return max_profit"
   ]
  },
  {
   "cell_type": "markdown",
   "metadata": {},
   "source": [
    "### Test"
   ]
  },
  {
   "cell_type": "code",
   "execution_count": 3,
   "metadata": {},
   "outputs": [
    {
     "name": "stdout",
     "output_type": "stream",
     "text": [
      "39\n",
      "-1\n"
     ]
    }
   ],
   "source": [
    "print(stock_prices([10,12,14,12,13,11,8,7,6,13,23,45,11,10]))\n",
    "print(stock_prices([30,22,21,5]))"
   ]
  },
  {
   "cell_type": "markdown",
   "metadata": {},
   "source": [
    "<a id='40'></a>\n",
    "## 40. List of Products\n",
    "### Problem\n",
    "\n",
    "** Given a list of integers, write a function that will return a list, in which for each index the element will be the product of all the integers except for the element at that index **\n",
    "\n",
    "**For example, an input of [1,2,3,4] would return [24,12,8,6] by performing [2×3×4,1×3×4,1×2×4,1×2×3] **\n",
    "\n",
    "### Requirements\n",
    "\n",
    "** You can not use division in your answer! Meaning you can't simply multiply all the numbers and then divide by eahc element for each index!**\n",
    "\n",
    "** Try to do this on a white board or with paper/pencil.**"
   ]
  },
  {
   "cell_type": "markdown",
   "metadata": {},
   "source": [
    "### Solution\n",
    "\n",
    "If you look at the list above with the multiplication you'll notice we are repeating multiplications, such as 2 times 3 or 3 times 4 for multiple entries in the new list. \n",
    "\n",
    "We'll want to take a greedy approach and keep track of these results for later re-use at other indices. We'll also need to think about what if a number is zero!\n",
    "\n",
    "In order to find the products of all the integers (except for the integer at that index) we will actually go through our list twice in a greedy fashion. \n",
    "\n",
    "On the first pass we will get the products of all the integers **before** each index, and then on the second pass we will go **backwards** to get the products of all the integers after each index.\n",
    "\n",
    "Then we just need to multiply all the products before and after each index in order to get the final product answer!"
   ]
  },
  {
   "cell_type": "code",
   "execution_count": 9,
   "metadata": {},
   "outputs": [],
   "source": [
    "def list_of_productions(lst):\n",
    "    output = [None] * len(lst)\n",
    "    product = 1\n",
    "    i = 0\n",
    "    while i < len(lst):\n",
    "        output[i] = product\n",
    "        product *= lst[i]\n",
    "        i +=1\n",
    "    product = 1\n",
    "    i = len(lst) - 1\n",
    "    while i >=0:\n",
    "        output[i] *= product\n",
    "        product *= lst[i]\n",
    "        i -= 1\n",
    "    return output   "
   ]
  },
  {
   "cell_type": "markdown",
   "metadata": {},
   "source": [
    "### Test"
   ]
  },
  {
   "cell_type": "code",
   "execution_count": 10,
   "metadata": {},
   "outputs": [
    {
     "name": "stdout",
     "output_type": "stream",
     "text": [
      "[24, 12, 8, 6]\n",
      "[24, 0, 0, 0, 0]\n"
     ]
    }
   ],
   "source": [
    "print(list_of_productions([1, 2, 3, 4]))\n",
    "print(list_of_productions([0, 1, 2, 3, 4]))"
   ]
  },
  {
   "cell_type": "markdown",
   "metadata": {},
   "source": [
    "<a id='41'></a>\n",
    "## 41. Overlap Rectangles\n",
    "### Problem\n",
    "\n",
    "** Given two rectangles, determine if they overlap. The rectangles are defined as a Dictionary, for example: **\n",
    "\n",
    "r1 = {'x': 2 , 'y': 4, 'w':5,'h':12}\n",
    "\n",
    "** If the rectangles do overlap, return the dictionary which describes the overlapping section **\n",
    "\n",
    "### Requirements\n",
    "\n",
    "** You can not use division in your answer! Meaning you can't simply multiply all the numbers and then divide by eahc element for each index!**\n",
    "\n",
    "** Try to do this on a white board or with paper/pencil.**"
   ]
  },
  {
   "cell_type": "markdown",
   "metadata": {},
   "source": [
    "### Solution\n",
    "\n",
    "This is a problem where it helps a lot to draw out your thinking. There are a few things we will need to think about:\n",
    "\n",
    "* How can we determine an intersection?\n",
    "* What if a rectangle is fully inside another rectangle?\n",
    "* What if there is no intersection, but the rectangles share an edge?\n",
    "\n",
    "The key to solving this problem is to *break it up in to sub-problems*. We can split up the problem into an x-axis problem and a y-axis problem. \n",
    "\n",
    "We will create a function that can detect overlap in 1 dimension. Then we will split the rectangles into x and width, and y and height components. We can then determine that if there is overlap on both dimensions, then the rectangles themselves intersect!\n",
    "\n",
    "In order to understand the **calc_overlap** function, draw out two flat lines and follow along with the function and notice how it detects an overlap!\n",
    "\n",
    "Let's begin by creating a general function to detect overlap in a single dimension:"
   ]
  },
  {
   "cell_type": "code",
   "execution_count": 12,
   "metadata": {},
   "outputs": [],
   "source": [
    "def calc_overlap(coor1, dim1, coor2, dim2):\n",
    "    greater = max(coor1, coor2)\n",
    "    lower = min(coor1 + dim1, coor2 + dim2)\n",
    "    if greater >= lower:\n",
    "        return (None, None)\n",
    "    overlap = lower - greater\n",
    "    return (greater, overlap)\n",
    "\n",
    "def calc_rect_overlap(r1, r2):\n",
    "    x_overlap, w_overlap = calc_overlap(r1['x'], r1['w'], r2['x'], r2['w'])\n",
    "    y_overlap, h_overlap = calc_overlap(r1['y'], r1['h'], r2['y'], r2['h'])\n",
    "    if not w_overlap or not h_overlap:\n",
    "        print('There was no overlap!')\n",
    "        return None\n",
    "    return {'x': x_overlap, 'y': y_overlap, 'w': w_overlap, 'h': h_overlap}"
   ]
  },
  {
   "cell_type": "markdown",
   "metadata": {},
   "source": [
    "### Test"
   ]
  },
  {
   "cell_type": "code",
   "execution_count": 13,
   "metadata": {},
   "outputs": [
    {
     "name": "stdout",
     "output_type": "stream",
     "text": [
      "{'x': 2, 'y': 5, 'w': 5, 'h': 11}\n"
     ]
    }
   ],
   "source": [
    "r1 = {'x': 2, 'y': 4, 'w': 5, 'h': 12}\n",
    "r2 = {'x': 1, 'y': 5, 'w': 7, 'h': 14}\n",
    "print(calc_rect_overlap(r1, r2))"
   ]
  },
  {
   "cell_type": "markdown",
   "metadata": {},
   "source": [
    "<a id='42'></a>\n",
    "## 42. Dice Simulation №1\n",
    "### Problem\n",
    "\n",
    "** Given a dice which rolls 1 to 7 (with uniform probability), simulate a 5 sided dice. Preferably, write your solution as a function. **\n",
    "\n",
    "### Requirements\n",
    "\n",
    "** You MUST do this on pen and paper or on a whiteboard. No actual coding is allowed until you've solved it on pen and paper! **"
   ]
  },
  {
   "cell_type": "markdown",
   "metadata": {},
   "source": [
    "### Solution\n",
    "\n",
    "This is a new problem we haven't seen directly before! Many times this question is asked in the form of functions e.g. your given a function random_7() and you have to take it as an input and create random_5()\n",
    "\n",
    "The key to solving this problem is to make sure you focus on the requirement that the final distribution of the rolls be uniform, also you were not given any requirements on Time and Space, so the solution is actually *very* simple, just keep re-rolling if you get a number greater than 5!\n",
    "\n",
    "We can code this out:"
   ]
  },
  {
   "cell_type": "code",
   "execution_count": 34,
   "metadata": {},
   "outputs": [],
   "source": [
    "def dice_simulation_7_5():\n",
    "    roll = 7\n",
    "    while roll > 5:\n",
    "        roll = randint(1, 7)\n",
    "        print('Dice produced a roll of ', roll)\n",
    "    print('Your final returned roll is below:')\n",
    "    return roll"
   ]
  },
  {
   "cell_type": "markdown",
   "metadata": {},
   "source": [
    "### Test"
   ]
  },
  {
   "cell_type": "code",
   "execution_count": 42,
   "metadata": {},
   "outputs": [
    {
     "name": "stdout",
     "output_type": "stream",
     "text": [
      "Dice produced a roll of  7\n",
      "Dice produced a roll of  3\n",
      "Your final returned roll is below:\n",
      "3\n"
     ]
    }
   ],
   "source": [
    "print(dice_simulation_7_5())"
   ]
  },
  {
   "cell_type": "markdown",
   "metadata": {},
   "source": [
    "<a id='43'></a>\n",
    "## 43. Dice Simulation №2\n",
    "### Problem\n",
    "\n",
    "** Given a dice which rolls from 1 to 5, simulate a uniform 7 sided dice! **\n",
    "\n",
    "### Requirements\n",
    "\n",
    "** You MUST do this on pen and paper or on a whiteboard. No actual coding is allowed until you've solved it on pen and paper! **"
   ]
  },
  {
   "cell_type": "markdown",
   "metadata": {},
   "source": [
    "### Solution\n",
    "\n",
    "Because the 5 sided dice can not produce 7 possible outcomes on a single roll, we immediately know that we need to roll the dice at least twice.  \n",
    "\n",
    "If we roll the dice twice we have 25 possible combinations of the results of the two rolls. While 25 is not divisible by 7, 21 is. This means we can implement our previous strategy of throwing out rolls not in our intended range.\n",
    "\n",
    "It's also important to note that we can't expand the solution to implement more rolls in order to not throw any out, because 5 and 7 are both prime which means that no exponent of 5 will be divisible by 7 no matter how high you go.\n",
    "\n",
    "We will define our range as a section of the 25 possible combinations of rolls. A good way to do this is by converting the two rolls into a unique outcome number in the range 1 through 25.\n",
    "\n",
    "We will create this number by taking the rolls, then we take the first roll and after subtracting 1 from it we multiply it by 5. Now the first roll corresponds with a value of 0, 5, 10, 15 and 20.\n",
    "\n",
    "Then we take the second roll and add it to the result of the first manipulation. Giving us a range of 1-25.\n",
    "\n",
    "So our final solution is to roll the dice twice. Check the manipulated range from 1 to 25, if its greater than 21, do a reroll. Let's see it in action:"
   ]
  },
  {
   "cell_type": "code",
   "execution_count": 47,
   "metadata": {},
   "outputs": [],
   "source": [
    "def dice_simulation_5_7():\n",
    "    while True:\n",
    "        roll_1 = randint(1, 5)\n",
    "        roll_2 = randint(1, 5)\n",
    "        print('Roll №1: ', roll_1)\n",
    "        print('Roll №2: ', roll_2)\n",
    "        num = (roll_1 - 1) * 5 + roll_2 \n",
    "        if num > 21:\n",
    "            continue\n",
    "        return num % 7 + 1"
   ]
  },
  {
   "cell_type": "markdown",
   "metadata": {},
   "source": [
    "### Test"
   ]
  },
  {
   "cell_type": "code",
   "execution_count": 48,
   "metadata": {},
   "outputs": [
    {
     "name": "stdout",
     "output_type": "stream",
     "text": [
      "Roll №1:  5\n",
      "Roll №2:  3\n",
      "Roll №1:  1\n",
      "Roll №2:  1\n",
      "2\n"
     ]
    }
   ],
   "source": [
    "print(dice_simulation_5_7())"
   ]
  },
  {
   "cell_type": "markdown",
   "metadata": {},
   "source": [
    "<a id='44'></a>\n",
    "## 44. Nearest Integer Squareroot\n",
    "### Problem\n",
    "\n",
    "** Find the squareroot of a given number rounded down to the nearest integer, without using the sqrt function. For example, squareroot of a number between [9, 15] should return 3, and [16, 24] should be 4. **\n",
    "\n",
    "### Requirements\n",
    "\n",
    "** Feel free to code this out (but its recommended that you use paper/pencil or whiteboard)**"
   ]
  },
  {
   "cell_type": "markdown",
   "metadata": {},
   "source": [
    "### Solution\n",
    "\n",
    "The squareroot of a (non-negative) number N always lies between 0 and N/2. The straightforward way to solve this problem would be to check every number k between 0 and N/2, until the square of k becomes greater than or rqual to N. If k^2 becomes equal to N, then we return k. Otherwise, we return k-1 because we're rounding down. Here's the code:"
   ]
  },
  {
   "cell_type": "code",
   "execution_count": 51,
   "metadata": {},
   "outputs": [],
   "source": [
    "def nearest_integer_squareroot(num): \n",
    "    if num < 0: \n",
    "        raise ValueError \n",
    "    if num == 1: \n",
    "        return 1 \n",
    "    low = 0\n",
    "    high = 1 + (num // 2) \n",
    "    while low + 1 < high:\n",
    "        mid = low + (high - low) // 2 \n",
    "        square = mid**2 \n",
    "        if square == num: \n",
    "            return mid \n",
    "        elif square < num: \n",
    "            low = mid\n",
    "        else: \n",
    "            high = mid \n",
    "    return low"
   ]
  },
  {
   "cell_type": "markdown",
   "metadata": {},
   "source": [
    "### Test"
   ]
  },
  {
   "cell_type": "code",
   "execution_count": 52,
   "metadata": {},
   "outputs": [
    {
     "name": "stdout",
     "output_type": "stream",
     "text": [
      "3\n",
      "3\n",
      "4\n"
     ]
    }
   ],
   "source": [
    "print(nearest_integer_squareroot(14))\n",
    "print(nearest_integer_squareroot(15))\n",
    "print(nearest_integer_squareroot(16))"
   ]
  },
  {
   "cell_type": "markdown",
   "metadata": {},
   "source": [
    "<a id='45'></a>\n",
    "## 45. Three Integers Product\n",
    "### Problem\n",
    "\n",
    "** Given a list of integers, find the largest product you could make from 3 integers in the list **\n",
    "\n",
    "### Requirements\n",
    "\n",
    "** You can assume that the list will always have at least 3 integers **\n",
    "\n",
    "** Paper/pencil only, don't code this out until you've solved it as far as you can by hand. **"
   ]
  },
  {
   "cell_type": "markdown",
   "metadata": {},
   "source": [
    "### Solution\n",
    "\n",
    "We can solve this problem in O(n) time with O(1) space, we should also be able to take into account negative numbers, so that a list like: [-5,-5,1,3] returns (-5)(-5)(3) = 75 as its answer.\n",
    "\n",
    "Hopefully you've begun to realize the similarity between this problem and the Amazon stock problem from the E-Commerce Company mock interview questions! You could brute force this problem by just simply trying every single combination of three digits, but this would require O(n^3) time!\n",
    "\n",
    "How about we use a greedy approach and keep track of some numbers. In the stock problem we kept track of max profit so far, in this problem we are actually going to keep track of several numbers:\n",
    "\n",
    "* The highest product of 3 numbers so far\n",
    "* The highest product of 2 numbers so far\n",
    "* The highest number so far\n",
    "\n",
    "Since we want to keep negative numbers in account, we will also keep track of the lowest product of two and the lowest number:\n",
    "\n",
    "* The lowest product of 2\n",
    "* The lowest number\n",
    "\n",
    "Once we iterate through the list and reach the end we will have the highest posiible product with 3 numbers. At each iteration we will take the current highest product of 3 and compare it to the current integer multiplied by the highest and lowest products of 2."
   ]
  },
  {
   "cell_type": "code",
   "execution_count": 2,
   "metadata": {},
   "outputs": [],
   "source": [
    "def three_integers_product(lst):\n",
    "    high = max(lst[0], lst[1])\n",
    "    low = min(lst[0], lst[1])\n",
    "    high_prod2 = lst[0] * lst[1]\n",
    "    low_prod2 = lst[0] * lst[1]\n",
    "    high_prod3 = lst[0] * lst[1] * lst[2]\n",
    "    for num in lst[2:]:\n",
    "        high_prod3 = max(high_prod3, num * high_prod2, num * low_prod2)\n",
    "        high_prod2 = max(high_prod2, num * high, num * low)\n",
    "        low_prod2 = min(low_prod2, num * high, num * low)\n",
    "        high = max(high, num)\n",
    "        low = min(low, num)\n",
    "    return high_prod3"
   ]
  },
  {
   "cell_type": "markdown",
   "metadata": {},
   "source": [
    "### Test"
   ]
  },
  {
   "cell_type": "code",
   "execution_count": 5,
   "metadata": {},
   "outputs": [
    {
     "name": "stdout",
     "output_type": "stream",
     "text": [
      "763092\n",
      "60\n"
     ]
    }
   ],
   "source": [
    "print(three_integers_product([99, -82, 82, 40, 75, -24, 39, -82, 5, 30, -25, -94, 93, -23, 48, 50, 49, -81, 41, 63]))\n",
    "print(three_integers_product([0, 1, 2, 3, 4, 5]))"
   ]
  },
  {
   "cell_type": "markdown",
   "metadata": {},
   "source": [
    "<a id='46'></a>\n",
    "## 46. Coin Denominations\n",
    "### Problem\n",
    "\n",
    "** Write a function that given a target amount of money and a list of possible coin denominations, returns the number of ways to make change for the target amount using the coin denominations**\n",
    "\n",
    "### Requirements\n",
    "\n",
    "** You can assume that the list will always have at least 3 integers **\n",
    "\n",
    "** Write out your work on paper/pencil, then see if you can code up your solution **"
   ]
  },
  {
   "cell_type": "markdown",
   "metadata": {},
   "source": [
    "### Solution\n",
    "\n",
    "This is a classic interview problem, so classic that you've already seen a very similar problem in the recursion section! Make sure to review that problem first before reading our solution here!\n",
    "\n",
    "In this solution we will use a [bottom-up](https://en.wikipedia.org/wiki/Top-down_and_bottom-up_design) algorithm.\n",
    "\n",
    "* As we iterate through each coin, we are adding the ways of making arr[i - coin] to arr[i]\n",
    "* If we have 2 ways of making 4, and are now iterating on a coin of value 3, there should be 2 ways of making 7.\n",
    "* We are essentially adding the coin we are iterating on to the number of ways of making arr[i]."
   ]
  },
  {
   "cell_type": "code",
   "execution_count": 6,
   "metadata": {},
   "outputs": [],
   "source": [
    "def coin_denominations(n, coins):\n",
    "    arr = [1] + [0] * n\n",
    "    for coin in coins:\n",
    "        for i in range(coin, n + 1):\n",
    "            arr[i] += arr[i - coin]\n",
    "    if n == 0:\n",
    "        return 0\n",
    "    else:\n",
    "        return arr[n]"
   ]
  },
  {
   "cell_type": "markdown",
   "metadata": {},
   "source": [
    "### Test"
   ]
  },
  {
   "cell_type": "code",
   "execution_count": 10,
   "metadata": {},
   "outputs": [
    {
     "name": "stdout",
     "output_type": "stream",
     "text": [
      "884\n",
      "73682\n"
     ]
    }
   ],
   "source": [
    "print(coin_denominations(100, [1, 2, 3]))\n",
    "print(coin_denominations(200, [1, 2, 5, 10, 20, 50, 100, 200]))"
   ]
  },
  {
   "cell_type": "markdown",
   "metadata": {},
   "source": [
    "<a id='47'></a>\n",
    "## 47. Two Integers Sum\n",
    "### Problem\n",
    "\n",
    "** Given a list of integers and a target number, write a function that returns a boolean indicating if its possible to sum two integers from the list to reach the target number **\n",
    "\n",
    "### Requirements\n",
    "\n",
    "** Try pen/paper before coding out your solution **\n",
    "\n",
    "** You can not use an integer element twice. Optimize for time over space **"
   ]
  },
  {
   "cell_type": "markdown",
   "metadata": {},
   "source": [
    "### Solution\n",
    "\n",
    "For this problem we will take advantage of a **set** data structure. We will make a single pass through the list of integers, treating each element as the first integer of our possible sum.\n",
    "\n",
    "At each iteration we will check to see if there is a second integer which will allow us hit the target number, adn we will use a set to check if we've already seen it in our list.\n",
    "\n",
    "We will then update our seen set by adding the current number in the iteration to it."
   ]
  },
  {
   "cell_type": "code",
   "execution_count": 11,
   "metadata": {},
   "outputs": [],
   "source": [
    "def two_integers_sum(lst, target):\n",
    "    seen = set()\n",
    "    for num in lst:\n",
    "        num2 = target - num\n",
    "        if num2 in seen:\n",
    "            return True\n",
    "        seen.add(num)\n",
    "    return False"
   ]
  },
  {
   "cell_type": "markdown",
   "metadata": {},
   "source": [
    "### Test"
   ]
  },
  {
   "cell_type": "code",
   "execution_count": 13,
   "metadata": {},
   "outputs": [
    {
     "name": "stdout",
     "output_type": "stream",
     "text": [
      "True\n",
      "False\n"
     ]
    }
   ],
   "source": [
    "print(two_integers_sum([1, 3, 5, 1, 7], 4))\n",
    "print(two_integers_sum([1, 3, 5, 1, 7], 14))"
   ]
  },
  {
   "cell_type": "markdown",
   "metadata": {},
   "source": [
    "<a id='48'></a>\n",
    "## 48. One Unique Integer\n",
    "### Problem\n",
    "\n",
    "** Given a list of account ID numbers (integers) which contains duplicates , find the one unique integer. (the list is guaranteed to only have one unique (non-duplicated) integer **\n",
    "\n",
    "### Requirements\n",
    "\n",
    "** Do not use built-in Python functions or methods **"
   ]
  },
  {
   "cell_type": "markdown",
   "metadata": {},
   "source": [
    "### Solution\n",
    "\n",
    "This should feel very familiar to one of the problems we did in the array section of the course! We can use an [XOR](https://en.wikipedia.org/wiki/Exclusive_or) operation. The **exclusive or** operations will take two sets of bits and for each pair it will return a 1 value if **one but not both** of the bits is 1.\n",
    "\n",
    "In Python we can use the ^ symbol to perform an XOR.\n",
    "\n",
    "Now for our solution we can simply XOR all the integers in the list. We start with a unique id set to 0, then every time we XOR a new id from the list, it will change the bits. When we XOR with the same ID again, it will cancel out the earlier change.\n",
    "\n",
    "By the end, we wil be left with the ID that was unique and only appeared once!"
   ]
  },
  {
   "cell_type": "code",
   "execution_count": 14,
   "metadata": {},
   "outputs": [],
   "source": [
    "def one_unique_integer(id_list):\n",
    "    unique_id = 0\n",
    "    for i in id_list:\n",
    "        unique_id ^= i\n",
    "    return unique_id"
   ]
  },
  {
   "cell_type": "markdown",
   "metadata": {},
   "source": [
    "### Test"
   ]
  },
  {
   "cell_type": "code",
   "execution_count": 16,
   "metadata": {},
   "outputs": [
    {
     "name": "stdout",
     "output_type": "stream",
     "text": [
      "3\n",
      "4\n"
     ]
    }
   ],
   "source": [
    "print(one_unique_integer([1, 2, 2, 3, 1]))\n",
    "print(one_unique_integer([5, 1, 1, 4, 5]))"
   ]
  },
  {
   "cell_type": "markdown",
   "metadata": {},
   "source": [
    "<a id='49'></a>\n",
    "## 49. Unsorted Prices\n",
    "### Problem\n",
    "\n",
    "** Create a function that takes in a list of unsorted prices (integers) and a maximum possible price value, and return a sorted list of prices**\n",
    "\n",
    "### Requirements\n",
    "\n",
    "** Your function should be able to perform this in less than O(nlogn) time. **"
   ]
  },
  {
   "cell_type": "markdown",
   "metadata": {},
   "source": [
    "### Solution\n",
    "\n",
    "We can actually solve this problem by using a [*counting sort*](https://en.wikipedia.org/wiki/Counting_sort). Basically a counting sort works well when you know the range of integer values you will have ahead of time.\n",
    "\n",
    "Read the wikipedia article linked above for a full break down, and an implementation is here below (using the prices situation described in the problem above)."
   ]
  },
  {
   "cell_type": "code",
   "execution_count": 17,
   "metadata": {},
   "outputs": [],
   "source": [
    "def unsorted_prices(prices, max_price):\n",
    "    prices_to_counts = [0] * (max_price + 1)\n",
    "    for price in prices:\n",
    "        prices_to_counts[price] += 1\n",
    "    sorted_prices = []\n",
    "    for price, count in enumerate(prices_to_counts):\n",
    "        for time in range(count):\n",
    "            sorted_prices.append(price)\n",
    "    return sorted_prices"
   ]
  },
  {
   "cell_type": "markdown",
   "metadata": {},
   "source": [
    "### Test"
   ]
  },
  {
   "cell_type": "code",
   "execution_count": 18,
   "metadata": {},
   "outputs": [
    {
     "name": "stdout",
     "output_type": "stream",
     "text": [
      "[2, 3, 4, 6, 7, 8, 9]\n",
      "[1, 2, 5, 10]\n"
     ]
    }
   ],
   "source": [
    "print(unsorted_prices([4, 6, 2, 7, 3, 8, 9], 9))\n",
    "print(unsorted_prices([1, 10, 2, 5], 10))"
   ]
  }
 ],
 "metadata": {
  "kernelspec": {
   "display_name": "Python 3",
   "language": "python",
   "name": "python3"
  },
  "language_info": {
   "codemirror_mode": {
    "name": "ipython",
    "version": 3
   },
   "file_extension": ".py",
   "mimetype": "text/x-python",
   "name": "python",
   "nbconvert_exporter": "python",
   "pygments_lexer": "ipython3",
   "version": "3.6.8"
  }
 },
 "nbformat": 4,
 "nbformat_minor": 2
}
